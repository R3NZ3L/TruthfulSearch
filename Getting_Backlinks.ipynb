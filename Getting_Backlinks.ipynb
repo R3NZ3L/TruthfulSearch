{
 "cells": [
  {
   "cell_type": "code",
   "execution_count": null,
   "id": "d580370d",
   "metadata": {},
   "outputs": [],
   "source": [
    "import pandas as pd\n",
    "import numpy as np\n",
    "from sklearn import preprocessing\n",
    "from googleapiclient.discovery import build\n",
    "from googleapiclient.errors import HttpError\n",
    "import regex as re\n",
    "from jellyfish import jaro_similarity\n",
    "from tqdm import tqdm"
   ]
  },
  {
   "cell_type": "code",
   "execution_count": null,
   "id": "cb5f012d",
   "metadata": {},
   "outputs": [],
   "source": [
    "from selenium import webdriver\n",
    "from selenium.webdriver.common.by import By\n",
    "from selenium.webdriver.support.wait import WebDriverWait\n",
    "from selenium.webdriver.support import expected_conditions as EC\n",
    "from selenium.webdriver.common.keys import Keys\n",
    "from time import sleep"
   ]
  },
  {
   "cell_type": "code",
   "execution_count": null,
   "id": "11fe8bef",
   "metadata": {},
   "outputs": [],
   "source": [
    "filename = \"covid_philippines\"\n",
    "path = \"datasets/\" + filename + \"/\" + filename + \".csv\"\n",
    "video_df = pd.read_csv(path).drop(\"Unnamed: 0\", axis=1)"
   ]
  },
  {
   "cell_type": "code",
   "execution_count": null,
   "id": "9bc9b776",
   "metadata": {},
   "outputs": [],
   "source": [
    "video_df.head()"
   ]
  },
  {
   "cell_type": "code",
   "execution_count": null,
   "id": "365379da",
   "metadata": {},
   "outputs": [],
   "source": [
    "video_id_list = video_df[\"video_id\"].tolist()"
   ]
  },
  {
   "cell_type": "code",
   "execution_count": null,
   "id": "829a4932",
   "metadata": {},
   "outputs": [],
   "source": [
    "for video_id in video_id_list[0:5]:\n",
    "    print(f\"https://www.youtube.com/watch?v={video_id}\")"
   ]
  },
  {
   "cell_type": "markdown",
   "id": "b131788f-4a45-442c-9636-b5fa015203ac",
   "metadata": {},
   "source": [
    "---"
   ]
  },
  {
   "cell_type": "code",
   "execution_count": null,
   "id": "8a993b7e",
   "metadata": {},
   "outputs": [],
   "source": [
    "driver = webdriver.Firefox()\n",
    "driver.get(\"https://www.thehoth.com/backlinks-checker/\")\n",
    "driver.maximize_window()"
   ]
  },
  {
   "cell_type": "code",
   "execution_count": null,
   "id": "b19b3c55-5730-482c-ae7b-7719df4096c5",
   "metadata": {},
   "outputs": [],
   "source": [
    "# Wait for page to load and locate textbox\n",
    "WebDriverWait(driver, 300).until(\n",
    "        EC.frame_to_be_available_and_switch_to_it((By.ID, \"hothtools\"))\n",
    "    )\n",
    "\n",
    "# Wait for textbox to be clickable and then click\n",
    "WebDriverWait(driver, 300).until(\n",
    "        EC.element_to_be_clickable((By.ID, \"targeturl\"))\n",
    "    )\n",
    "\n",
    "# Input video link\n",
    "targeturl = driver.find_element(By.ID, \"targeturl\")\n",
    "targeturl.click()\n",
    "targeturl.send_keys(\"https://www.youtube.com/watch?v=aLZ85hb4wjE\")\n",
    "\n",
    "# Select 'This Exact URL'\n",
    "dropdown = driver.find_element(By.ID, \"mode\")\n",
    "dropdown.click()\n",
    "option = driver.find_element(By.XPATH, \"/html/body/div[2]/div/div/div/form/div[2]/select/option[3]\")\n",
    "option.click()\n",
    "\n",
    "# Submit\n",
    "submit = driver.find_element(By.XPATH, \"/html/body/div[2]/div/div/div/form/div[2]/button\")\n",
    "submit.click()"
   ]
  },
  {
   "cell_type": "code",
   "execution_count": null,
   "id": "f98474ba-8537-4d70-85d3-67b0f10a8438",
   "metadata": {},
   "outputs": [],
   "source": [
    "# In case of Captcha page\n",
    "iframes = driver.find_elements(By.TAG_NAME, \"iframe\")\n",
    "\n",
    "for iframe in iframes:\n",
    "    try:\n",
    "        driver.switch_to.frame(iframe)\n",
    "        checkbox = driver.find_element(By.ID, \"recaptcha-anchor\")\n",
    "        checkbox.click()\n",
    "        break\n",
    "    except:\n",
    "        print(\"Not Found\")\n",
    "        driver.switch_to.default_content()\n",
    "\n",
    "sleep(15)\n",
    "        \n",
    "driver.switch_to.default_content()\n",
    "driver.switch_to.frame(\"hothtools\")\n",
    "submit = driver.find_element(\n",
    "    By.XPATH, \"//*[@id='submit']\"\n",
    ")\n",
    "submit.click()"
   ]
  },
  {
   "cell_type": "code",
   "execution_count": null,
   "id": "e5db1366-1be3-4ad0-8339-8d49d64370c6",
   "metadata": {},
   "outputs": [],
   "source": [
    "# Get external backlinks\n",
    "driver.switch_to.default_content()\n",
    "driver.switch_to.frame(\"hothtools\")\n",
    "# \n",
    "WebDriverWait(driver, 300).until(\n",
    "        EC.visibility_of_element_located(\n",
    "            (By.XPATH, \"/html/body/div[2]/div/div/div[2]/div[2]/div/div/div[1]/div[2]\")\n",
    "        )\n",
    "    )\n",
    "result = driver.find_element(By.XPATH, \"/html/body/div[2]/div/div/div[2]/div[2]/div/div/div[1]/div[2]\")\n",
    "print(result.text)"
   ]
  },
  {
   "cell_type": "markdown",
   "id": "8516d996-7bcf-4e26-9b9e-d5977c2ff524",
   "metadata": {},
   "source": [
    "---"
   ]
  },
  {
   "cell_type": "code",
   "execution_count": null,
   "id": "508bde11",
   "metadata": {},
   "outputs": [],
   "source": [
    "def get_backlinks(video_id_list):\n",
    "    backlinks = {}\n",
    "    \n",
    "    driver = webdriver.Firefox()\n",
    "    driver.get(\"https://www.thehoth.com/backlinks-checker/\")\n",
    "    driver.maximize_window()\n",
    "    \n",
    "    captcha_passed = False\n",
    "    \n",
    "    \n",
    "    try:\n",
    "        for video_id in video_id_list:\n",
    "            # print(\"Inputting video link\")\n",
    "            # Wait for page to load and locate textbox\n",
    "            # print(\"Waiting for frame\")\n",
    "            WebDriverWait(driver, 300).until(\n",
    "                    EC.frame_to_be_available_and_switch_to_it((By.ID, \"hothtools\"))\n",
    "                )\n",
    "\n",
    "            # Wait for textbox to be clickable and then click\n",
    "            # print(\"Waiting for textbox\")\n",
    "            WebDriverWait(driver, 300).until(\n",
    "                    EC.element_to_be_clickable((By.ID, \"targeturl\"))\n",
    "                )\n",
    "\n",
    "            # Input video link\n",
    "            targeturl = driver.find_element(By.ID, \"targeturl\")\n",
    "            targeturl.click()\n",
    "            targeturl.send_keys(Keys.CONTROL + \"A\")\n",
    "            targeturl.send_keys(Keys.BACKSPACE)\n",
    "            targeturl.send_keys(f\"https://www.youtube.com/watch?v={video_id}\")\n",
    "\n",
    "            # Select 'This Exact URL'\n",
    "            dropdown = driver.find_element(By.ID, \"mode\")\n",
    "            dropdown.click()\n",
    "            option = driver.find_element(By.XPATH, \"/html/body/div[2]/div/div/div/form/div[2]/select/option[3]\")\n",
    "            option.click()\n",
    "\n",
    "            # Submit\n",
    "            submit = driver.find_element(By.XPATH, \"/html/body/div[2]/div/div/div/form/div[2]/button\")\n",
    "            submit.click()\n",
    "\n",
    "            sleep(5)\n",
    "\n",
    "            try:\n",
    "                if not captcha_passed:\n",
    "                    # print(\"Solving CAPTCHA\")\n",
    "                    # In case of Captcha page\n",
    "                    iframes = driver.find_elements(By.TAG_NAME, \"iframe\")\n",
    "                    cont = False\n",
    "                    for iframe in iframes:\n",
    "                        try:\n",
    "                            driver.switch_to.frame(iframe)\n",
    "                            checkbox = driver.find_element(By.ID, \"recaptcha-anchor\")\n",
    "                            checkbox.click()\n",
    "                            cont = True\n",
    "                            break\n",
    "                        except:\n",
    "                            # print(\"Not Found\")\n",
    "                            driver.switch_to.default_content()\n",
    "\n",
    "                    if not cont:\n",
    "                        raise Exception(\"No CAPTCHA iframe found.\")\n",
    "\n",
    "                    # Giving enough time to manually solve CAPTCHA puzzle\n",
    "                    sleep(15)\n",
    "\n",
    "                    driver.switch_to.default_content()\n",
    "                    driver.switch_to.frame(\"hothtools\")\n",
    "                    submit = driver.find_element(\n",
    "                        By.XPATH, \"//*[@id='submit']\"\n",
    "                    )\n",
    "                    submit.click()\n",
    "                    captcha_passed = True\n",
    "                    sleep(3)\n",
    "            except:\n",
    "                pass\n",
    "            finally:\n",
    "                # print(\"Getting results\")\n",
    "                # Get external backlinks\n",
    "                driver.switch_to.default_content()\n",
    "                driver.switch_to.frame(\"hothtools\")\n",
    "                try:\n",
    "                    WebDriverWait(driver, 300).until(\n",
    "                        EC.element_to_be_clickable((By.ID, \"targeturl\"))\n",
    "                    )\n",
    "                    \n",
    "                    result = driver.find_element(\n",
    "                        By.XPATH, \"/html/body/div[2]/div/div/div[2]/div[2]/div/div/div[1]/div[2]\"\n",
    "                    ).text\n",
    "                except:\n",
    "                    result = 0\n",
    "                finally:\n",
    "                    backlinks[video_id] = result\n",
    "                    driver.switch_to.default_content()\n",
    "    except:\n",
    "        print(\"Error raise by Selenium Webdriver. Ending process and saving data.\")\n",
    "    # '''\n",
    "    finally:\n",
    "        driver.close()\n",
    "    # '''\n",
    "    \n",
    "    return backlinks"
   ]
  },
  {
   "cell_type": "code",
   "execution_count": null,
   "id": "05c9e64d-3122-422c-b414-a3a8f6e87607",
   "metadata": {},
   "outputs": [],
   "source": [
    "backlinks = get_backlinks(video_id_list)"
   ]
  },
  {
   "cell_type": "code",
   "execution_count": null,
   "id": "acb887e5-f12f-4feb-b067-31af303b5996",
   "metadata": {},
   "outputs": [],
   "source": [
    "print(f\"Completed: {len(backlinks)}/{len(video_id_list)}\")"
   ]
  },
  {
   "cell_type": "code",
   "execution_count": null,
   "id": "298657c8-337c-4c71-b2c2-e15515bed4e2",
   "metadata": {
    "tags": []
   },
   "outputs": [],
   "source": []
  },
  {
   "cell_type": "code",
   "execution_count": null,
   "id": "31ea35bb",
   "metadata": {},
   "outputs": [],
   "source": []
  },
  {
   "cell_type": "code",
   "execution_count": null,
   "id": "15ed9a3b",
   "metadata": {},
   "outputs": [],
   "source": []
  }
 ],
 "metadata": {
  "kernelspec": {
   "display_name": "Python 3 (ipykernel)",
   "language": "python",
   "name": "python3"
  },
  "language_info": {
   "codemirror_mode": {
    "name": "ipython",
    "version": 3
   },
   "file_extension": ".py",
   "mimetype": "text/x-python",
   "name": "python",
   "nbconvert_exporter": "python",
   "pygments_lexer": "ipython3",
   "version": "3.9.12"
  }
 },
 "nbformat": 4,
 "nbformat_minor": 5
}
