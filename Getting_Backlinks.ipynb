{
 "cells": [
  {
   "cell_type": "code",
   "execution_count": 1,
   "id": "d580370d",
   "metadata": {},
   "outputs": [],
   "source": [
    "import pandas as pd\n",
    "import numpy as np\n",
    "from sklearn import preprocessing\n",
    "from googleapiclient.discovery import build\n",
    "from googleapiclient.errors import HttpError\n",
    "import regex as re\n",
    "from jellyfish import jaro_similarity\n",
    "from tqdm import tqdm"
   ]
  },
  {
   "cell_type": "code",
   "execution_count": 2,
   "id": "cb5f012d",
   "metadata": {},
   "outputs": [],
   "source": [
    "from selenium import webdriver\n",
    "from selenium.webdriver.common.by import By\n",
    "from selenium.webdriver.support.wait import WebDriverWait\n",
    "from selenium.webdriver.support import expected_conditions as EC\n",
    "from selenium.webdriver.common.keys import Keys\n",
    "from time import time\n",
    "from time import sleep\n",
    "from time import strftime\n",
    "from time import gmtime\n",
    "from selenium.common.exceptions import NoSuchElementException"
   ]
  },
  {
   "cell_type": "code",
   "execution_count": 3,
   "id": "11fe8bef",
   "metadata": {},
   "outputs": [],
   "source": [
    "filename = \"covid_vaccine\"\n",
    "path = \"datasets/\" + filename + \"/\" + filename + \".csv\"\n",
    "video_df = pd.read_csv(path).drop(\"Unnamed: 0\", axis=1)"
   ]
  },
  {
   "cell_type": "code",
   "execution_count": 4,
   "id": "365379da",
   "metadata": {},
   "outputs": [],
   "source": [
    "video_id_list = video_df[\"video_id\"].tolist()"
   ]
  },
  {
   "cell_type": "code",
   "execution_count": 5,
   "id": "829a4932",
   "metadata": {},
   "outputs": [
    {
     "name": "stdout",
     "output_type": "stream",
     "text": [
      "https://www.youtube.com/watch?v=im3otpqYAiQ\n",
      "https://www.youtube.com/watch?v=uiwjAj0zfKQ\n",
      "https://www.youtube.com/watch?v=LfmhYVCCGhc\n",
      "https://www.youtube.com/watch?v=SU_SSfiYtfM\n",
      "https://www.youtube.com/watch?v=7MAlEYqWUTk\n"
     ]
    }
   ],
   "source": [
    "for video_id in video_id_list[0:5]:\n",
    "    print(f\"https://www.youtube.com/watch?v={video_id}\")"
   ]
  },
  {
   "cell_type": "markdown",
   "id": "b131788f-4a45-442c-9636-b5fa015203ac",
   "metadata": {},
   "source": [
    "---"
   ]
  },
  {
   "cell_type": "code",
   "execution_count": 6,
   "id": "508bde11",
   "metadata": {},
   "outputs": [],
   "source": [
    "# Automated\n",
    "def get_video_backlinks(video_id_list):\n",
    "    start_time = time()\n",
    "    \n",
    "    backlinks = {}\n",
    "    backlinks[\"video_id\"] = {}\n",
    "    backlinks[\"backlinks\"] = {}\n",
    "    \n",
    "    for i in range(0, len(video_id_list)):\n",
    "        backlinks[\"video_id\"][i] = video_id_list[i]\n",
    "    \n",
    "    index = 0\n",
    "    cont = True\n",
    "    \n",
    "    driver = webdriver.Firefox()\n",
    "    driver.get(\"https://www.thehoth.com/backlinks-checker/\")\n",
    "    \n",
    "    captcha_passed = False\n",
    "    \n",
    "    pbar = tqdm(total=len(video_id_list))\n",
    "    pbar.set_description(\"Getting backlinks...\")\n",
    "    \n",
    "    # print(\"Loop start\")\n",
    "    sleep(5)\n",
    "    video_id_list = video_id_list[index:len(video_id_list)]\n",
    "    \n",
    "    \n",
    "    \n",
    "    for video_id in video_id_list:\n",
    "        # Wait for page to load and locate textbox\n",
    "        # print(\"Waiting for frame\")\n",
    "        WebDriverWait(driver, 200).until(\n",
    "            EC.frame_to_be_available_and_switch_to_it((By.ID, \"hothtools\"))\n",
    "        )\n",
    "        \n",
    "        sleep(1)\n",
    "        \n",
    "        WebDriverWait(driver, 200).until_not(\n",
    "            EC.visibility_of_element_located((By.CLASS_NAME, \"hoth-loader__container\"))\n",
    "        )\n",
    "        \n",
    "        # Input video link\n",
    "        # print(\"Inputting video link\")\n",
    "        notFound = False\n",
    "        while(not notFound):\n",
    "            try:\n",
    "                targeturl = driver.find_element(By.ID, \"targeturl\")\n",
    "                notFound = True\n",
    "            except:\n",
    "                sleep(10)\n",
    "                pass\n",
    "        \n",
    "        targeturl.click()\n",
    "        targeturl.send_keys(Keys.CONTROL + \"A\")\n",
    "        targeturl.send_keys(Keys.BACKSPACE)\n",
    "        targeturl.send_keys(f\"https://www.youtube.com/watch?v={video_id}\")\n",
    "\n",
    "        # Select 'This Exact URL'\n",
    "        dropdown = driver.find_element(By.ID, \"mode\")\n",
    "        dropdown.click()\n",
    "        option = driver.find_element(By.XPATH, \"/html/body/div[2]/div/div/div/form/div[2]/select/option[3]\")\n",
    "        option.click()\n",
    "\n",
    "        # Submit\n",
    "        submit = driver.find_element(By.XPATH, \"/html/body/div[2]/div/div/div/form/div[2]/button\")\n",
    "        submit.click()\n",
    "\n",
    "        sleep(5)\n",
    "\n",
    "        if not captcha_passed:\n",
    "            try:\n",
    "                # In case of Captcha page\n",
    "                # print(\"Solving CAPTCHA\")\n",
    "                iframes = driver.find_elements(By.TAG_NAME, \"iframe\")\n",
    "                cont = False\n",
    "                for iframe in iframes:\n",
    "                    try:\n",
    "                        driver.switch_to.frame(iframe)\n",
    "                        checkbox = driver.find_element(By.ID, \"recaptcha-anchor\")\n",
    "                        checkbox.click()\n",
    "                        cont = True\n",
    "                        break\n",
    "                    except:\n",
    "                        # print(\"Not Found\")\n",
    "                        driver.switch_to.default_content()\n",
    "\n",
    "                if not cont:\n",
    "                    raise Exception(\"No CAPTCHA iframe found.\")\n",
    "\n",
    "                # Giving enough time to manually solve CAPTCHA puzzle\n",
    "                sleep(15)\n",
    "\n",
    "                driver.switch_to.default_content()\n",
    "                driver.switch_to.frame(\"hothtools\")\n",
    "                submit = driver.find_element(\n",
    "                    By.XPATH, \"//*[@id='submit']\"\n",
    "                )\n",
    "                submit.click()\n",
    "                captcha_passed = True\n",
    "                sleep(3)\n",
    "            except:\n",
    "                pass\n",
    "        \n",
    "        # Get external backlinks\n",
    "        # print(\"Getting results\")\n",
    "        driver.switch_to.default_content()\n",
    "        driver.switch_to.frame(\"hothtools\")\n",
    "        try:\n",
    "            # print(\"Waiting for result frame\")\n",
    "            WebDriverWait(driver, 200).until(\n",
    "                EC.element_to_be_clickable((By.ID, \"targeturl\"))\n",
    "            )\n",
    "\n",
    "            result = driver.find_element(\n",
    "                By.XPATH, \"/html/body/div[2]/div/div/div[2]/div[2]/div/div/div[1]/div[2]\"\n",
    "            ).text\n",
    "        except NoSuchElementException:\n",
    "            result = '0'\n",
    "        finally:\n",
    "            backlinks[\"backlinks\"][index] = int(result.replace(',', ''))\n",
    "            # print(f\"--------------------- INDEX {index} COMPLETE ({video_id}: {result}) ---------------------\")\n",
    "            index += 1\n",
    "            pbar.update(1)\n",
    "            driver.switch_to.default_content()\n",
    "    \n",
    "    pbar.close()\n",
    "    elapsed_time = time() - start_time\n",
    "    print('Execution time:', strftime(\"%H:%M:%S\", gmtime(elapsed_time)))\n",
    "    \n",
    "    \n",
    "    return backlinks"
   ]
  },
  {
   "cell_type": "code",
   "execution_count": 7,
   "id": "d06d4056-b2bf-4c64-b3b6-7a17b6479326",
   "metadata": {},
   "outputs": [],
   "source": [
    "# Manual\n",
    "def set_video_backlinks(video_id_list, video_backlinks):\n",
    "    print(\"Copy the YouTube link next to the textbox and find the # of backlinks from the following website:\")\n",
    "    print(\"https://www.thehoth.com/backlinks-checker/\")\n",
    "    print(\"------------------------------\")\n",
    "    \n",
    "    for video_id in video_id_list:\n",
    "        num = int(input(f\"https://www.youtube.com/watch?v={video_id} \"))\n",
    "        video_backlinks[video_id] = num"
   ]
  },
  {
   "cell_type": "code",
   "execution_count": 8,
   "id": "ef741ed1-0c48-497e-b2c2-fda0f89ee98a",
   "metadata": {},
   "outputs": [],
   "source": [
    "# Manual\n",
    "def set_site_backlinks(site_list, site_backlinks):\n",
    "    print(\"Copy the YouTube link next to the textbox and find the # of backlinks from the following website:\")\n",
    "    print(\"https://www.thehoth.com/backlinks-checker/\")\n",
    "    print(\"------------------------------\")\n",
    "    \n",
    "    for link in site_list:\n",
    "        pass"
   ]
  },
  {
   "cell_type": "code",
   "execution_count": 9,
   "id": "05c9e64d-3122-422c-b414-a3a8f6e87607",
   "metadata": {},
   "outputs": [
    {
     "name": "stderr",
     "output_type": "stream",
     "text": [
      "Getting backlinks...: 100%|██████████| 150/150 [19:19<00:00,  7.73s/it]\n"
     ]
    },
    {
     "name": "stdout",
     "output_type": "stream",
     "text": [
      "Execution time: 00:19:47\n"
     ]
    }
   ],
   "source": [
    "backlinks = get_video_backlinks(video_id_list)"
   ]
  },
  {
   "cell_type": "code",
   "execution_count": 11,
   "id": "649afbc3-11cb-4e5e-ae23-81c5359140a6",
   "metadata": {},
   "outputs": [
    {
     "data": {
      "text/html": [
       "<div>\n",
       "<style scoped>\n",
       "    .dataframe tbody tr th:only-of-type {\n",
       "        vertical-align: middle;\n",
       "    }\n",
       "\n",
       "    .dataframe tbody tr th {\n",
       "        vertical-align: top;\n",
       "    }\n",
       "\n",
       "    .dataframe thead th {\n",
       "        text-align: right;\n",
       "    }\n",
       "</style>\n",
       "<table border=\"1\" class=\"dataframe\">\n",
       "  <thead>\n",
       "    <tr style=\"text-align: right;\">\n",
       "      <th></th>\n",
       "      <th>video_id</th>\n",
       "      <th>backlinks</th>\n",
       "    </tr>\n",
       "  </thead>\n",
       "  <tbody>\n",
       "    <tr>\n",
       "      <th>0</th>\n",
       "      <td>im3otpqYAiQ</td>\n",
       "      <td>26</td>\n",
       "    </tr>\n",
       "    <tr>\n",
       "      <th>1</th>\n",
       "      <td>uiwjAj0zfKQ</td>\n",
       "      <td>19</td>\n",
       "    </tr>\n",
       "    <tr>\n",
       "      <th>2</th>\n",
       "      <td>LfmhYVCCGhc</td>\n",
       "      <td>14</td>\n",
       "    </tr>\n",
       "    <tr>\n",
       "      <th>3</th>\n",
       "      <td>SU_SSfiYtfM</td>\n",
       "      <td>1</td>\n",
       "    </tr>\n",
       "    <tr>\n",
       "      <th>4</th>\n",
       "      <td>7MAlEYqWUTk</td>\n",
       "      <td>4</td>\n",
       "    </tr>\n",
       "  </tbody>\n",
       "</table>\n",
       "</div>"
      ],
      "text/plain": [
       "      video_id  backlinks\n",
       "0  im3otpqYAiQ         26\n",
       "1  uiwjAj0zfKQ         19\n",
       "2  LfmhYVCCGhc         14\n",
       "3  SU_SSfiYtfM          1\n",
       "4  7MAlEYqWUTk          4"
      ]
     },
     "execution_count": 11,
     "metadata": {},
     "output_type": "execute_result"
    }
   ],
   "source": [
    "bl_df = pd.DataFrame.from_dict(backlinks)\n",
    "bl_df.head()"
   ]
  },
  {
   "cell_type": "code",
   "execution_count": 12,
   "id": "3975bfb5-3932-4dc9-9231-806053b1c106",
   "metadata": {},
   "outputs": [],
   "source": [
    "path = \"datasets/\" + filename + \"/video_backlinks.csv\"\n",
    "bl_df.to_csv(path)"
   ]
  },
  {
   "cell_type": "code",
   "execution_count": null,
   "id": "c846da2b-c904-4cd0-90ca-94cb74566064",
   "metadata": {},
   "outputs": [],
   "source": []
  },
  {
   "cell_type": "code",
   "execution_count": null,
   "id": "942ce1e0-0c76-474b-8838-59f3cb918154",
   "metadata": {},
   "outputs": [],
   "source": []
  },
  {
   "cell_type": "code",
   "execution_count": null,
   "id": "a79567f7-3cf7-4e3b-b091-f92d842e86f6",
   "metadata": {},
   "outputs": [],
   "source": []
  },
  {
   "cell_type": "code",
   "execution_count": null,
   "id": "41ad58e9-d80a-462f-b109-bf1aec3d3b08",
   "metadata": {},
   "outputs": [],
   "source": []
  },
  {
   "cell_type": "code",
   "execution_count": null,
   "id": "5fb3d9f0-fec6-49d7-a4b2-771cea4b138e",
   "metadata": {},
   "outputs": [],
   "source": []
  },
  {
   "cell_type": "code",
   "execution_count": null,
   "id": "89733a9e-d113-44d2-bd92-36f82aa9c2f3",
   "metadata": {},
   "outputs": [],
   "source": []
  },
  {
   "cell_type": "code",
   "execution_count": null,
   "id": "c56b3aeb-a016-49b5-9882-5236aac3a869",
   "metadata": {},
   "outputs": [],
   "source": []
  }
 ],
 "metadata": {
  "kernelspec": {
   "display_name": "Python 3 (ipykernel)",
   "language": "python",
   "name": "python3"
  },
  "language_info": {
   "codemirror_mode": {
    "name": "ipython",
    "version": 3
   },
   "file_extension": ".py",
   "mimetype": "text/x-python",
   "name": "python",
   "nbconvert_exporter": "python",
   "pygments_lexer": "ipython3",
   "version": "3.9.12"
  }
 },
 "nbformat": 4,
 "nbformat_minor": 5
}
