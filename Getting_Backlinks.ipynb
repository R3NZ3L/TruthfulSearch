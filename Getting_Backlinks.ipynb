{
 "cells": [
  {
   "cell_type": "code",
   "execution_count": 1,
   "id": "d580370d",
   "metadata": {},
   "outputs": [],
   "source": [
    "import pandas as pd\n",
    "import numpy as np\n",
    "from sklearn import preprocessing\n",
    "from googleapiclient.discovery import build\n",
    "from googleapiclient.errors import HttpError\n",
    "import regex as re\n",
    "from jellyfish import jaro_similarity\n",
    "from tqdm import tqdm"
   ]
  },
  {
   "cell_type": "code",
   "execution_count": 2,
   "id": "cb5f012d",
   "metadata": {},
   "outputs": [],
   "source": [
    "from selenium import webdriver\n",
    "from selenium.webdriver.common.by import By\n",
    "from selenium.webdriver.support.wait import WebDriverWait\n",
    "from selenium.webdriver.support import expected_conditions as EC\n",
    "from selenium.webdriver.common.keys import Keys\n",
    "from time import sleep"
   ]
  },
  {
   "cell_type": "code",
   "execution_count": 3,
   "id": "11fe8bef",
   "metadata": {},
   "outputs": [],
   "source": [
    "filename = \"covid_philippines\"\n",
    "path = \"datasets/\" + filename + \"/\" + filename + \".csv\"\n",
    "video_df = pd.read_csv(path).drop(\"Unnamed: 0\", axis=1)"
   ]
  },
  {
   "cell_type": "code",
   "execution_count": 4,
   "id": "9bc9b776",
   "metadata": {},
   "outputs": [
    {
     "data": {
      "text/html": [
       "<div>\n",
       "<style scoped>\n",
       "    .dataframe tbody tr th:only-of-type {\n",
       "        vertical-align: middle;\n",
       "    }\n",
       "\n",
       "    .dataframe tbody tr th {\n",
       "        vertical-align: top;\n",
       "    }\n",
       "\n",
       "    .dataframe thead th {\n",
       "        text-align: right;\n",
       "    }\n",
       "</style>\n",
       "<table border=\"1\" class=\"dataframe\">\n",
       "  <thead>\n",
       "    <tr style=\"text-align: right;\">\n",
       "      <th></th>\n",
       "      <th>video_id</th>\n",
       "      <th>video_title</th>\n",
       "      <th>description</th>\n",
       "      <th>video_dop</th>\n",
       "      <th>view_count</th>\n",
       "      <th>like_count</th>\n",
       "      <th>comment_count</th>\n",
       "      <th>channel_id</th>\n",
       "      <th>video_transcript</th>\n",
       "    </tr>\n",
       "  </thead>\n",
       "  <tbody>\n",
       "    <tr>\n",
       "      <th>0</th>\n",
       "      <td>aLZ85hb4wjE</td>\n",
       "      <td>Normally crowded streets of Philippine capital...</td>\n",
       "      <td>Subscribe to our YouTube channel for free here...</td>\n",
       "      <td>2020-04-02</td>\n",
       "      <td>325340</td>\n",
       "      <td>3291</td>\n",
       "      <td>619</td>\n",
       "      <td>UC4SUWizzKc1tptprBkWjX2Q</td>\n",
       "      <td>NaN</td>\n",
       "    </tr>\n",
       "    <tr>\n",
       "      <th>1</th>\n",
       "      <td>sYI97jv-pZg</td>\n",
       "      <td>PH records 2,725 new COVID cases from Dec. 12 ...</td>\n",
       "      <td>The World Tonight: The daily average of the Ph...</td>\n",
       "      <td>2023-12-18</td>\n",
       "      <td>2329</td>\n",
       "      <td>15</td>\n",
       "      <td>3</td>\n",
       "      <td>UCvi6hEzLM-Z_unKPSuuzKvg</td>\n",
       "      <td>NaN</td>\n",
       "    </tr>\n",
       "    <tr>\n",
       "      <th>2</th>\n",
       "      <td>3YFpjgIQqEo</td>\n",
       "      <td>WATCH: DOH Usec. Tayag on rise of COVID-19 cas...</td>\n",
       "      <td>Dateline Philippines: Karmina Constantino talk...</td>\n",
       "      <td>2023-12-07</td>\n",
       "      <td>9812</td>\n",
       "      <td>81</td>\n",
       "      <td>17</td>\n",
       "      <td>UCvi6hEzLM-Z_unKPSuuzKvg</td>\n",
       "      <td>NaN</td>\n",
       "    </tr>\n",
       "    <tr>\n",
       "      <th>3</th>\n",
       "      <td>dIsaz_XlmTw</td>\n",
       "      <td>DOH logs 18 cases of JN.1 COVID-19 variant in PH</td>\n",
       "      <td>The Department of Health says it has already d...</td>\n",
       "      <td>2023-12-24</td>\n",
       "      <td>38328</td>\n",
       "      <td>89</td>\n",
       "      <td>81</td>\n",
       "      <td>UCvRAX-ujvZ0eTMLGG2vki9w</td>\n",
       "      <td>the Department of Health on Sunday said it ha...</td>\n",
       "    </tr>\n",
       "    <tr>\n",
       "      <th>4</th>\n",
       "      <td>DWxIvQlpJK8</td>\n",
       "      <td>Metro Manila to be placed on lockdown due to c...</td>\n",
       "      <td>Subscribe: https://www.youtube.com/@Rappler/\\n...</td>\n",
       "      <td>2020-03-12</td>\n",
       "      <td>107280</td>\n",
       "      <td>750</td>\n",
       "      <td>19</td>\n",
       "      <td>UCdnZdQxYXnbN4uWJg96oGxw</td>\n",
       "      <td>NaN</td>\n",
       "    </tr>\n",
       "  </tbody>\n",
       "</table>\n",
       "</div>"
      ],
      "text/plain": [
       "      video_id                                        video_title  \\\n",
       "0  aLZ85hb4wjE  Normally crowded streets of Philippine capital...   \n",
       "1  sYI97jv-pZg  PH records 2,725 new COVID cases from Dec. 12 ...   \n",
       "2  3YFpjgIQqEo  WATCH: DOH Usec. Tayag on rise of COVID-19 cas...   \n",
       "3  dIsaz_XlmTw   DOH logs 18 cases of JN.1 COVID-19 variant in PH   \n",
       "4  DWxIvQlpJK8  Metro Manila to be placed on lockdown due to c...   \n",
       "\n",
       "                                         description   video_dop  view_count  \\\n",
       "0  Subscribe to our YouTube channel for free here...  2020-04-02      325340   \n",
       "1  The World Tonight: The daily average of the Ph...  2023-12-18        2329   \n",
       "2  Dateline Philippines: Karmina Constantino talk...  2023-12-07        9812   \n",
       "3  The Department of Health says it has already d...  2023-12-24       38328   \n",
       "4  Subscribe: https://www.youtube.com/@Rappler/\\n...  2020-03-12      107280   \n",
       "\n",
       "   like_count  comment_count                channel_id  \\\n",
       "0        3291            619  UC4SUWizzKc1tptprBkWjX2Q   \n",
       "1          15              3  UCvi6hEzLM-Z_unKPSuuzKvg   \n",
       "2          81             17  UCvi6hEzLM-Z_unKPSuuzKvg   \n",
       "3          89             81  UCvRAX-ujvZ0eTMLGG2vki9w   \n",
       "4         750             19  UCdnZdQxYXnbN4uWJg96oGxw   \n",
       "\n",
       "                                    video_transcript  \n",
       "0                                                NaN  \n",
       "1                                                NaN  \n",
       "2                                                NaN  \n",
       "3   the Department of Health on Sunday said it ha...  \n",
       "4                                                NaN  "
      ]
     },
     "execution_count": 4,
     "metadata": {},
     "output_type": "execute_result"
    }
   ],
   "source": [
    "video_df.head()"
   ]
  },
  {
   "cell_type": "code",
   "execution_count": 5,
   "id": "365379da",
   "metadata": {},
   "outputs": [],
   "source": [
    "video_id_list = video_df[\"video_id\"].tolist()"
   ]
  },
  {
   "cell_type": "code",
   "execution_count": 6,
   "id": "829a4932",
   "metadata": {},
   "outputs": [
    {
     "name": "stdout",
     "output_type": "stream",
     "text": [
      "https://www.youtube.com/watch?v=aLZ85hb4wjE\n",
      "https://www.youtube.com/watch?v=sYI97jv-pZg\n",
      "https://www.youtube.com/watch?v=3YFpjgIQqEo\n",
      "https://www.youtube.com/watch?v=dIsaz_XlmTw\n",
      "https://www.youtube.com/watch?v=DWxIvQlpJK8\n"
     ]
    }
   ],
   "source": [
    "for video_id in video_id_list[0:5]:\n",
    "    print(f\"https://www.youtube.com/watch?v={video_id}\")"
   ]
  },
  {
   "cell_type": "markdown",
   "id": "b131788f-4a45-442c-9636-b5fa015203ac",
   "metadata": {},
   "source": [
    "---"
   ]
  },
  {
   "cell_type": "code",
   "execution_count": 7,
   "id": "508bde11",
   "metadata": {},
   "outputs": [],
   "source": [
    "# Automated\n",
    "def get_backlinks(video_id_list):\n",
    "    backlinks = {}\n",
    "    index = 0\n",
    "    \n",
    "    driver = webdriver.Firefox()\n",
    "    driver.get(\"https://www.thehoth.com/backlinks-checker/\")\n",
    "    driver.maximize_window()\n",
    "    \n",
    "    captcha_passed = False\n",
    "    \n",
    "    try:\n",
    "        for video_id in video_id_list:\n",
    "            # print(\"Inputting video link\")\n",
    "            # Wait for page to load and locate textbox\n",
    "            # print(\"Waiting for frame\")\n",
    "            WebDriverWait(driver, 300).until(\n",
    "                    EC.frame_to_be_available_and_switch_to_it((By.ID, \"hothtools\"))\n",
    "                )\n",
    "\n",
    "            # Wait for textbox to be clickable and then click\n",
    "            # print(\"Waiting for textbox\")\n",
    "            WebDriverWait(driver, 300).until(\n",
    "                    EC.element_to_be_clickable((By.ID, \"targeturl\"))\n",
    "                )\n",
    "\n",
    "            # Input video link\n",
    "            targeturl = driver.find_element(By.ID, \"targeturl\")\n",
    "            targeturl.click()\n",
    "            targeturl.send_keys(Keys.CONTROL + \"A\")\n",
    "            targeturl.send_keys(Keys.BACKSPACE)\n",
    "            targeturl.send_keys(f\"https://www.youtube.com/watch?v={video_id}\")\n",
    "\n",
    "            # Select 'This Exact URL'\n",
    "            dropdown = driver.find_element(By.ID, \"mode\")\n",
    "            dropdown.click()\n",
    "            option = driver.find_element(By.XPATH, \"/html/body/div[2]/div/div/div/form/div[2]/select/option[3]\")\n",
    "            option.click()\n",
    "\n",
    "            # Submit\n",
    "            submit = driver.find_element(By.XPATH, \"/html/body/div[2]/div/div/div/form/div[2]/button\")\n",
    "            submit.click()\n",
    "\n",
    "            sleep(5)\n",
    "\n",
    "            try:\n",
    "                if not captcha_passed:\n",
    "                    # print(\"Solving CAPTCHA\")\n",
    "                    # In case of Captcha page\n",
    "                    iframes = driver.find_elements(By.TAG_NAME, \"iframe\")\n",
    "                    cont = False\n",
    "                    for iframe in iframes:\n",
    "                        try:\n",
    "                            driver.switch_to.frame(iframe)\n",
    "                            checkbox = driver.find_element(By.ID, \"recaptcha-anchor\")\n",
    "                            checkbox.click()\n",
    "                            cont = True\n",
    "                            break\n",
    "                        except:\n",
    "                            # print(\"Not Found\")\n",
    "                            driver.switch_to.default_content()\n",
    "\n",
    "                    if not cont:\n",
    "                        raise Exception(\"No CAPTCHA iframe found.\")\n",
    "\n",
    "                    # Giving enough time to manually solve CAPTCHA puzzle\n",
    "                    sleep(15)\n",
    "\n",
    "                    driver.switch_to.default_content()\n",
    "                    driver.switch_to.frame(\"hothtools\")\n",
    "                    submit = driver.find_element(\n",
    "                        By.XPATH, \"//*[@id='submit']\"\n",
    "                    )\n",
    "                    submit.click()\n",
    "                    captcha_passed = True\n",
    "                    sleep(3)\n",
    "            except:\n",
    "                pass\n",
    "            finally:\n",
    "                # print(\"Getting results\")\n",
    "                # Get external backlinks\n",
    "                driver.switch_to.default_content()\n",
    "                driver.switch_to.frame(\"hothtools\")\n",
    "                try:\n",
    "                    WebDriverWait(driver, 300).until(\n",
    "                        EC.element_to_be_clickable((By.ID, \"targeturl\"))\n",
    "                    )\n",
    "                    \n",
    "                    result = driver.find_element(\n",
    "                        By.XPATH, \"/html/body/div[2]/div/div/div[2]/div[2]/div/div/div[1]/div[2]\"\n",
    "                    ).text\n",
    "                except:\n",
    "                    result = 0\n",
    "                finally:\n",
    "                    backlinks[index] = {video_id: int(result)}\n",
    "                    index += 1\n",
    "                    driver.switch_to.default_content()\n",
    "    \n",
    "    except:\n",
    "        print(\"Error raise by Selenium Webdriver. Ending process and saving data.\")\n",
    "    \n",
    "    return backlinks"
   ]
  },
  {
   "cell_type": "code",
   "execution_count": 8,
   "id": "d06d4056-b2bf-4c64-b3b6-7a17b6479326",
   "metadata": {},
   "outputs": [],
   "source": [
    "# Manual\n",
    "def set_backlinks(video_id_list, backlinks):\n",
    "    print(\"Copy the YouTube link next to the textbox and find the # of backlinks from the following website:\")\n",
    "    print(\"https://www.thehoth.com/backlinks-checker/\")\n",
    "    print(\"------------------------------\")\n",
    "    \n",
    "    for video_id in video_id_list:\n",
    "        num = int(input(f\"https://www.youtube.com/watch?v={video_id} \"))\n",
    "        backlinks[video_id] = num"
   ]
  },
  {
   "cell_type": "code",
   "execution_count": 9,
   "id": "05c9e64d-3122-422c-b414-a3a8f6e87607",
   "metadata": {},
   "outputs": [],
   "source": [
    "backlinks = get_backlinks(video_id_list)"
   ]
  },
  {
   "cell_type": "code",
   "execution_count": null,
   "id": "15ed9a3b",
   "metadata": {},
   "outputs": [],
   "source": [
    "accomplished_until = list(backlinks.keys())[len(list(backlinks.keys())) - 1]\n",
    "last_index = video_id_list.index(accomplished_until)\n",
    "set_backlinks(video_id_list[last_index:len(video_id_list)], backlinks)"
   ]
  },
  {
   "cell_type": "code",
   "execution_count": 11,
   "id": "cf5cbae1-2105-4f11-8433-0c53274cdcd3",
   "metadata": {},
   "outputs": [
    {
     "data": {
      "text/plain": [
       "{0: {'5DvMPgoKZmM': 0}}"
      ]
     },
     "execution_count": 11,
     "metadata": {},
     "output_type": "execute_result"
    }
   ],
   "source": [
    "backlinks"
   ]
  },
  {
   "cell_type": "code",
   "execution_count": null,
   "id": "a28ff1f8-bc12-4543-9f2f-0289f30c0d77",
   "metadata": {},
   "outputs": [],
   "source": []
  }
 ],
 "metadata": {
  "kernelspec": {
   "display_name": "Python 3 (ipykernel)",
   "language": "python",
   "name": "python3"
  },
  "language_info": {
   "codemirror_mode": {
    "name": "ipython",
    "version": 3
   },
   "file_extension": ".py",
   "mimetype": "text/x-python",
   "name": "python",
   "nbconvert_exporter": "python",
   "pygments_lexer": "ipython3",
   "version": "3.9.12"
  }
 },
 "nbformat": 4,
 "nbformat_minor": 5
}
