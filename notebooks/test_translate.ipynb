{
 "cells": [
  {
   "cell_type": "code",
   "execution_count": 1,
   "metadata": {},
   "outputs": [],
   "source": [
    "import translators as ts\n",
    "from langdetect import detect"
   ]
  },
  {
   "cell_type": "code",
   "execution_count": 3,
   "metadata": {},
   "outputs": [],
   "source": [
    "from googleapiclient.discovery import build\n",
    "from googleapiclient.errors import HttpError\n",
    "from youtube_transcript_api import YouTubeTranscriptApi\n",
    "import pandas as pd\n",
    "import numpy as np\n",
    "import csv\n",
    "from tqdm import tqdm"
   ]
  },
  {
   "cell_type": "code",
   "execution_count": 4,
   "metadata": {},
   "outputs": [
    {
     "data": {
      "text/html": [
       "<div>\n",
       "<style scoped>\n",
       "    .dataframe tbody tr th:only-of-type {\n",
       "        vertical-align: middle;\n",
       "    }\n",
       "\n",
       "    .dataframe tbody tr th {\n",
       "        vertical-align: top;\n",
       "    }\n",
       "\n",
       "    .dataframe thead th {\n",
       "        text-align: right;\n",
       "    }\n",
       "</style>\n",
       "<table border=\"1\" class=\"dataframe\">\n",
       "  <thead>\n",
       "    <tr style=\"text-align: right;\">\n",
       "      <th></th>\n",
       "      <th>video_id</th>\n",
       "      <th>comment</th>\n",
       "    </tr>\n",
       "  </thead>\n",
       "  <tbody>\n",
       "    <tr>\n",
       "      <th>0</th>\n",
       "      <td>aLZ85hb4wjE</td>\n",
       "      <td>Loved the calmness of Manilla.</td>\n",
       "    </tr>\n",
       "    <tr>\n",
       "      <th>1</th>\n",
       "      <td>aLZ85hb4wjE</td>\n",
       "      <td>After this pandemic I think every country shou...</td>\n",
       "    </tr>\n",
       "    <tr>\n",
       "      <th>2</th>\n",
       "      <td>aLZ85hb4wjE</td>\n",
       "      <td>manila looks beautifull with less people</td>\n",
       "    </tr>\n",
       "    <tr>\n",
       "      <th>3</th>\n",
       "      <td>aLZ85hb4wjE</td>\n",
       "      <td>The lockdown makes the city look like a place ...</td>\n",
       "    </tr>\n",
       "    <tr>\n",
       "      <th>4</th>\n",
       "      <td>aLZ85hb4wjE</td>\n",
       "      <td>India also same</td>\n",
       "    </tr>\n",
       "  </tbody>\n",
       "</table>\n",
       "</div>"
      ],
      "text/plain": [
       "      video_id                                            comment\n",
       "0  aLZ85hb4wjE                     Loved the calmness of Manilla.\n",
       "1  aLZ85hb4wjE  After this pandemic I think every country shou...\n",
       "2  aLZ85hb4wjE           manila looks beautifull with less people\n",
       "3  aLZ85hb4wjE  The lockdown makes the city look like a place ...\n",
       "4  aLZ85hb4wjE                                    India also same"
      ]
     },
     "execution_count": 4,
     "metadata": {},
     "output_type": "execute_result"
    }
   ],
   "source": [
    "df = pd.read_csv(\"../datasets/covid_philippines/covid_philippines_comments.csv\").drop(\"Unnamed: 0\", axis=1)\n",
    "df.head()"
   ]
  },
  {
   "cell_type": "code",
   "execution_count": 4,
   "metadata": {},
   "outputs": [],
   "source": [
    "translated_comments = {}\n",
    "translated_comments[\"video_id\"] = {}\n",
    "translated_comments[\"comment\"] = {}\n",
    "video_id_list = df[\"video_id\"].to_list()\n",
    "comments_list = df[\"comment\"].to_list()"
   ]
  },
  {
   "cell_type": "code",
   "execution_count": 5,
   "metadata": {},
   "outputs": [
    {
     "data": {
      "text/plain": [
       "True"
      ]
     },
     "execution_count": 5,
     "metadata": {},
     "output_type": "execute_result"
    }
   ],
   "source": [
    "len(video_id_list) == len(comments_list)"
   ]
  },
  {
   "cell_type": "code",
   "execution_count": 6,
   "metadata": {},
   "outputs": [
    {
     "name": "stderr",
     "output_type": "stream",
     "text": [
      "Translating...: 100%|██████████| 1216/1216 [03:58<00:00,  5.10it/s]\n"
     ]
    }
   ],
   "source": [
    "pbar = tqdm(total=len(video_id_list))\n",
    "pbar.set_description(\"Translating...\")\n",
    "\n",
    "for i in range(df.shape[0]):\n",
    "    if comments_list[i] != None:\n",
    "        new_comment = comments_list[i]\n",
    "        try:\n",
    "            lang = detect(comments_list[i]) #added langdetect since it errors if there are many entries to translate, so now it will ontly tranlate if comment not english\n",
    "            if lang != 'en':\n",
    "                new_comment = ts.translate_text(comments_list[i], 'google', to_language = 'en')\n",
    "                \n",
    "        except:\n",
    "            # No change; get same comment from list\n",
    "            pass\n",
    "            \n",
    "        finally:\n",
    "            translated_comments[\"video_id\"][i] = video_id_list[i]\n",
    "            translated_comments[\"comment\"][i] = new_comment\n",
    "            pbar.update(1)\n",
    "\n",
    "translated_df = pd.DataFrame.from_dict(translated_comments)\n",
    "pbar.close()"
   ]
  },
  {
   "cell_type": "code",
   "execution_count": 8,
   "metadata": {},
   "outputs": [
    {
     "data": {
      "text/html": [
       "<div>\n",
       "<style scoped>\n",
       "    .dataframe tbody tr th:only-of-type {\n",
       "        vertical-align: middle;\n",
       "    }\n",
       "\n",
       "    .dataframe tbody tr th {\n",
       "        vertical-align: top;\n",
       "    }\n",
       "\n",
       "    .dataframe thead th {\n",
       "        text-align: right;\n",
       "    }\n",
       "</style>\n",
       "<table border=\"1\" class=\"dataframe\">\n",
       "  <thead>\n",
       "    <tr style=\"text-align: right;\">\n",
       "      <th></th>\n",
       "      <th>video_id</th>\n",
       "      <th>comment</th>\n",
       "    </tr>\n",
       "  </thead>\n",
       "  <tbody>\n",
       "    <tr>\n",
       "      <th>0</th>\n",
       "      <td>aLZ85hb4wjE</td>\n",
       "      <td>Loved the calmness of Manilla.</td>\n",
       "    </tr>\n",
       "    <tr>\n",
       "      <th>1</th>\n",
       "      <td>aLZ85hb4wjE</td>\n",
       "      <td>After this pandemic I think every country shou...</td>\n",
       "    </tr>\n",
       "    <tr>\n",
       "      <th>2</th>\n",
       "      <td>aLZ85hb4wjE</td>\n",
       "      <td>manila looks beautifull with less people</td>\n",
       "    </tr>\n",
       "    <tr>\n",
       "      <th>3</th>\n",
       "      <td>aLZ85hb4wjE</td>\n",
       "      <td>The lockdown makes the city look like a place ...</td>\n",
       "    </tr>\n",
       "    <tr>\n",
       "      <th>4</th>\n",
       "      <td>aLZ85hb4wjE</td>\n",
       "      <td>India also same</td>\n",
       "    </tr>\n",
       "    <tr>\n",
       "      <th>...</th>\n",
       "      <td>...</td>\n",
       "      <td>...</td>\n",
       "    </tr>\n",
       "    <tr>\n",
       "      <th>1211</th>\n",
       "      <td>5DvMPgoKZmM</td>\n",
       "      <td>This covid will be a never-ending fuckery as l...</td>\n",
       "    </tr>\n",
       "    <tr>\n",
       "      <th>1212</th>\n",
       "      <td>5DvMPgoKZmM</td>\n",
       "      <td>A new variant is inevitable.</td>\n",
       "    </tr>\n",
       "    <tr>\n",
       "      <th>1213</th>\n",
       "      <td>5DvMPgoKZmM</td>\n",
       "      <td>The man that should resign from his office is ...</td>\n",
       "    </tr>\n",
       "    <tr>\n",
       "      <th>1214</th>\n",
       "      <td>5DvMPgoKZmM</td>\n",
       "      <td>Is that the people who got been vaccinated.,</td>\n",
       "    </tr>\n",
       "    <tr>\n",
       "      <th>1215</th>\n",
       "      <td>5DvMPgoKZmM</td>\n",
       "      <td>The toxic of comments section 😄 \\n During this...</td>\n",
       "    </tr>\n",
       "  </tbody>\n",
       "</table>\n",
       "<p>1216 rows × 2 columns</p>\n",
       "</div>"
      ],
      "text/plain": [
       "         video_id                                            comment\n",
       "0     aLZ85hb4wjE                     Loved the calmness of Manilla.\n",
       "1     aLZ85hb4wjE  After this pandemic I think every country shou...\n",
       "2     aLZ85hb4wjE           manila looks beautifull with less people\n",
       "3     aLZ85hb4wjE  The lockdown makes the city look like a place ...\n",
       "4     aLZ85hb4wjE                                    India also same\n",
       "...           ...                                                ...\n",
       "1211  5DvMPgoKZmM  This covid will be a never-ending fuckery as l...\n",
       "1212  5DvMPgoKZmM                       A new variant is inevitable.\n",
       "1213  5DvMPgoKZmM  The man that should resign from his office is ...\n",
       "1214  5DvMPgoKZmM       Is that the people who got been vaccinated.,\n",
       "1215  5DvMPgoKZmM  The toxic of comments section 😄 \\n During this...\n",
       "\n",
       "[1216 rows x 2 columns]"
      ]
     },
     "execution_count": 8,
     "metadata": {},
     "output_type": "execute_result"
    }
   ],
   "source": [
    "translated_df"
   ]
  },
  {
   "cell_type": "markdown",
   "metadata": {},
   "source": [
    "---"
   ]
  },
  {
   "cell_type": "code",
   "execution_count": 9,
   "metadata": {},
   "outputs": [],
   "source": [
    "def translate(video_id_list, comments_list):\n",
    "    translated_comments = {}\n",
    "    translated_comments[\"video_id\"] = {}\n",
    "    translated_comments[\"comment\"] = {}\n",
    "    \n",
    "    pbar = tqdm(total=len(video_id_list))\n",
    "    pbar.set_description(\"Translating...\")\n",
    "\n",
    "    for i in range(df.shape[0]):\n",
    "        if comments_list[i] != None:\n",
    "            new_comment = comments_list[i]\n",
    "            try:\n",
    "                lang = detect(comments_list[i]) #added langdetect since it errors if there are many entries to translate, so now it will ontly tranlate if comment not english\n",
    "                if lang != 'en':\n",
    "                    new_comment = ts.translate_text(comments_list[i], 'google', to_language = 'en')\n",
    "\n",
    "            except:\n",
    "                # No change; get same comment from list\n",
    "                pass\n",
    "\n",
    "            finally:\n",
    "                translated_comments[\"video_id\"][i] = video_id_list[i]\n",
    "                translated_comments[\"comment\"][i] = new_comment\n",
    "                pbar.update(1)\n",
    "\n",
    "    translated_df = pd.DataFrame.from_dict(translated_comments)\n",
    "    pbar.close()"
   ]
  },
  {
   "cell_type": "code",
   "execution_count": null,
   "metadata": {},
   "outputs": [],
   "source": []
  },
  {
   "cell_type": "code",
   "execution_count": null,
   "metadata": {},
   "outputs": [],
   "source": []
  },
  {
   "cell_type": "code",
   "execution_count": null,
   "metadata": {},
   "outputs": [],
   "source": []
  },
  {
   "cell_type": "code",
   "execution_count": null,
   "metadata": {},
   "outputs": [],
   "source": []
  },
  {
   "cell_type": "code",
   "execution_count": null,
   "metadata": {},
   "outputs": [],
   "source": []
  },
  {
   "cell_type": "code",
   "execution_count": null,
   "metadata": {},
   "outputs": [],
   "source": []
  },
  {
   "cell_type": "code",
   "execution_count": null,
   "metadata": {},
   "outputs": [],
   "source": []
  },
  {
   "cell_type": "code",
   "execution_count": null,
   "metadata": {},
   "outputs": [],
   "source": []
  }
 ],
 "metadata": {
  "kernelspec": {
   "display_name": "Python 3 (ipykernel)",
   "language": "python",
   "name": "python3"
  },
  "language_info": {
   "codemirror_mode": {
    "name": "ipython",
    "version": 3
   },
   "file_extension": ".py",
   "mimetype": "text/x-python",
   "name": "python",
   "nbconvert_exporter": "python",
   "pygments_lexer": "ipython3",
   "version": "3.9.12"
  }
 },
 "nbformat": 4,
 "nbformat_minor": 4
}
