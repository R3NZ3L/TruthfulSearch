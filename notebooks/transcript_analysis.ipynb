{
 "cells": [
  {
   "cell_type": "code",
   "execution_count": 1,
   "id": "32b0562c-9fd6-4749-b321-7f73a3243780",
   "metadata": {},
   "outputs": [],
   "source": [
    "import pandas as pd\n",
    "import numpy as np\n",
    "from tqdm import tqdm\n",
    "import regex as re\n",
    "\n",
    "from time import time\n",
    "from time import strftime\n",
    "from time import gmtime"
   ]
  },
  {
   "cell_type": "code",
   "execution_count": 2,
   "id": "1ecc2a7e-8dd6-4beb-ab34-b8296704d6bd",
   "metadata": {},
   "outputs": [],
   "source": [
    "filename = \"covid_vaccine\""
   ]
  },
  {
   "cell_type": "code",
   "execution_count": 3,
   "id": "10132217-08dd-4802-8995-3fd807429f0c",
   "metadata": {},
   "outputs": [
    {
     "data": {
      "text/html": [
       "<div>\n",
       "<style scoped>\n",
       "    .dataframe tbody tr th:only-of-type {\n",
       "        vertical-align: middle;\n",
       "    }\n",
       "\n",
       "    .dataframe tbody tr th {\n",
       "        vertical-align: top;\n",
       "    }\n",
       "\n",
       "    .dataframe thead th {\n",
       "        text-align: right;\n",
       "    }\n",
       "</style>\n",
       "<table border=\"1\" class=\"dataframe\">\n",
       "  <thead>\n",
       "    <tr style=\"text-align: right;\">\n",
       "      <th></th>\n",
       "      <th>video_id</th>\n",
       "      <th>video_title</th>\n",
       "      <th>video_transcript</th>\n",
       "    </tr>\n",
       "  </thead>\n",
       "  <tbody>\n",
       "    <tr>\n",
       "      <th>0</th>\n",
       "      <td>im3otpqYAiQ</td>\n",
       "      <td>Covid Vaccine Study Finds Links to Health Cond...</td>\n",
       "      <td>[CC may contain inaccuracies] In terms of how...</td>\n",
       "    </tr>\n",
       "    <tr>\n",
       "      <th>1</th>\n",
       "      <td>SkcAZfrYYXM</td>\n",
       "      <td>Two very rare COVID vaccine side effects detec...</td>\n",
       "      <td>okay we're going to finish with the guardian ...</td>\n",
       "    </tr>\n",
       "    <tr>\n",
       "      <th>2</th>\n",
       "      <td>7MAlEYqWUTk</td>\n",
       "      <td>Being Nice to Anti-Vaxxers</td>\n",
       "      <td>so you're against the covert vaccine oh here ...</td>\n",
       "    </tr>\n",
       "    <tr>\n",
       "      <th>3</th>\n",
       "      <td>uiwjAj0zfKQ</td>\n",
       "      <td>If You Get All 5 COVID Vaccines</td>\n",
       "      <td>and all right we're done now if you're feelin...</td>\n",
       "    </tr>\n",
       "    <tr>\n",
       "      <th>4</th>\n",
       "      <td>jPs4_MeuX7U</td>\n",
       "      <td>New Covid vaccine study links jab to heart and...</td>\n",
       "      <td>a latest covid-19 study is providing answers ...</td>\n",
       "    </tr>\n",
       "  </tbody>\n",
       "</table>\n",
       "</div>"
      ],
      "text/plain": [
       "      video_id                                        video_title  \\\n",
       "0  im3otpqYAiQ  Covid Vaccine Study Finds Links to Health Cond...   \n",
       "1  SkcAZfrYYXM  Two very rare COVID vaccine side effects detec...   \n",
       "2  7MAlEYqWUTk                         Being Nice to Anti-Vaxxers   \n",
       "3  uiwjAj0zfKQ                    If You Get All 5 COVID Vaccines   \n",
       "4  jPs4_MeuX7U  New Covid vaccine study links jab to heart and...   \n",
       "\n",
       "                                    video_transcript  \n",
       "0   [CC may contain inaccuracies] In terms of how...  \n",
       "1   okay we're going to finish with the guardian ...  \n",
       "2   so you're against the covert vaccine oh here ...  \n",
       "3   and all right we're done now if you're feelin...  \n",
       "4   a latest covid-19 study is providing answers ...  "
      ]
     },
     "execution_count": 3,
     "metadata": {},
     "output_type": "execute_result"
    }
   ],
   "source": [
    "path = \"../datasets/covid_vaccine/covid_vaccine.csv\"\n",
    "df = pd.read_csv(path).drop(\"Unnamed: 0\", axis=1)[[\"video_id\", \"video_title\", \"video_transcript\"]]\n",
    "df.head()"
   ]
  },
  {
   "cell_type": "code",
   "execution_count": 4,
   "id": "78ce657b-bf67-4523-adfd-01a66eb69eb2",
   "metadata": {},
   "outputs": [
    {
     "data": {
      "text/plain": [
       "['(\\\\\\\\xa0|\\\\\\\\n)',\n",
       " '\\\\[(\\\\w|\\\\s)+\\\\]',\n",
       " '(?<=\\\\s)000(?=\\\\s)',\n",
       " '(?<=\\\\s)co(ve(r)?t|id)(?=\\\\s)',\n",
       " '(?<=\\\\s)coveted(?=\\\\s)',\n",
       " \"\\\\\\\\(?=\\\\')\",\n",
       " '(?<=\\\\d)\\\\%',\n",
       " 'Speaker\\\\s\\\\d\\\\:',\n",
       " '\\\\[\\\\\\\\xa0\\\\_\\\\_\\\\\\\\xa0\\\\]']"
      ]
     },
     "execution_count": 4,
     "metadata": {},
     "output_type": "execute_result"
    }
   ],
   "source": [
    "patterns = []\n",
    "\n",
    "# Removing occurances of \\xa0 and \\n [0]\n",
    "patterns.append(r\"(\\\\xa0|\\\\n)\")\n",
    "\n",
    "# Removing text enclosed in brackets [1]\n",
    "patterns.append(r\"\\[(\\w|\\s)+\\]\")\n",
    "\n",
    "# Replacing stray '000's to 'thousand' [2]\n",
    "patterns.append(r\"(?<=\\s)000(?=\\s)\")\n",
    "\n",
    "# Mistranscriptions of the word 'COVID' [3]\n",
    "patterns.append(r\"(?<=\\s)co(ve(r)?t|id)(?=\\s)\")\n",
    "\n",
    "# Mistranscriptions of the word 'COVID-19' [4]\n",
    "patterns.append(r\"(?<=\\s)coveted(?=\\s)\")\n",
    "\n",
    "# Removing forward slash from escaped apostrophes [5]\n",
    "patterns.append(r\"\\\\(?=\\')\")\n",
    "\n",
    "# Replacing '%' with the word 'percent' [6]\n",
    "patterns.append(r\"(?<=\\d)\\%\")\n",
    "\n",
    "# Removing 'Speaker %d:' occurances [7]\n",
    "patterns.append(r\"Speaker\\s\\d\\:\")\n",
    "\n",
    "# Removing '[\\xa0__\\xa0]' [8]\n",
    "patterns.append(r\"\\[\\\\xa0\\_\\_\\\\xa0\\]\")\n",
    "\n",
    "patterns"
   ]
  },
  {
   "cell_type": "code",
   "execution_count": 13,
   "id": "ed87d6cc-736d-428c-b80e-5e55326b0f2a",
   "metadata": {
    "tags": []
   },
   "outputs": [
    {
     "name": "stderr",
     "output_type": "stream",
     "text": [
      "Getting backlinks...:   0%|          | 0/150 [00:00<?, ?it/s]"
     ]
    },
    {
     "name": "stdout",
     "output_type": "stream",
     "text": [
      "Execution time: 00:00:00\n"
     ]
    },
    {
     "name": "stderr",
     "output_type": "stream",
     "text": [
      "\n"
     ]
    }
   ],
   "source": [
    "transcripts = []\n",
    "\n",
    "pbar = tqdm(total=df.shape[0])\n",
    "pbar.set_description(\"Cleaning transcripts...\")\n",
    "start_time = time()\n",
    "cleaned_transcript = \"\"\n",
    "\n",
    "for transcript in df['video_transcript'].tolist():\n",
    "    transcript = repr(transcript)\n",
    "    cleaned_transcript = re.sub(patterns[0], r' ', transcript)\n",
    "    cleaned_transcript = re.sub(patterns[1], '', cleaned_transcript)\n",
    "    cleaned_transcript = re.sub(patterns[2], r'thousand', cleaned_transcript)\n",
    "    cleaned_transcript = re.sub(patterns[3], r'COVID', cleaned_transcript)\n",
    "    cleaned_transcript = re.sub(patterns[4], r'COVID-19', cleaned_transcript)\n",
    "    cleaned_transcript = re.sub(patterns[5], '', cleaned_transcript)\n",
    "    cleaned_transcript = re.sub(patterns[6], r' percent', cleaned_transcript)\n",
    "    cleaned_transcript = re.sub(patterns[7], '', cleaned_transcript)\n",
    "    cleaned_transcript = re.sub(patterns[8], '', cleaned_transcript)\n",
    "    \n",
    "    transcripts.append(cleaned_transcript)\n",
    "    \n",
    "pbar.close()\n",
    "elapsed_time = time() - start_time\n",
    "print('Execution time:', strftime(\"%H:%M:%S\", gmtime(elapsed_time)))"
   ]
  },
  {
   "cell_type": "code",
   "execution_count": null,
   "id": "312c9a31-85ce-4bdd-adce-878c99ad3352",
   "metadata": {},
   "outputs": [],
   "source": []
  },
  {
   "cell_type": "code",
   "execution_count": null,
   "id": "200ebe0f-b88a-41bc-ab13-553d8505df0f",
   "metadata": {},
   "outputs": [],
   "source": []
  },
  {
   "cell_type": "code",
   "execution_count": null,
   "id": "bb8820aa-6d8c-4847-9516-b2c446a28b86",
   "metadata": {},
   "outputs": [],
   "source": []
  },
  {
   "cell_type": "code",
   "execution_count": null,
   "id": "d8289125-a285-443d-82be-fcf9057cacad",
   "metadata": {},
   "outputs": [],
   "source": []
  },
  {
   "cell_type": "code",
   "execution_count": null,
   "id": "43eea039-0997-41f1-a0d0-038c594efa00",
   "metadata": {},
   "outputs": [],
   "source": []
  },
  {
   "cell_type": "code",
   "execution_count": null,
   "id": "2dee2116-2305-43dd-a0d7-12d0edee7420",
   "metadata": {},
   "outputs": [],
   "source": []
  },
  {
   "cell_type": "code",
   "execution_count": null,
   "id": "6d9c030b-4418-4378-85b4-93b37e63d408",
   "metadata": {},
   "outputs": [],
   "source": []
  },
  {
   "cell_type": "code",
   "execution_count": null,
   "id": "5f955847-e5b4-4f5f-b088-3a0a0c2289d7",
   "metadata": {},
   "outputs": [],
   "source": []
  }
 ],
 "metadata": {
  "kernelspec": {
   "display_name": "Python 3 (ipykernel)",
   "language": "python",
   "name": "python3"
  },
  "language_info": {
   "codemirror_mode": {
    "name": "ipython",
    "version": 3
   },
   "file_extension": ".py",
   "mimetype": "text/x-python",
   "name": "python",
   "nbconvert_exporter": "python",
   "pygments_lexer": "ipython3",
   "version": "3.11.5"
  }
 },
 "nbformat": 4,
 "nbformat_minor": 5
}
