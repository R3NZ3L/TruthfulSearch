{
 "cells": [
  {
   "cell_type": "markdown",
   "id": "de359323-94c7-42b4-b6e0-e6261bdca096",
   "metadata": {},
   "source": [
    "Guide for training LDA model was a video by Srinivasan, S. (2020)<br>\n",
    "Link: https://www.youtube.com/watch?v=25JOEnrz40c&list=PL0rtpP-8GFfR2orPIzBttl15_NfDhkujw&index=4&t=518s"
   ]
  },
  {
   "cell_type": "code",
   "execution_count": 1,
   "id": "32b0562c-9fd6-4749-b321-7f73a3243780",
   "metadata": {},
   "outputs": [],
   "source": [
    "import pandas as pd\n",
    "import numpy as np\n",
    "from tqdm import tqdm\n",
    "import regex as re\n",
    "\n",
    "from time import time\n",
    "from time import strftime\n",
    "from time import gmtime"
   ]
  },
  {
   "cell_type": "code",
   "execution_count": 2,
   "id": "9073169d-b518-4b58-ab96-d276599b510a",
   "metadata": {
    "tags": []
   },
   "outputs": [],
   "source": [
    "from sklearn.feature_extraction.text import TfidfVectorizer, CountVectorizer\n",
    "from sklearn import decomposition\n",
    "from stop_words import get_stop_words\n",
    "from nltk.tokenize import word_tokenize\n",
    "from nltk.stem import WordNetLemmatizer\n",
    "from sklearn.model_selection import train_test_split"
   ]
  },
  {
   "cell_type": "markdown",
   "id": "bdb0e18b-0e01-469a-a3db-00e971dc5585",
   "metadata": {
    "tags": []
   },
   "source": [
    "---\n",
    "### Loading the data"
   ]
  },
  {
   "cell_type": "code",
   "execution_count": 3,
   "id": "1ecc2a7e-8dd6-4beb-ab34-b8296704d6bd",
   "metadata": {},
   "outputs": [],
   "source": [
    "filename = \"covid_vaccine\""
   ]
  },
  {
   "cell_type": "code",
   "execution_count": 4,
   "id": "10132217-08dd-4802-8995-3fd807429f0c",
   "metadata": {},
   "outputs": [
    {
     "data": {
      "text/html": [
       "<div>\n",
       "<style scoped>\n",
       "    .dataframe tbody tr th:only-of-type {\n",
       "        vertical-align: middle;\n",
       "    }\n",
       "\n",
       "    .dataframe tbody tr th {\n",
       "        vertical-align: top;\n",
       "    }\n",
       "\n",
       "    .dataframe thead th {\n",
       "        text-align: right;\n",
       "    }\n",
       "</style>\n",
       "<table border=\"1\" class=\"dataframe\">\n",
       "  <thead>\n",
       "    <tr style=\"text-align: right;\">\n",
       "      <th></th>\n",
       "      <th>video_id</th>\n",
       "      <th>video_title</th>\n",
       "      <th>video_transcript</th>\n",
       "    </tr>\n",
       "  </thead>\n",
       "  <tbody>\n",
       "    <tr>\n",
       "      <th>0</th>\n",
       "      <td>2IXl4qJGrRk</td>\n",
       "      <td>A man deliberately got 217 Covid shots. Here’s...</td>\n",
       "      <td>A German man has puzzled scientists after he ...</td>\n",
       "    </tr>\n",
       "    <tr>\n",
       "      <th>1</th>\n",
       "      <td>HtTalpY-J-M</td>\n",
       "      <td>COVID: German man vaccinated 217 times had no ...</td>\n",
       "      <td>a 62-year-old German man from magur claims he...</td>\n",
       "    </tr>\n",
       "    <tr>\n",
       "      <th>2</th>\n",
       "      <td>jPs4_MeuX7U</td>\n",
       "      <td>New Covid vaccine study links jab to heart and...</td>\n",
       "      <td>a latest covid-19 study is providing answers ...</td>\n",
       "    </tr>\n",
       "    <tr>\n",
       "      <th>3</th>\n",
       "      <td>WhiBpmH1mE4</td>\n",
       "      <td>MAN GETS 217 COVID VACCINES! 😱😱😱 THIS is What ...</td>\n",
       "      <td>a 62-year-old man who lives in Germany uh got...</td>\n",
       "    </tr>\n",
       "    <tr>\n",
       "      <th>4</th>\n",
       "      <td>LfmhYVCCGhc</td>\n",
       "      <td>Joe Rogan says tons of people &amp;quot;died sudde...</td>\n",
       "      <td>Speaker 1: This is really painful to watch. O...</td>\n",
       "    </tr>\n",
       "  </tbody>\n",
       "</table>\n",
       "</div>"
      ],
      "text/plain": [
       "      video_id                                        video_title  \\\n",
       "0  2IXl4qJGrRk  A man deliberately got 217 Covid shots. Here’s...   \n",
       "1  HtTalpY-J-M  COVID: German man vaccinated 217 times had no ...   \n",
       "2  jPs4_MeuX7U  New Covid vaccine study links jab to heart and...   \n",
       "3  WhiBpmH1mE4  MAN GETS 217 COVID VACCINES! 😱😱😱 THIS is What ...   \n",
       "4  LfmhYVCCGhc  Joe Rogan says tons of people &quot;died sudde...   \n",
       "\n",
       "                                    video_transcript  \n",
       "0   A German man has puzzled scientists after he ...  \n",
       "1   a 62-year-old German man from magur claims he...  \n",
       "2   a latest covid-19 study is providing answers ...  \n",
       "3   a 62-year-old man who lives in Germany uh got...  \n",
       "4   Speaker 1: This is really painful to watch. O...  "
      ]
     },
     "execution_count": 4,
     "metadata": {},
     "output_type": "execute_result"
    }
   ],
   "source": [
    "path = \"../datasets/covid_vaccine/videos.csv\"\n",
    "df = pd.read_csv(path).drop(\"Unnamed: 0\", axis=1)[[\"video_id\", \"video_title\", \"video_transcript\"]].astype(str)\n",
    "df.head()"
   ]
  },
  {
   "cell_type": "markdown",
   "id": "48f6027c-14f6-48ff-b332-1464e3a942a8",
   "metadata": {
    "tags": []
   },
   "source": [
    "---\n",
    "### Cleaning the data"
   ]
  },
  {
   "cell_type": "code",
   "execution_count": 5,
   "id": "433bd1ec-8659-4236-82d1-7bb92c979821",
   "metadata": {
    "tags": []
   },
   "outputs": [
    {
     "data": {
      "text/plain": [
       "Index([ 14,  15,  18,  20,  24,  26,  40,  59,  64,  71,  72,  80,  81,  96,\n",
       "        99, 101, 109, 111, 114, 124, 125, 138, 158, 159, 184, 190],\n",
       "      dtype='int64')"
      ]
     },
     "execution_count": 5,
     "metadata": {},
     "output_type": "execute_result"
    }
   ],
   "source": [
    "# Indices of nan transcripts\n",
    "drop_indices = df[[\"video_id\", \"video_transcript\"]].loc[df[\"video_transcript\"] == 'nan'].index\n",
    "drop_indices"
   ]
  },
  {
   "cell_type": "code",
   "execution_count": 6,
   "id": "eb549f9d-a487-431e-90f8-b03ed46b1241",
   "metadata": {
    "tags": []
   },
   "outputs": [],
   "source": [
    "df.drop(drop_indices, inplace=True)"
   ]
  },
  {
   "cell_type": "code",
   "execution_count": 7,
   "id": "78ce657b-bf67-4523-adfd-01a66eb69eb2",
   "metadata": {},
   "outputs": [],
   "source": [
    "patterns = []\n",
    "replacements = []\n",
    "\n",
    "# [0] Removing occurances of \\xa0 and \\n\n",
    "patterns.append('(\\\\xa0|\\\\n)')\n",
    "replacements.append(' ')\n",
    "\n",
    "# [1] Removing text enclosed in brackets\n",
    "patterns.append('\\[(\\w|\\s)+\\]')\n",
    "replacements.append('')\n",
    "\n",
    "# [2] Replacing stray '000's to 'thousand'\n",
    "patterns.append('(?<=\\s)000(?=\\s)')\n",
    "replacements.append('thousand')\n",
    "\n",
    "# [3, 4] Mistranscriptions of the word 'COVID'\n",
    "patterns.append('(?<=\\s)(C|c)o(ve(r)?t|id)(?=\\s)')\n",
    "patterns.append('(C|c)overed(?=\\s(vacc|infe))')\n",
    "replacements.append('COVID')\n",
    "replacements.append('COVID')\n",
    "\n",
    "# [5] Mistranscriptions of the word 'COVID-19'\n",
    "patterns.append('(?<=\\s)(C|c)(oveted|o9|o\\s19)(?=\\s)')\n",
    "replacements.append('COVID19')\n",
    "\n",
    "# [6] Replacing '%' with the word 'percent'\n",
    "patterns.append('(?<=\\d)\\%')\n",
    "replacements.append(' percent')\n",
    "\n",
    "# [7] Removing 'Speaker %d:' occurances\n",
    "patterns.append('Speaker\\s\\d\\:')\n",
    "replacements.append('')\n",
    "\n",
    "# [8] Removing '[\\xa0__\\xa0]'\n",
    "patterns.append('\\[\\\\xa0\\_\\_\\\\xa0\\]')\n",
    "replacements.append('')\n",
    "\n",
    "# [9] Removing >> occurances\n",
    "patterns.append('\\>\\>(\\>+)?')\n",
    "replacements.append('')\n",
    "\n",
    "# [10] Removing 'Reporter:' occurances\n",
    "patterns.append('Reporter\\:')\n",
    "replacements.append('')\n",
    "\n",
    "# [11] Removing weird +@ occurances\n",
    "patterns.append('\\+\\@')\n",
    "replacements.append('')\n",
    "\n",
    "# [12] Removing stray - occurances\n",
    "patterns.append('(?<=\\s)\\-(\\-+)?(?=\\s)')\n",
    "replacements.append('')\n",
    "\n",
    "# [13] Removing text within parentheses\n",
    "patterns.append('\\((\\w|\\s)+\\)')\n",
    "replacements.append('')\n",
    "\n",
    "# [14] Combining stray instances of '19' with the word 'covid' if it exists next to it\n",
    "patterns.append('(covid|COVID)(\\s|-)?19')\n",
    "replacements.append('COVID19')"
   ]
  },
  {
   "cell_type": "code",
   "execution_count": 8,
   "id": "47c2c80c-f338-4e0a-b011-1ac39d78185d",
   "metadata": {
    "tags": []
   },
   "outputs": [
    {
     "data": {
      "text/plain": [
       "174"
      ]
     },
     "execution_count": 8,
     "metadata": {},
     "output_type": "execute_result"
    }
   ],
   "source": [
    "transcripts = df[\"video_transcript\"].tolist()\n",
    "cleaned = []\n",
    "len(transcripts)"
   ]
  },
  {
   "cell_type": "code",
   "execution_count": 9,
   "id": "200ebe0f-b88a-41bc-ab13-553d8505df0f",
   "metadata": {},
   "outputs": [],
   "source": [
    "for transcript in transcripts:\n",
    "    result = re.sub(patterns[0], replacements[0], transcript)\n",
    "    \n",
    "    for i in range(1, len(patterns)):\n",
    "        result = re.sub(patterns[i], replacements[i], result)\n",
    "    \n",
    "    cleaned.append(result)"
   ]
  },
  {
   "cell_type": "code",
   "execution_count": 10,
   "id": "c9388285-3cb8-461c-a851-8e434533635e",
   "metadata": {
    "tags": []
   },
   "outputs": [
    {
     "data": {
      "text/plain": [
       "174"
      ]
     },
     "execution_count": 10,
     "metadata": {},
     "output_type": "execute_result"
    }
   ],
   "source": [
    "len(cleaned)"
   ]
  },
  {
   "cell_type": "code",
   "execution_count": 11,
   "id": "660dfe0d-5fe6-4765-b9f9-f2355976ff2d",
   "metadata": {
    "tags": []
   },
   "outputs": [
    {
     "data": {
      "text/html": [
       "<div>\n",
       "<style scoped>\n",
       "    .dataframe tbody tr th:only-of-type {\n",
       "        vertical-align: middle;\n",
       "    }\n",
       "\n",
       "    .dataframe tbody tr th {\n",
       "        vertical-align: top;\n",
       "    }\n",
       "\n",
       "    .dataframe thead th {\n",
       "        text-align: right;\n",
       "    }\n",
       "</style>\n",
       "<table border=\"1\" class=\"dataframe\">\n",
       "  <thead>\n",
       "    <tr style=\"text-align: right;\">\n",
       "      <th></th>\n",
       "      <th>video_id</th>\n",
       "      <th>video_title</th>\n",
       "      <th>video_transcript</th>\n",
       "    </tr>\n",
       "  </thead>\n",
       "  <tbody>\n",
       "    <tr>\n",
       "      <th>0</th>\n",
       "      <td>2IXl4qJGrRk</td>\n",
       "      <td>A man deliberately got 217 Covid shots. Here’s...</td>\n",
       "      <td>A German man has puzzled scientists after he ...</td>\n",
       "    </tr>\n",
       "    <tr>\n",
       "      <th>1</th>\n",
       "      <td>HtTalpY-J-M</td>\n",
       "      <td>COVID: German man vaccinated 217 times had no ...</td>\n",
       "      <td>a 62-year-old German man from magur claims he...</td>\n",
       "    </tr>\n",
       "    <tr>\n",
       "      <th>2</th>\n",
       "      <td>jPs4_MeuX7U</td>\n",
       "      <td>New Covid vaccine study links jab to heart and...</td>\n",
       "      <td>a latest COVID19 study is providing answers t...</td>\n",
       "    </tr>\n",
       "    <tr>\n",
       "      <th>3</th>\n",
       "      <td>WhiBpmH1mE4</td>\n",
       "      <td>MAN GETS 217 COVID VACCINES! 😱😱😱 THIS is What ...</td>\n",
       "      <td>a 62-year-old man who lives in Germany uh got...</td>\n",
       "    </tr>\n",
       "    <tr>\n",
       "      <th>4</th>\n",
       "      <td>LfmhYVCCGhc</td>\n",
       "      <td>Joe Rogan says tons of people &amp;quot;died sudde...</td>\n",
       "      <td>This is really painful to watch. On  the bon...</td>\n",
       "    </tr>\n",
       "  </tbody>\n",
       "</table>\n",
       "</div>"
      ],
      "text/plain": [
       "      video_id                                        video_title  \\\n",
       "0  2IXl4qJGrRk  A man deliberately got 217 Covid shots. Here’s...   \n",
       "1  HtTalpY-J-M  COVID: German man vaccinated 217 times had no ...   \n",
       "2  jPs4_MeuX7U  New Covid vaccine study links jab to heart and...   \n",
       "3  WhiBpmH1mE4  MAN GETS 217 COVID VACCINES! 😱😱😱 THIS is What ...   \n",
       "4  LfmhYVCCGhc  Joe Rogan says tons of people &quot;died sudde...   \n",
       "\n",
       "                                    video_transcript  \n",
       "0   A German man has puzzled scientists after he ...  \n",
       "1   a 62-year-old German man from magur claims he...  \n",
       "2   a latest COVID19 study is providing answers t...  \n",
       "3   a 62-year-old man who lives in Germany uh got...  \n",
       "4    This is really painful to watch. On  the bon...  "
      ]
     },
     "execution_count": 11,
     "metadata": {},
     "output_type": "execute_result"
    }
   ],
   "source": [
    "transcripts_df = pd.DataFrame(\n",
    "    {\n",
    "        'video_id': df[\"video_id\"].tolist(),\n",
    "        'video_title': df[\"video_title\"].tolist(),\n",
    "        'video_transcript': cleaned\n",
    "    }\n",
    ")\n",
    "transcripts_df.head()"
   ]
  },
  {
   "cell_type": "code",
   "execution_count": 12,
   "id": "97b70c0c-d2c9-4ff2-b890-ff6d624d71a4",
   "metadata": {},
   "outputs": [
    {
     "data": {
      "text/plain": [
       "False"
      ]
     },
     "execution_count": 12,
     "metadata": {},
     "output_type": "execute_result"
    }
   ],
   "source": [
    "transcripts_df.isnull().values.any()"
   ]
  },
  {
   "cell_type": "code",
   "execution_count": 13,
   "id": "66dce008-05d9-4bcf-87b7-1f95117da40a",
   "metadata": {
    "tags": []
   },
   "outputs": [],
   "source": [
    "transcripts = transcripts_df['video_transcript'].tolist()\n",
    "stop_words = get_stop_words('english')"
   ]
  },
  {
   "cell_type": "code",
   "execution_count": 14,
   "id": "8489923b-66b1-4220-886e-4d64447fd5b0",
   "metadata": {
    "tags": []
   },
   "outputs": [],
   "source": [
    "def tokenize_and_lemmatize(transcript):\n",
    "    tokens = [word.lower() for word in word_tokenize(transcript) if len(word) > 3]\n",
    "    wnl = WordNetLemmatizer()\n",
    "    lemmas = []\n",
    "    for token in tokens:\n",
    "        lemmas.append(wnl.lemmatize(token))\n",
    "    \n",
    "    return lemmas"
   ]
  },
  {
   "cell_type": "code",
   "execution_count": 17,
   "id": "654733ce-5c72-46dc-a91c-5c7ad5d433fb",
   "metadata": {},
   "outputs": [],
   "source": [
    "vectorizer = CountVectorizer(\n",
    "    analyzer=\"word\",\n",
    "    tokenizer=tokenize_and_lemmatize,\n",
    "    stop_words=stop_words\n",
    ")"
   ]
  },
  {
   "cell_type": "markdown",
   "id": "80f3e677-d2e1-4960-8b28-a836c8d504b4",
   "metadata": {
    "jp-MarkdownHeadingCollapsed": true,
    "tags": []
   },
   "source": [
    "---\n",
    "### LDA"
   ]
  },
  {
   "cell_type": "code",
   "execution_count": null,
   "id": "83f3db3d-1007-48ef-9e2e-b82d8503422f",
   "metadata": {
    "tags": []
   },
   "outputs": [],
   "source": [
    "matrix = vectorizer.fit_transform(transcripts)\n",
    "matrix_df = pd.DataFrame(data=matrix.toarray(), columns = vectorizer.get_feature_names_out())\n",
    "matrix_df"
   ]
  },
  {
   "cell_type": "code",
   "execution_count": null,
   "id": "d119e99e-de1f-4ec7-a504-9f6e9a57a053",
   "metadata": {
    "tags": []
   },
   "outputs": [],
   "source": [
    "vocabulary = np.array(vectorizer.get_feature_names_out())\n",
    "vocabulary"
   ]
  },
  {
   "cell_type": "code",
   "execution_count": null,
   "id": "4b2f5730-1543-42f9-a522-6f1e961dc305",
   "metadata": {
    "tags": []
   },
   "outputs": [],
   "source": [
    "lda = decomposition.LatentDirichletAllocation(n_components=10, max_iter=50)"
   ]
  },
  {
   "cell_type": "code",
   "execution_count": null,
   "id": "7cd22739-b468-4bf1-a1e8-56c434d65a9b",
   "metadata": {
    "tags": []
   },
   "outputs": [],
   "source": [
    "doc_vectors = lda.fit_transform(matrix)\n",
    "h1 = lda.components_"
   ]
  },
  {
   "cell_type": "code",
   "execution_count": null,
   "id": "07a9993e-42b6-4b2d-97e4-eb31d1688bec",
   "metadata": {
    "tags": []
   },
   "outputs": [],
   "source": [
    "doc_vectors[0:3]"
   ]
  },
  {
   "cell_type": "code",
   "execution_count": null,
   "id": "953d3b99-75ca-458a-9f85-8734463af16c",
   "metadata": {},
   "outputs": [],
   "source": [
    "h1[0]"
   ]
  },
  {
   "cell_type": "code",
   "execution_count": null,
   "id": "e65b1a37-9100-4228-91a7-2c5296ee837a",
   "metadata": {},
   "outputs": [],
   "source": [
    "# Code taken from the guide\n",
    "num_words = 15\n",
    "top_words = lambda t: [vocabulary[i] for i in np.argsort(t)[:-num_words-1:-1]]\n",
    "topic_words = ([top_words(t) for t in h1])\n",
    "topics = [' '.join(t) for t in topic_words]"
   ]
  },
  {
   "cell_type": "code",
   "execution_count": null,
   "id": "9af40592-d1fa-4993-a9d4-3373a93b4f4e",
   "metadata": {},
   "outputs": [],
   "source": [
    "topics"
   ]
  },
  {
   "cell_type": "markdown",
   "id": "59d7d297-7b59-4cae-8a73-d037b0372c6c",
   "metadata": {},
   "source": [
    "---\n",
    "### BerTopic"
   ]
  },
  {
   "cell_type": "code",
   "execution_count": 20,
   "id": "a588fad7-4148-4566-b440-680d520b9413",
   "metadata": {
    "tags": []
   },
   "outputs": [],
   "source": [
    "from bertopic import BERTopic\n",
    "# topic_model = BERTopic.load(\"MaartenGr/BERTopic_Wikipedia\")\n",
    "topic_model = BERTopic(vectorizer_model=vectorizer)\n",
    "topics, probs = topic_model.fit_transform(transcripts)"
   ]
  },
  {
   "cell_type": "code",
   "execution_count": 25,
   "id": "40603ea5-9fa0-4fec-8f04-d38c6fbb521b",
   "metadata": {},
   "outputs": [
    {
     "data": {
      "text/html": [
       "<div>\n",
       "<style scoped>\n",
       "    .dataframe tbody tr th:only-of-type {\n",
       "        vertical-align: middle;\n",
       "    }\n",
       "\n",
       "    .dataframe tbody tr th {\n",
       "        vertical-align: top;\n",
       "    }\n",
       "\n",
       "    .dataframe thead th {\n",
       "        text-align: right;\n",
       "    }\n",
       "</style>\n",
       "<table border=\"1\" class=\"dataframe\">\n",
       "  <thead>\n",
       "    <tr style=\"text-align: right;\">\n",
       "      <th></th>\n",
       "      <th>Topic</th>\n",
       "      <th>Count</th>\n",
       "      <th>Name</th>\n",
       "      <th>Representation</th>\n",
       "      <th>Representative_Docs</th>\n",
       "    </tr>\n",
       "  </thead>\n",
       "  <tbody>\n",
       "    <tr>\n",
       "      <th>0</th>\n",
       "      <td>-1</td>\n",
       "      <td>70</td>\n",
       "      <td>-1_vaccine_know_people_dont</td>\n",
       "      <td>[vaccine, know, people, dont, just, shot, that...</td>\n",
       "      <td>[ well a warm welcome to this talk and a parti...</td>\n",
       "    </tr>\n",
       "    <tr>\n",
       "      <th>1</th>\n",
       "      <td>0</td>\n",
       "      <td>48</td>\n",
       "      <td>0_vaccine_people_covid_know</td>\n",
       "      <td>[vaccine, people, covid, know, just, like, tha...</td>\n",
       "      <td>[ We’re entering the third year of the pandemi...</td>\n",
       "    </tr>\n",
       "    <tr>\n",
       "      <th>2</th>\n",
       "      <td>1</td>\n",
       "      <td>34</td>\n",
       "      <td>1_vaccine_people_will_like</td>\n",
       "      <td>[vaccine, people, will, like, virus, work, fir...</td>\n",
       "      <td>[ we're going to bring you right up to date wi...</td>\n",
       "    </tr>\n",
       "    <tr>\n",
       "      <th>3</th>\n",
       "      <td>2</td>\n",
       "      <td>22</td>\n",
       "      <td>2_vaccine_heart_patient_protein</td>\n",
       "      <td>[vaccine, heart, patient, protein, spike, myoc...</td>\n",
       "      <td>[ hey guys welcome to another video yesterday ...</td>\n",
       "    </tr>\n",
       "  </tbody>\n",
       "</table>\n",
       "</div>"
      ],
      "text/plain": [
       "   Topic  Count                             Name  \\\n",
       "0     -1     70      -1_vaccine_know_people_dont   \n",
       "1      0     48      0_vaccine_people_covid_know   \n",
       "2      1     34       1_vaccine_people_will_like   \n",
       "3      2     22  2_vaccine_heart_patient_protein   \n",
       "\n",
       "                                      Representation  \\\n",
       "0  [vaccine, know, people, dont, just, shot, that...   \n",
       "1  [vaccine, people, covid, know, just, like, tha...   \n",
       "2  [vaccine, people, will, like, virus, work, fir...   \n",
       "3  [vaccine, heart, patient, protein, spike, myoc...   \n",
       "\n",
       "                                 Representative_Docs  \n",
       "0  [ well a warm welcome to this talk and a parti...  \n",
       "1  [ We’re entering the third year of the pandemi...  \n",
       "2  [ we're going to bring you right up to date wi...  \n",
       "3  [ hey guys welcome to another video yesterday ...  "
      ]
     },
     "execution_count": 25,
     "metadata": {},
     "output_type": "execute_result"
    }
   ],
   "source": [
    "topic_model.get_topic_info()"
   ]
  },
  {
   "cell_type": "code",
   "execution_count": 23,
   "id": "88020447-d449-497b-a960-0eb19efe9df3",
   "metadata": {},
   "outputs": [
    {
     "data": {
      "text/plain": [
       "[-1, -1, 2, -1, 0, -1, -1, 2, 2, 0]"
      ]
     },
     "execution_count": 23,
     "metadata": {},
     "output_type": "execute_result"
    }
   ],
   "source": [
    "topics[0:10]"
   ]
  },
  {
   "cell_type": "code",
   "execution_count": 24,
   "id": "b2f06c1c-36b7-4538-be9d-c5082636e810",
   "metadata": {},
   "outputs": [
    {
     "data": {
      "text/plain": [
       "array([0.        , 0.        , 1.        , 0.        , 1.        ,\n",
       "       0.        , 0.        , 1.        , 1.        , 0.87745557])"
      ]
     },
     "execution_count": 24,
     "metadata": {},
     "output_type": "execute_result"
    }
   ],
   "source": [
    "probs[0:10]"
   ]
  },
  {
   "cell_type": "code",
   "execution_count": null,
   "id": "ba55e76b-331b-46e6-bdd8-6888233b3241",
   "metadata": {},
   "outputs": [],
   "source": []
  },
  {
   "cell_type": "code",
   "execution_count": null,
   "id": "22d91be9-d6c9-43b0-a942-8ebd1f4dadc2",
   "metadata": {},
   "outputs": [],
   "source": []
  },
  {
   "cell_type": "code",
   "execution_count": null,
   "id": "d37f7bb2-7dcc-4d9f-a5b4-09bc454b9bc8",
   "metadata": {},
   "outputs": [],
   "source": []
  },
  {
   "cell_type": "code",
   "execution_count": null,
   "id": "d81f6d4e-a05a-4b7e-b241-7e11221bbd6f",
   "metadata": {},
   "outputs": [],
   "source": []
  },
  {
   "cell_type": "markdown",
   "id": "64cbcfd6-1be6-41b5-adbd-db4e0728a8f5",
   "metadata": {},
   "source": [
    "---"
   ]
  },
  {
   "cell_type": "code",
   "execution_count": null,
   "id": "5f955847-e5b4-4f5f-b088-3a0a0c2289d7",
   "metadata": {},
   "outputs": [],
   "source": []
  }
 ],
 "metadata": {
  "kernelspec": {
   "display_name": "Python 3 (ipykernel)",
   "language": "python",
   "name": "python3"
  },
  "language_info": {
   "codemirror_mode": {
    "name": "ipython",
    "version": 3
   },
   "file_extension": ".py",
   "mimetype": "text/x-python",
   "name": "python",
   "nbconvert_exporter": "python",
   "pygments_lexer": "ipython3",
   "version": "3.11.8"
  }
 },
 "nbformat": 4,
 "nbformat_minor": 5
}
