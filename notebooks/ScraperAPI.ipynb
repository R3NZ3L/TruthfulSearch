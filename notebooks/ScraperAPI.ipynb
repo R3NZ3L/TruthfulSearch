{
 "cells": [
  {
   "cell_type": "markdown",
   "id": "dbe60a89-7382-4769-bad8-d22c73ad6a79",
   "metadata": {},
   "source": [
    "Using ScraperAPI<br>\n",
    "ScraperAPI: https://www.scraperapi.com/ <br>\n",
    "Github repos: https://github.com/scraperapi <br>\n",
    "Video guide: https://www.youtube.com/watch?v=gKf9hcGYdEI <br>"
   ]
  },
  {
   "cell_type": "markdown",
   "id": "a42d2ed8-8728-47bd-831f-743e4d579b89",
   "metadata": {},
   "source": [
    "WARNING:<br>\n",
    "A free account has <b>200</b> queries <b>PER MONTH</b>."
   ]
  },
  {
   "cell_type": "code",
   "execution_count": 1,
   "id": "c7f72502-8f36-4bba-a48f-6db303a5a94f",
   "metadata": {
    "tags": []
   },
   "outputs": [],
   "source": [
    "import pandas as pd\n",
    "import numpy as np"
   ]
  },
  {
   "cell_type": "code",
   "execution_count": 3,
   "id": "72c86adc-b798-4983-a215-063a90e74b70",
   "metadata": {
    "tags": []
   },
   "outputs": [
    {
     "data": {
      "text/html": [
       "<div>\n",
       "<style scoped>\n",
       "    .dataframe tbody tr th:only-of-type {\n",
       "        vertical-align: middle;\n",
       "    }\n",
       "\n",
       "    .dataframe tbody tr th {\n",
       "        vertical-align: top;\n",
       "    }\n",
       "\n",
       "    .dataframe thead th {\n",
       "        text-align: right;\n",
       "    }\n",
       "</style>\n",
       "<table border=\"1\" class=\"dataframe\">\n",
       "  <thead>\n",
       "    <tr style=\"text-align: right;\">\n",
       "      <th></th>\n",
       "      <th>channel_id</th>\n",
       "      <th>channel_name</th>\n",
       "      <th>channel_dop</th>\n",
       "      <th>sub_count</th>\n",
       "      <th>total_videos</th>\n",
       "    </tr>\n",
       "  </thead>\n",
       "  <tbody>\n",
       "    <tr>\n",
       "      <th>0</th>\n",
       "      <td>UC7fWeaHhqgM4Ry-RMpM2YYw</td>\n",
       "      <td>TRT World</td>\n",
       "      <td>2015-03-17</td>\n",
       "      <td>5660000</td>\n",
       "      <td>52663</td>\n",
       "    </tr>\n",
       "    <tr>\n",
       "      <th>1</th>\n",
       "      <td>UC9MAhZQQd9egwWCxrwSIsJQ</td>\n",
       "      <td>HISTORY</td>\n",
       "      <td>2006-08-27</td>\n",
       "      <td>13100000</td>\n",
       "      <td>9605</td>\n",
       "    </tr>\n",
       "    <tr>\n",
       "      <th>2</th>\n",
       "      <td>UC_gUM8rL-Lrg6O3adPW9K1g</td>\n",
       "      <td>WION</td>\n",
       "      <td>2016-05-19</td>\n",
       "      <td>8530000</td>\n",
       "      <td>140317</td>\n",
       "    </tr>\n",
       "    <tr>\n",
       "      <th>3</th>\n",
       "      <td>UCLXo7UDZvByw2ixzpQCufnA</td>\n",
       "      <td>Vox</td>\n",
       "      <td>2014-03-04</td>\n",
       "      <td>11900000</td>\n",
       "      <td>1686</td>\n",
       "    </tr>\n",
       "    <tr>\n",
       "      <th>4</th>\n",
       "      <td>UCVgO39Bk5sMo66-6o6Spn6Q</td>\n",
       "      <td>ABC News (Australia)</td>\n",
       "      <td>2008-06-09</td>\n",
       "      <td>1980000</td>\n",
       "      <td>86206</td>\n",
       "    </tr>\n",
       "    <tr>\n",
       "      <th>...</th>\n",
       "      <td>...</td>\n",
       "      <td>...</td>\n",
       "      <td>...</td>\n",
       "      <td>...</td>\n",
       "      <td>...</td>\n",
       "    </tr>\n",
       "    <tr>\n",
       "      <th>120</th>\n",
       "      <td>UCvlj0IzjSnNoduQF0l3VGng</td>\n",
       "      <td>Some More News</td>\n",
       "      <td>2018-03-06</td>\n",
       "      <td>837000</td>\n",
       "      <td>255</td>\n",
       "    </tr>\n",
       "    <tr>\n",
       "      <th>121</th>\n",
       "      <td>UCx8Z14PpntdaxCt2hakbQLQ</td>\n",
       "      <td>TheLallantop</td>\n",
       "      <td>2015-03-23</td>\n",
       "      <td>28300000</td>\n",
       "      <td>49827</td>\n",
       "    </tr>\n",
       "    <tr>\n",
       "      <th>122</th>\n",
       "      <td>UCfmSignFWkk1lw4015hCyyQ</td>\n",
       "      <td>StandWithUs</td>\n",
       "      <td>2006-06-06</td>\n",
       "      <td>111000</td>\n",
       "      <td>1068</td>\n",
       "    </tr>\n",
       "    <tr>\n",
       "      <th>123</th>\n",
       "      <td>UCtL5p5kTIgWA3bcskUccdyw</td>\n",
       "      <td>Media Education Foundation</td>\n",
       "      <td>2019-07-02</td>\n",
       "      <td>5530</td>\n",
       "      <td>258</td>\n",
       "    </tr>\n",
       "    <tr>\n",
       "      <th>124</th>\n",
       "      <td>UCu4XcDBdnZkV6-5z2f16M0g</td>\n",
       "      <td>Real Stories</td>\n",
       "      <td>2015-02-16</td>\n",
       "      <td>6240000</td>\n",
       "      <td>1141</td>\n",
       "    </tr>\n",
       "  </tbody>\n",
       "</table>\n",
       "<p>125 rows × 5 columns</p>\n",
       "</div>"
      ],
      "text/plain": [
       "                   channel_id                channel_name channel_dop  \\\n",
       "0    UC7fWeaHhqgM4Ry-RMpM2YYw                   TRT World  2015-03-17   \n",
       "1    UC9MAhZQQd9egwWCxrwSIsJQ                     HISTORY  2006-08-27   \n",
       "2    UC_gUM8rL-Lrg6O3adPW9K1g                        WION  2016-05-19   \n",
       "3    UCLXo7UDZvByw2ixzpQCufnA                         Vox  2014-03-04   \n",
       "4    UCVgO39Bk5sMo66-6o6Spn6Q        ABC News (Australia)  2008-06-09   \n",
       "..                        ...                         ...         ...   \n",
       "120  UCvlj0IzjSnNoduQF0l3VGng              Some More News  2018-03-06   \n",
       "121  UCx8Z14PpntdaxCt2hakbQLQ                TheLallantop  2015-03-23   \n",
       "122  UCfmSignFWkk1lw4015hCyyQ                 StandWithUs  2006-06-06   \n",
       "123  UCtL5p5kTIgWA3bcskUccdyw  Media Education Foundation  2019-07-02   \n",
       "124  UCu4XcDBdnZkV6-5z2f16M0g                Real Stories  2015-02-16   \n",
       "\n",
       "     sub_count  total_videos  \n",
       "0      5660000         52663  \n",
       "1     13100000          9605  \n",
       "2      8530000        140317  \n",
       "3     11900000          1686  \n",
       "4      1980000         86206  \n",
       "..         ...           ...  \n",
       "120     837000           255  \n",
       "121   28300000         49827  \n",
       "122     111000          1068  \n",
       "123       5530           258  \n",
       "124    6240000          1141  \n",
       "\n",
       "[125 rows x 5 columns]"
      ]
     },
     "execution_count": 3,
     "metadata": {},
     "output_type": "execute_result"
    }
   ],
   "source": [
    "path = \"../datasets/israeli-palestine_conflict_history/channels.csv\"\n",
    "channels = pd.read_csv(path).drop(\"Unnamed: 0\", axis=1)\n",
    "channels"
   ]
  },
  {
   "cell_type": "code",
   "execution_count": 4,
   "id": "79f6c540-5fbd-4cad-af67-d7fa3a7ee421",
   "metadata": {
    "tags": []
   },
   "outputs": [],
   "source": [
    "from scraper_api import ScraperAPIClient\n",
    "APIKEY = \"\"\n",
    "client = ScraperAPIClient(APIKEY)"
   ]
  },
  {
   "cell_type": "code",
   "execution_count": 5,
   "id": "251496e4-be37-4518-b38f-4048979c4e08",
   "metadata": {
    "tags": []
   },
   "outputs": [],
   "source": [
    "result = client.get(url=\"https://www.google.com/search?q=TRT+World+LinkedIn\").text"
   ]
  }
 ],
 "metadata": {
  "kernelspec": {
   "display_name": "Python 3 (ipykernel)",
   "language": "python",
   "name": "python3"
  },
  "language_info": {
   "codemirror_mode": {
    "name": "ipython",
    "version": 3
   },
   "file_extension": ".py",
   "mimetype": "text/x-python",
   "name": "python",
   "nbconvert_exporter": "python",
   "pygments_lexer": "ipython3",
   "version": "3.11.5"
  }
 },
 "nbformat": 4,
 "nbformat_minor": 5
}
