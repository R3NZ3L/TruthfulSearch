{
 "cells": [
  {
   "cell_type": "code",
   "execution_count": 1,
   "id": "32b0562c-9fd6-4749-b321-7f73a3243780",
   "metadata": {},
   "outputs": [],
   "source": [
    "import pandas as pd\n",
    "import numpy as np\n",
    "from tqdm import tqdm\n",
    "import regex as re"
   ]
  },
  {
   "cell_type": "code",
   "execution_count": 2,
   "id": "1ecc2a7e-8dd6-4beb-ab34-b8296704d6bd",
   "metadata": {},
   "outputs": [],
   "source": [
    "filename = \"covid_vaccine\""
   ]
  },
  {
   "cell_type": "code",
   "execution_count": 3,
   "id": "10132217-08dd-4802-8995-3fd807429f0c",
   "metadata": {},
   "outputs": [
    {
     "data": {
      "text/html": [
       "<div>\n",
       "<style scoped>\n",
       "    .dataframe tbody tr th:only-of-type {\n",
       "        vertical-align: middle;\n",
       "    }\n",
       "\n",
       "    .dataframe tbody tr th {\n",
       "        vertical-align: top;\n",
       "    }\n",
       "\n",
       "    .dataframe thead th {\n",
       "        text-align: right;\n",
       "    }\n",
       "</style>\n",
       "<table border=\"1\" class=\"dataframe\">\n",
       "  <thead>\n",
       "    <tr style=\"text-align: right;\">\n",
       "      <th></th>\n",
       "      <th>video_id</th>\n",
       "      <th>video_title</th>\n",
       "      <th>video_transcript</th>\n",
       "    </tr>\n",
       "  </thead>\n",
       "  <tbody>\n",
       "    <tr>\n",
       "      <th>0</th>\n",
       "      <td>2IXl4qJGrRk</td>\n",
       "      <td>A man deliberately got 217 Covid shots. Here’s...</td>\n",
       "      <td>A German man has puzzled scientists after he ...</td>\n",
       "    </tr>\n",
       "    <tr>\n",
       "      <th>1</th>\n",
       "      <td>HtTalpY-J-M</td>\n",
       "      <td>COVID: German man vaccinated 217 times had no ...</td>\n",
       "      <td>a 62-year-old German man from magur claims he...</td>\n",
       "    </tr>\n",
       "    <tr>\n",
       "      <th>2</th>\n",
       "      <td>jPs4_MeuX7U</td>\n",
       "      <td>New Covid vaccine study links jab to heart and...</td>\n",
       "      <td>a latest covid-19 study is providing answers ...</td>\n",
       "    </tr>\n",
       "    <tr>\n",
       "      <th>3</th>\n",
       "      <td>WhiBpmH1mE4</td>\n",
       "      <td>MAN GETS 217 COVID VACCINES! 😱😱😱 THIS is What ...</td>\n",
       "      <td>a 62-year-old man who lives in Germany uh got...</td>\n",
       "    </tr>\n",
       "    <tr>\n",
       "      <th>4</th>\n",
       "      <td>LfmhYVCCGhc</td>\n",
       "      <td>Joe Rogan says tons of people &amp;quot;died sudde...</td>\n",
       "      <td>Speaker 1: This is really painful to watch. O...</td>\n",
       "    </tr>\n",
       "  </tbody>\n",
       "</table>\n",
       "</div>"
      ],
      "text/plain": [
       "      video_id                                        video_title  \\\n",
       "0  2IXl4qJGrRk  A man deliberately got 217 Covid shots. Here’s...   \n",
       "1  HtTalpY-J-M  COVID: German man vaccinated 217 times had no ...   \n",
       "2  jPs4_MeuX7U  New Covid vaccine study links jab to heart and...   \n",
       "3  WhiBpmH1mE4  MAN GETS 217 COVID VACCINES! 😱😱😱 THIS is What ...   \n",
       "4  LfmhYVCCGhc  Joe Rogan says tons of people &quot;died sudde...   \n",
       "\n",
       "                                    video_transcript  \n",
       "0   A German man has puzzled scientists after he ...  \n",
       "1   a 62-year-old German man from magur claims he...  \n",
       "2   a latest covid-19 study is providing answers ...  \n",
       "3   a 62-year-old man who lives in Germany uh got...  \n",
       "4   Speaker 1: This is really painful to watch. O...  "
      ]
     },
     "execution_count": 3,
     "metadata": {},
     "output_type": "execute_result"
    }
   ],
   "source": [
    "path = \"../datasets/\" + filename + \"/videos.csv\"\n",
    "df = pd.read_csv(path, index_col=0)[[\"video_id\", \"video_title\", \"video_transcript\"]]\n",
    "df.head()"
   ]
  },
  {
   "cell_type": "code",
   "execution_count": 4,
   "id": "55163973-6574-4bcc-b163-3f38dda1b08b",
   "metadata": {},
   "outputs": [
    {
     "data": {
      "text/plain": [
       "Index([], dtype='int64')"
      ]
     },
     "execution_count": 4,
     "metadata": {},
     "output_type": "execute_result"
    }
   ],
   "source": [
    "# Indices of nan transcripts\n",
    "drop_indices = df[[\"video_id\", \"video_transcript\"]].loc[df[\"video_transcript\"] == 'nan'].index\n",
    "drop_indices"
   ]
  },
  {
   "cell_type": "code",
   "execution_count": 5,
   "id": "9e6715b7-70e0-4e4c-817c-fd15fb65b1e5",
   "metadata": {},
   "outputs": [],
   "source": [
    "df.drop(drop_indices, inplace=True)"
   ]
  },
  {
   "cell_type": "code",
   "execution_count": 6,
   "id": "78ce657b-bf67-4523-adfd-01a66eb69eb2",
   "metadata": {},
   "outputs": [],
   "source": [
    "patterns = []\n",
    "replacements = []\n",
    "\n",
    "# [0] Removing occurances of \\xa0 and \\n\n",
    "patterns.append('(\\\\xa0|\\\\n)')\n",
    "replacements.append(' ')\n",
    "\n",
    "# [1] Removing text enclosed in brackets\n",
    "patterns.append('\\[(\\w|\\s)+\\]')\n",
    "replacements.append('')\n",
    "\n",
    "# [2] Replacing stray '000's to 'thousand'\n",
    "patterns.append('(?<=\\s)000(?=\\s)')\n",
    "replacements.append('thousand')\n",
    "\n",
    "# [3, 4] Mistranscriptions of the word 'COVID'\n",
    "patterns.append('(?<=\\s)(C|c)o(ve(r)?t|id)(?=\\s)')\n",
    "patterns.append('(C|c)overed(?=\\s(vacc|infe))')\n",
    "replacements.append('COVID')\n",
    "replacements.append('COVID')\n",
    "\n",
    "# [5] Mistranscriptions of the word 'COVID-19'\n",
    "patterns.append('(?<=\\s)(C|c)(oveted|o9|o\\s19)(?=\\s)')\n",
    "replacements.append('COVID19')\n",
    "\n",
    "# [6] Replacing '%' with the word 'percent'\n",
    "patterns.append('(?<=\\d)\\%')\n",
    "replacements.append(' percent')\n",
    "\n",
    "# [7] Removing 'Speaker %d:' occurances\n",
    "patterns.append('Speaker\\s\\d\\:')\n",
    "replacements.append('')\n",
    "\n",
    "# [8] Removing '[\\xa0__\\xa0]'\n",
    "patterns.append('\\[\\\\xa0\\_\\_\\\\xa0\\]')\n",
    "replacements.append('')\n",
    "\n",
    "# [9] Removing >> occurances\n",
    "patterns.append('\\>\\>(\\>+)?')\n",
    "replacements.append('')\n",
    "\n",
    "# [10] Removing 'Reporter:' occurances\n",
    "patterns.append('Reporter\\:')\n",
    "replacements.append('')\n",
    "\n",
    "# [11] Removing weird +@ occurances\n",
    "patterns.append('\\+\\@')\n",
    "replacements.append('')\n",
    "\n",
    "# [12] Removing stray - occurances\n",
    "patterns.append('(?<=\\s)\\-(\\-+)?(?=\\s)')\n",
    "replacements.append('')\n",
    "\n",
    "# [13] Removing text within parentheses\n",
    "patterns.append('\\((\\w|\\s)+\\)')\n",
    "replacements.append('')\n",
    "\n",
    "# [14] Combining stray instances of '19' with the word 'covid' if it exists next to it\n",
    "patterns.append('(covid|COVID)(\\s|-)?19')\n",
    "replacements.append('COVID19')"
   ]
  },
  {
   "cell_type": "code",
   "execution_count": 7,
   "id": "35d6f5ba-b329-4b99-8c2b-9e02ebe0f081",
   "metadata": {
    "scrolled": true
   },
   "outputs": [
    {
     "data": {
      "text/plain": [
       "200"
      ]
     },
     "execution_count": 7,
     "metadata": {},
     "output_type": "execute_result"
    }
   ],
   "source": [
    "transcripts = df[\"video_transcript\"].tolist()\n",
    "cleaned = []\n",
    "len(transcripts)"
   ]
  },
  {
   "cell_type": "code",
   "execution_count": 8,
   "id": "f3f223dc-2f47-4a1f-b77c-b7192a972865",
   "metadata": {},
   "outputs": [
    {
     "data": {
      "text/plain": [
       "\" a latest covid-19 study is providing answers to one of the questions often repeated since the vaccines were introduced how have the vaccines been affecting our health now the largest vaccine study to date it has identified some risks which are associated with them and our next report brings you all the details take a look New Zealand's Global vaccine Data Network analyzed data from 199 million people who received covid-19 vaccines across eight countries they findings show the vaccines are responsible for a slight increase in neurological blood and heart Related [Music] Disorders the research says three doses of fiser bio entech and moderna's mRNA vaccines could Trigger miocarditis or rare condition of heart inflammation a third dose of Astra vaccine increased the risk of another the heart condition pericarditis 6.9 fold the first and fourth dose of Mna increased the risk 1.7 fold and 2.6 fold respectively those who took the astrena shots had a greater risk of developing a rare neurological disorder Gillian bar syndrome they also had a 3.2 times increased risk of getting blood clots the Monna vaccine increased the risk 3.8 times of the neurological disorder acute disseminated enom myelitis for Astro's vaccine users there was a 2.2-fold increased risk of the disorder the study also warned of several other disorders that need further investigation however it emphasized that the risk of developing any of the mentioned conditions are very small the research notes that out of 13 billion doses administered there have been only 2,000 such cases the study also highlights that the benefits of the vaccines far out toway the risks Bureau report Von world is one for latest news download the V on app And subscribe to our YouTube channel\""
      ]
     },
     "execution_count": 8,
     "metadata": {},
     "output_type": "execute_result"
    }
   ],
   "source": [
    "result = re.sub(patterns[0], replacements[0], transcripts[2])\n",
    "result"
   ]
  },
  {
   "cell_type": "code",
   "execution_count": 9,
   "id": "188d8efb-bdf5-4bbb-b492-748fbf161816",
   "metadata": {},
   "outputs": [
    {
     "data": {
      "text/plain": [
       "200"
      ]
     },
     "execution_count": 9,
     "metadata": {},
     "output_type": "execute_result"
    }
   ],
   "source": [
    "for transcript in transcripts:\n",
    "    result = re.sub(patterns[0], replacements[0], str(transcript))\n",
    "    \n",
    "    for i in range(1, len(patterns)):\n",
    "        result = re.sub(patterns[i], replacements[i], result)\n",
    "    \n",
    "    cleaned.append(result)\n",
    "len(cleaned)"
   ]
  },
  {
   "cell_type": "code",
   "execution_count": 10,
   "id": "243854a4-893d-4d82-b3e9-377371913cf8",
   "metadata": {},
   "outputs": [
    {
     "data": {
      "text/html": [
       "<div>\n",
       "<style scoped>\n",
       "    .dataframe tbody tr th:only-of-type {\n",
       "        vertical-align: middle;\n",
       "    }\n",
       "\n",
       "    .dataframe tbody tr th {\n",
       "        vertical-align: top;\n",
       "    }\n",
       "\n",
       "    .dataframe thead th {\n",
       "        text-align: right;\n",
       "    }\n",
       "</style>\n",
       "<table border=\"1\" class=\"dataframe\">\n",
       "  <thead>\n",
       "    <tr style=\"text-align: right;\">\n",
       "      <th></th>\n",
       "      <th>video_id</th>\n",
       "      <th>video_title</th>\n",
       "      <th>video_transcript</th>\n",
       "    </tr>\n",
       "  </thead>\n",
       "  <tbody>\n",
       "    <tr>\n",
       "      <th>0</th>\n",
       "      <td>2IXl4qJGrRk</td>\n",
       "      <td>A man deliberately got 217 Covid shots. Here’s...</td>\n",
       "      <td>A German man has puzzled scientists after he ...</td>\n",
       "    </tr>\n",
       "    <tr>\n",
       "      <th>1</th>\n",
       "      <td>HtTalpY-J-M</td>\n",
       "      <td>COVID: German man vaccinated 217 times had no ...</td>\n",
       "      <td>a 62-year-old German man from magur claims he...</td>\n",
       "    </tr>\n",
       "    <tr>\n",
       "      <th>2</th>\n",
       "      <td>jPs4_MeuX7U</td>\n",
       "      <td>New Covid vaccine study links jab to heart and...</td>\n",
       "      <td>a latest COVID19 study is providing answers t...</td>\n",
       "    </tr>\n",
       "    <tr>\n",
       "      <th>3</th>\n",
       "      <td>WhiBpmH1mE4</td>\n",
       "      <td>MAN GETS 217 COVID VACCINES! 😱😱😱 THIS is What ...</td>\n",
       "      <td>a 62-year-old man who lives in Germany uh got...</td>\n",
       "    </tr>\n",
       "    <tr>\n",
       "      <th>4</th>\n",
       "      <td>LfmhYVCCGhc</td>\n",
       "      <td>Joe Rogan says tons of people &amp;quot;died sudde...</td>\n",
       "      <td>This is really painful to watch. On  the bon...</td>\n",
       "    </tr>\n",
       "  </tbody>\n",
       "</table>\n",
       "</div>"
      ],
      "text/plain": [
       "      video_id                                        video_title  \\\n",
       "0  2IXl4qJGrRk  A man deliberately got 217 Covid shots. Here’s...   \n",
       "1  HtTalpY-J-M  COVID: German man vaccinated 217 times had no ...   \n",
       "2  jPs4_MeuX7U  New Covid vaccine study links jab to heart and...   \n",
       "3  WhiBpmH1mE4  MAN GETS 217 COVID VACCINES! 😱😱😱 THIS is What ...   \n",
       "4  LfmhYVCCGhc  Joe Rogan says tons of people &quot;died sudde...   \n",
       "\n",
       "                                    video_transcript  \n",
       "0   A German man has puzzled scientists after he ...  \n",
       "1   a 62-year-old German man from magur claims he...  \n",
       "2   a latest COVID19 study is providing answers t...  \n",
       "3   a 62-year-old man who lives in Germany uh got...  \n",
       "4    This is really painful to watch. On  the bon...  "
      ]
     },
     "execution_count": 10,
     "metadata": {},
     "output_type": "execute_result"
    }
   ],
   "source": [
    "transcripts_df = pd.DataFrame(\n",
    "    {\n",
    "        'video_id': df[\"video_id\"].tolist(),\n",
    "        'video_title': df[\"video_title\"].tolist(),\n",
    "        'video_transcript': cleaned\n",
    "    }\n",
    ")\n",
    "transcripts_df.head()"
   ]
  },
  {
   "cell_type": "code",
   "execution_count": 11,
   "id": "bb8820aa-6d8c-4847-9516-b2c446a28b86",
   "metadata": {},
   "outputs": [],
   "source": [
    "from textblob import TextBlob\n",
    "\n",
    "def textblob_subjectivity(df):\n",
    "    subjectivity = []\n",
    "    for entry in df[\"video_transcript\"]:\n",
    "        testimonial = TextBlob(entry)\n",
    "        subjectivity.append(testimonial.sentiment.subjectivity)\n",
    "\n",
    "    subjectivity = pd.Series(subjectivity, name=\"subjectivity\")\n",
    "    df = pd.concat([df, subjectivity], axis=1)\n",
    "    return df"
   ]
  },
  {
   "cell_type": "code",
   "execution_count": 12,
   "id": "d8289125-a285-443d-82be-fcf9057cacad",
   "metadata": {},
   "outputs": [
    {
     "data": {
      "text/html": [
       "<div>\n",
       "<style scoped>\n",
       "    .dataframe tbody tr th:only-of-type {\n",
       "        vertical-align: middle;\n",
       "    }\n",
       "\n",
       "    .dataframe tbody tr th {\n",
       "        vertical-align: top;\n",
       "    }\n",
       "\n",
       "    .dataframe thead th {\n",
       "        text-align: right;\n",
       "    }\n",
       "</style>\n",
       "<table border=\"1\" class=\"dataframe\">\n",
       "  <thead>\n",
       "    <tr style=\"text-align: right;\">\n",
       "      <th></th>\n",
       "      <th>video_id</th>\n",
       "      <th>video_title</th>\n",
       "      <th>video_transcript</th>\n",
       "      <th>subjectivity</th>\n",
       "    </tr>\n",
       "  </thead>\n",
       "  <tbody>\n",
       "    <tr>\n",
       "      <th>0</th>\n",
       "      <td>2IXl4qJGrRk</td>\n",
       "      <td>A man deliberately got 217 Covid shots. Here’s...</td>\n",
       "      <td>A German man has puzzled scientists after he ...</td>\n",
       "      <td>0.411182</td>\n",
       "    </tr>\n",
       "    <tr>\n",
       "      <th>1</th>\n",
       "      <td>HtTalpY-J-M</td>\n",
       "      <td>COVID: German man vaccinated 217 times had no ...</td>\n",
       "      <td>a 62-year-old German man from magur claims he...</td>\n",
       "      <td>0.441667</td>\n",
       "    </tr>\n",
       "    <tr>\n",
       "      <th>2</th>\n",
       "      <td>jPs4_MeuX7U</td>\n",
       "      <td>New Covid vaccine study links jab to heart and...</td>\n",
       "      <td>a latest COVID19 study is providing answers t...</td>\n",
       "      <td>0.473893</td>\n",
       "    </tr>\n",
       "    <tr>\n",
       "      <th>3</th>\n",
       "      <td>WhiBpmH1mE4</td>\n",
       "      <td>MAN GETS 217 COVID VACCINES! 😱😱😱 THIS is What ...</td>\n",
       "      <td>a 62-year-old man who lives in Germany uh got...</td>\n",
       "      <td>0.490237</td>\n",
       "    </tr>\n",
       "    <tr>\n",
       "      <th>4</th>\n",
       "      <td>LfmhYVCCGhc</td>\n",
       "      <td>Joe Rogan says tons of people &amp;quot;died sudde...</td>\n",
       "      <td>This is really painful to watch. On  the bon...</td>\n",
       "      <td>0.535842</td>\n",
       "    </tr>\n",
       "    <tr>\n",
       "      <th>...</th>\n",
       "      <td>...</td>\n",
       "      <td>...</td>\n",
       "      <td>...</td>\n",
       "      <td>...</td>\n",
       "    </tr>\n",
       "    <tr>\n",
       "      <th>195</th>\n",
       "      <td>l6mTAJ08aUI</td>\n",
       "      <td>How the race for the Covid vaccine was won 💉 BBC</td>\n",
       "      <td>in different corners of the globe pioneering ...</td>\n",
       "      <td>0.502047</td>\n",
       "    </tr>\n",
       "    <tr>\n",
       "      <th>196</th>\n",
       "      <td>2XVCPdPAUbA</td>\n",
       "      <td>Law professor on whether employers can mandate...</td>\n",
       "      <td>K TRADING IN PERSON ON IN THE  OPERATIONS WHE...</td>\n",
       "      <td>0.529917</td>\n",
       "    </tr>\n",
       "    <tr>\n",
       "      <th>197</th>\n",
       "      <td>XHfRpNJI0c8</td>\n",
       "      <td>Jennifer Aniston cuts ties over COVID vaccine ...</td>\n",
       "      <td>now to jennifer aniston who is revealing she'...</td>\n",
       "      <td>0.396068</td>\n",
       "    </tr>\n",
       "    <tr>\n",
       "      <th>198</th>\n",
       "      <td>wuqyRBmashA</td>\n",
       "      <td>NY woman says Johnson &amp;amp; Johnson COVID vacc...</td>\n",
       "      <td>HERE. BUT IT'S NOT OUGHT OF HERE ESPECIALLY F...</td>\n",
       "      <td>0.574818</td>\n",
       "    </tr>\n",
       "    <tr>\n",
       "      <th>199</th>\n",
       "      <td>Ea4cUAlZhY8</td>\n",
       "      <td>India to begin exporting COVID-19 vaccines wit...</td>\n",
       "      <td>india is preparing for a national COVID19 vac...</td>\n",
       "      <td>0.448198</td>\n",
       "    </tr>\n",
       "  </tbody>\n",
       "</table>\n",
       "<p>200 rows × 4 columns</p>\n",
       "</div>"
      ],
      "text/plain": [
       "        video_id                                        video_title  \\\n",
       "0    2IXl4qJGrRk  A man deliberately got 217 Covid shots. Here’s...   \n",
       "1    HtTalpY-J-M  COVID: German man vaccinated 217 times had no ...   \n",
       "2    jPs4_MeuX7U  New Covid vaccine study links jab to heart and...   \n",
       "3    WhiBpmH1mE4  MAN GETS 217 COVID VACCINES! 😱😱😱 THIS is What ...   \n",
       "4    LfmhYVCCGhc  Joe Rogan says tons of people &quot;died sudde...   \n",
       "..           ...                                                ...   \n",
       "195  l6mTAJ08aUI   How the race for the Covid vaccine was won 💉 BBC   \n",
       "196  2XVCPdPAUbA  Law professor on whether employers can mandate...   \n",
       "197  XHfRpNJI0c8  Jennifer Aniston cuts ties over COVID vaccine ...   \n",
       "198  wuqyRBmashA  NY woman says Johnson &amp; Johnson COVID vacc...   \n",
       "199  Ea4cUAlZhY8  India to begin exporting COVID-19 vaccines wit...   \n",
       "\n",
       "                                      video_transcript  subjectivity  \n",
       "0     A German man has puzzled scientists after he ...      0.411182  \n",
       "1     a 62-year-old German man from magur claims he...      0.441667  \n",
       "2     a latest COVID19 study is providing answers t...      0.473893  \n",
       "3     a 62-year-old man who lives in Germany uh got...      0.490237  \n",
       "4      This is really painful to watch. On  the bon...      0.535842  \n",
       "..                                                 ...           ...  \n",
       "195   in different corners of the globe pioneering ...      0.502047  \n",
       "196   K TRADING IN PERSON ON IN THE  OPERATIONS WHE...      0.529917  \n",
       "197   now to jennifer aniston who is revealing she'...      0.396068  \n",
       "198   HERE. BUT IT'S NOT OUGHT OF HERE ESPECIALLY F...      0.574818  \n",
       "199   india is preparing for a national COVID19 vac...      0.448198  \n",
       "\n",
       "[200 rows x 4 columns]"
      ]
     },
     "execution_count": 12,
     "metadata": {},
     "output_type": "execute_result"
    }
   ],
   "source": [
    "ss_df = textblob_subjectivity(transcripts_df)\n",
    "ss_df"
   ]
  },
  {
   "cell_type": "code",
   "execution_count": null,
   "id": "cebf00f1-c481-4f81-b096-32436199b79b",
   "metadata": {},
   "outputs": [],
   "source": []
  },
  {
   "cell_type": "code",
   "execution_count": null,
   "id": "28212487-0e8f-492d-9741-f7f41018cc1d",
   "metadata": {},
   "outputs": [],
   "source": []
  },
  {
   "cell_type": "code",
   "execution_count": null,
   "id": "019dce03-a85a-43f9-a5eb-f99b0fe2d4ff",
   "metadata": {},
   "outputs": [],
   "source": []
  },
  {
   "cell_type": "code",
   "execution_count": null,
   "id": "27fb2372-a287-40fa-b278-452f2e10011f",
   "metadata": {},
   "outputs": [],
   "source": []
  },
  {
   "cell_type": "code",
   "execution_count": null,
   "id": "6d9c030b-4418-4378-85b4-93b37e63d408",
   "metadata": {},
   "outputs": [],
   "source": []
  },
  {
   "cell_type": "code",
   "execution_count": null,
   "id": "5f955847-e5b4-4f5f-b088-3a0a0c2289d7",
   "metadata": {},
   "outputs": [],
   "source": []
  }
 ],
 "metadata": {
  "kernelspec": {
   "display_name": "Python 3 (ipykernel)",
   "language": "python",
   "name": "python3"
  },
  "language_info": {
   "codemirror_mode": {
    "name": "ipython",
    "version": 3
   },
   "file_extension": ".py",
   "mimetype": "text/x-python",
   "name": "python",
   "nbconvert_exporter": "python",
   "pygments_lexer": "ipython3",
   "version": "3.11.8"
  }
 },
 "nbformat": 4,
 "nbformat_minor": 5
}
