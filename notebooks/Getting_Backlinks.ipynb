{
 "cells": [
  {
   "cell_type": "code",
   "execution_count": null,
   "id": "d580370d",
   "metadata": {},
   "outputs": [],
   "source": [
    "import pandas as pd\n",
    "import numpy as np\n",
    "from sklearn import preprocessing\n",
    "from googleapiclient.discovery import build\n",
    "from googleapiclient.errors import HttpError\n",
    "import regex as re\n",
    "from jellyfish import jaro_similarity\n",
    "from tqdm import tqdm"
   ]
  },
  {
   "cell_type": "code",
   "execution_count": null,
   "id": "cb5f012d",
   "metadata": {},
   "outputs": [],
   "source": [
    "from selenium import webdriver\n",
    "from selenium.webdriver.common.by import By\n",
    "from selenium.webdriver.support.wait import WebDriverWait\n",
    "from selenium.webdriver.support import expected_conditions as EC\n",
    "from selenium.webdriver.common.keys import Keys\n",
    "from time import time\n",
    "from time import sleep\n",
    "from time import strftime\n",
    "from time import gmtime\n",
    "from selenium.common.exceptions import NoSuchElementException"
   ]
  },
  {
   "cell_type": "code",
   "execution_count": null,
   "id": "80ba1ff9-4676-4ffd-b494-e9a8f5833d41",
   "metadata": {
    "tags": []
   },
   "outputs": [],
   "source": [
    "filename = \"covid_philippines\""
   ]
  },
  {
   "cell_type": "code",
   "execution_count": null,
   "id": "11fe8bef",
   "metadata": {},
   "outputs": [],
   "source": [
    "path = \"../datasets/\" + filename + \"/videos.csv\"\n",
    "video_df = pd.read_csv(path).drop(\"Unnamed: 0\", axis=1)"
   ]
  },
  {
   "cell_type": "code",
   "execution_count": null,
   "id": "c0400863-2c16-4439-9ffc-7be4466c4528",
   "metadata": {
    "tags": []
   },
   "outputs": [],
   "source": [
    "path = \"../datasets/\" + filename + \"/source_links.csv\"\n",
    "sc_df = pd.read_csv(path).drop(\"Unnamed: 0\", axis=1)"
   ]
  },
  {
   "cell_type": "markdown",
   "id": "b131788f-4a45-442c-9636-b5fa015203ac",
   "metadata": {},
   "source": [
    "---"
   ]
  },
  {
   "cell_type": "code",
   "execution_count": null,
   "id": "5051b269-89d5-41ab-bb9c-34e12ca0fa7a",
   "metadata": {
    "tags": []
   },
   "outputs": [],
   "source": [
    "# Automated\n",
    "def get_backlinks(df, mode):\n",
    "    backlinks = {}\n",
    "    url_list = []\n",
    "    index = 0\n",
    "    \n",
    "    if mode == 'video':\n",
    "        cols = ['video_id', 'backlinks']\n",
    "        for col in cols:\n",
    "            backlinks[col] = {}\n",
    "            \n",
    "        video_id_list = df['video_id'].tolist()\n",
    "        for i in range(len(video_id_list)):\n",
    "            backlinks['video_id'][i] = video_id_list[i]\n",
    "        \n",
    "        cols = [cols[1]]\n",
    "            \n",
    "        for i in range(df.shape[0]):\n",
    "            url_list.append(\"https://www.youtube.com/watch?v=\" + df.iloc[i]['video_id'])\n",
    "            \n",
    "    elif mode == 'external':\n",
    "        cols = ['channel_id', 'channel_name', 'LinkedIn', 'Wiki', 'Website', 'Twitter', 'Facebook']\n",
    "        for col in cols:\n",
    "            backlinks[col] = {}\n",
    "            \n",
    "        channel_id_list = df['channel_id'].tolist()\n",
    "        channel_name_list = df['channel_name'].tolist()\n",
    "        for i in range(len(channel_id_list)):\n",
    "            backlinks['channel_id'][i] = channel_id_list[i]\n",
    "            backlinks['channel_name'][i] = channel_name_list[i]\n",
    "            \n",
    "        cols = cols[2:7]\n",
    "        \n",
    "        for col in cols:\n",
    "            for i in range(df.shape[0]):\n",
    "                url_list.append(df.iloc[i][col])\n",
    "    \n",
    "    driver = webdriver.Firefox()\n",
    "    driver.get(\"https://www.thehoth.com/backlinks-checker/\")\n",
    "    \n",
    "    captcha_passed = False\n",
    "    \n",
    "    pbar = tqdm(total=len(url_list))\n",
    "    pbar.set_description(\"Getting backlinks...\")\n",
    "    start_time = time()\n",
    "    \n",
    "    for col in cols:\n",
    "        for i in range(df.shape[0]):\n",
    "            if url_list[index] is np.nan:\n",
    "                backlinks[col][i] = 0\n",
    "                # print(f\"--------------------- INDEX {index} COMPLETE ({col}: {i}: {result}) ---------------------\")\n",
    "                index += 1\n",
    "                pbar.update(1)\n",
    "                continue\n",
    "            else:\n",
    "                # Wait for page to load and locate textbox\n",
    "                # print(\"Waiting for frame\")\n",
    "                WebDriverWait(driver, 200).until(\n",
    "                    EC.frame_to_be_available_and_switch_to_it((By.ID, \"hothtools\"))\n",
    "                )\n",
    "\n",
    "                sleep(1)\n",
    "\n",
    "                WebDriverWait(driver, 200).until_not(\n",
    "                    EC.visibility_of_element_located((By.CLASS_NAME, \"hoth-loader__container\"))\n",
    "                )\n",
    "\n",
    "                # Input link\n",
    "                # print(\"Inputting link\")\n",
    "                notFound = False\n",
    "                while(not notFound):\n",
    "                    try:\n",
    "                        targeturl = driver.find_element(By.ID, \"targeturl\")\n",
    "                        notFound = True\n",
    "                    except:\n",
    "                        sleep(10)\n",
    "                        pass\n",
    "\n",
    "                targeturl.click()\n",
    "                targeturl.send_keys(Keys.CONTROL + \"A\")\n",
    "                targeturl.send_keys(Keys.BACKSPACE)\n",
    "                targeturl.send_keys(url_list[index])\n",
    "\n",
    "                # Select 'This Exact URL'\n",
    "                dropdown = driver.find_element(By.ID, \"mode\")\n",
    "                dropdown.click()\n",
    "                option = driver.find_element(By.XPATH, \"/html/body/div[2]/div/div/div/form/div[2]/select/option[3]\")\n",
    "                option.click()\n",
    "\n",
    "                # Submit\n",
    "                submit = driver.find_element(By.XPATH, \"/html/body/div[2]/div/div/div/form/div[2]/button\")\n",
    "                submit.click()\n",
    "\n",
    "                sleep(5)\n",
    "\n",
    "                if not captcha_passed:\n",
    "                    try:\n",
    "                        # In case of Captcha page\n",
    "                        # print(\"Solving CAPTCHA\")\n",
    "                        iframes = driver.find_elements(By.TAG_NAME, \"iframe\")\n",
    "                        cont = False\n",
    "                        for iframe in iframes:\n",
    "                            try:\n",
    "                                driver.switch_to.frame(iframe)\n",
    "                                checkbox = driver.find_element(By.ID, \"recaptcha-anchor\")\n",
    "                                checkbox.click()\n",
    "                                cont = True\n",
    "                                break\n",
    "                            except:\n",
    "                                # print(\"Not Found\")\n",
    "                                driver.switch_to.default_content()\n",
    "\n",
    "                        if not cont:\n",
    "                            raise Exception(\"No CAPTCHA iframe found.\")\n",
    "\n",
    "                        # Giving enough time to manually solve CAPTCHA puzzle\n",
    "                        sleep(15)\n",
    "\n",
    "                        driver.switch_to.default_content()\n",
    "                        driver.switch_to.frame(\"hothtools\")\n",
    "                        submit = driver.find_element(\n",
    "                            By.XPATH, \"//*[@id='submit']\"\n",
    "                        )\n",
    "                        submit.click()\n",
    "                        captcha_passed = True\n",
    "                        sleep(3)\n",
    "                    except:\n",
    "                        pass\n",
    "\n",
    "                # Get external backlinks\n",
    "                # print(\"Getting results\")\n",
    "                driver.switch_to.default_content()\n",
    "                driver.switch_to.frame(\"hothtools\")\n",
    "                try:\n",
    "                    # print(\"Waiting for result frame\")\n",
    "                    WebDriverWait(driver, 200).until(\n",
    "                        EC.element_to_be_clickable((By.ID, \"targeturl\"))\n",
    "                    )\n",
    "\n",
    "                    result = driver.find_element(\n",
    "                        By.XPATH, \"/html/body/div[2]/div/div/div[2]/div[2]/div/div/div[1]/div[2]\"\n",
    "                    ).text\n",
    "                except NoSuchElementException:\n",
    "                    result = '0'\n",
    "                finally:\n",
    "                    backlinks[col][i] = int(result.replace(',', ''))\n",
    "                    # print(f\"--------------------- INDEX {index} COMPLETE ({col}: {i}: {result}) ---------------------\")\n",
    "                    index += 1\n",
    "                    pbar.update(1)\n",
    "                    driver.switch_to.default_content()\n",
    "\n",
    "    pbar.close()\n",
    "    elapsed_time = time() - start_time\n",
    "    print('Execution time:', strftime(\"%H:%M:%S\", gmtime(elapsed_time)))\n",
    "    driver.close()\n",
    "            \n",
    "    return backlinks"
   ]
  },
  {
   "cell_type": "code",
   "execution_count": null,
   "id": "c133ce43-834c-47f5-bafb-c2e948f68f0d",
   "metadata": {
    "tags": []
   },
   "outputs": [],
   "source": [
    "video_backlinks = get_backlinks(video_df, mode='video')"
   ]
  },
  {
   "cell_type": "code",
   "execution_count": null,
   "id": "bdcd51d2-2e77-4b81-92bf-1af8248ce326",
   "metadata": {
    "tags": []
   },
   "outputs": [],
   "source": [
    "source_backlinks = get_backlinks(sc_df, mode='external')"
   ]
  },
  {
   "cell_type": "code",
   "execution_count": null,
   "id": "649afbc3-11cb-4e5e-ae23-81c5359140a6",
   "metadata": {},
   "outputs": [],
   "source": [
    "vbl_df = pd.DataFrame.from_dict(video_backlinks)\n",
    "vbl_df.head()"
   ]
  },
  {
   "cell_type": "code",
   "execution_count": null,
   "id": "678e1ee2-b245-4f38-9724-f8c74e2ab415",
   "metadata": {
    "tags": []
   },
   "outputs": [],
   "source": [
    "sbl_df = pd.DataFrame.from_dict(source_backlinks)\n",
    "sbl_df.head()"
   ]
  },
  {
   "cell_type": "code",
   "execution_count": null,
   "id": "3975bfb5-3932-4dc9-9231-806053b1c106",
   "metadata": {},
   "outputs": [],
   "source": [
    "path = \"../datasets/\" + filename + \"/video_backlinks.csv\"\n",
    "vbl_df.to_csv(path)"
   ]
  },
  {
   "cell_type": "code",
   "execution_count": null,
   "id": "55548e71-779b-44e1-91d1-64307c78f1a5",
   "metadata": {
    "tags": []
   },
   "outputs": [],
   "source": [
    "path = \"../datasets/\" + filename + \"/source_backlinks.csv\"\n",
    "sbl_df.to_csv(path)"
   ]
  },
  {
   "cell_type": "markdown",
   "id": "5483e580-e210-465b-898a-59b8ad38f18e",
   "metadata": {},
   "source": [
    "---"
   ]
  },
  {
   "cell_type": "code",
   "execution_count": null,
   "id": "942ce1e0-0c76-474b-8838-59f3cb918154",
   "metadata": {},
   "outputs": [],
   "source": [
    "path = \"../datasets/\" + filename + \"/video_backlinks.csv\"\n",
    "vbl_df = pd.read_csv(path).drop(\"Unnamed: 0\", axis=1)\n",
    "vbl_df[\"backlinks\"].describe()"
   ]
  },
  {
   "cell_type": "code",
   "execution_count": null,
   "id": "a79567f7-3cf7-4e3b-b091-f92d842e86f6",
   "metadata": {},
   "outputs": [],
   "source": [
    "path = \"../datasets/\" + filename + \"/source_backlinks.csv\"\n",
    "sbl_df = pd.read_csv(path).drop(\"Unnamed: 0\", axis=1)\n",
    "sbl_df[['LinkedIn', 'Wiki', 'Website', 'Twitter', 'Facebook']].describe().T"
   ]
  },
  {
   "cell_type": "code",
   "execution_count": null,
   "id": "41ad58e9-d80a-462f-b109-bf1aec3d3b08",
   "metadata": {},
   "outputs": [],
   "source": []
  },
  {
   "cell_type": "code",
   "execution_count": null,
   "id": "89733a9e-d113-44d2-bd92-36f82aa9c2f3",
   "metadata": {},
   "outputs": [],
   "source": []
  },
  {
   "cell_type": "code",
   "execution_count": null,
   "id": "c56b3aeb-a016-49b5-9882-5236aac3a869",
   "metadata": {},
   "outputs": [],
   "source": []
  }
 ],
 "metadata": {
  "kernelspec": {
   "display_name": "Python 3 (ipykernel)",
   "language": "python",
   "name": "python3"
  },
  "language_info": {
   "codemirror_mode": {
    "name": "ipython",
    "version": 3
   },
   "file_extension": ".py",
   "mimetype": "text/x-python",
   "name": "python",
   "nbconvert_exporter": "python",
   "pygments_lexer": "ipython3",
   "version": "3.11.5"
  }
 },
 "nbformat": 4,
 "nbformat_minor": 5
}
