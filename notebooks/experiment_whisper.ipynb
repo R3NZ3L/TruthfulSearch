{
 "cells": [
  {
   "cell_type": "markdown",
   "id": "bf322fa3",
   "metadata": {},
   "source": [
    "References:\n",
    "https://platform.openai.com/docs/guides/speech-to-text/quickstart\n",
    "https://medium.com/nlplanet/transcribing-youtube-videos-with-whisper-in-a-few-lines-of-code-f57f27596a55"
   ]
  },
  {
   "cell_type": "code",
   "execution_count": 1,
   "id": "6c9c67cb-1ef1-4b69-949c-f8662d0a1a7d",
   "metadata": {},
   "outputs": [],
   "source": [
    "#pip install git+https://github.com/openai/whisper.git\n",
    "#pip install pytube\n",
    "import pytube as pt\n",
    "import whisper"
   ]
  },
  {
   "cell_type": "code",
   "execution_count": 3,
   "id": "64ec2a43-1926-4a5b-ab8b-1b220635f33e",
   "metadata": {},
   "outputs": [
    {
     "data": {
      "text/plain": [
       "'d:\\\\thesis\\\\TruthfulSearch\\\\notebooks\\\\audio.mp3'"
      ]
     },
     "execution_count": 3,
     "metadata": {},
     "output_type": "execute_result"
    }
   ],
   "source": [
    "yt = pt.YouTube(\"https://www.youtube.com/watch?v=aJjCjWdvmfo\") #video length is 3:04 \n",
    "stream = yt.streams.filter(only_audio=True)[0]\n",
    "stream.download(filename=\"audio.mp3\")"
   ]
  },
  {
   "cell_type": "code",
   "execution_count": 4,
   "id": "0c2bf761-098a-4cfc-ae35-1d943944d978",
   "metadata": {},
   "outputs": [],
   "source": [
    "model = whisper.load_model(\"large\")"
   ]
  },
  {
   "cell_type": "code",
   "execution_count": 5,
   "id": "20d29f24-91ec-430c-8436-ac1381cd5fbd",
   "metadata": {},
   "outputs": [
    {
     "name": "stderr",
     "output_type": "stream",
     "text": [
      "d:\\Program Files\\miniconda3\\lib\\site-packages\\whisper\\transcribe.py:126: UserWarning: FP16 is not supported on CPU; using FP32 instead\n",
      "  warnings.warn(\"FP16 is not supported on CPU; using FP32 instead\")\n"
     ]
    },
    {
     "name": "stdout",
     "output_type": "stream",
     "text": [
      " What is ironic, what is incongruous nito, nakakatawa, nakakagalit, nadaanan ko yung Freedom Park. Yun sana ang gusto namin pagpunta kami rito, nagingi kami ng permit, binigyan kami. Nung araw na dating kami, ginawi yung permit at sinirahan yung Freedom Park. Wala yung di-administration, galing ito ng Malacanang. Binatikos ni dating Pangulo. Nungulong Rodrigo Duterte ang Malacanang matapos kansilahin ang kanilang permit para makapagsagawa ng rally sa Freedom Park sa Dumaguete City kagabi. Sa isang sulat na galing sa opisina ng Dumaguete City Administrator, kinansila nito ang permit ng mga supporters ni Duterte. Sumulat umano ang Dumaguete Police sa City Government na hindi nila kayang magbigay ng siguridad sa dating Pangulo at iba pang mga personalidad na dadalo sa rally. Hindi rin makapagbigay ng metamorfosis. Sa inilabas na pahayag ng provincial government ng Negros Oriental, isasara muna ang Freedom Park para sa maintenance at rehabilitation. May mga heavy equipment din na nakaparada dito tulad ng tractor at dump truck. Bagamat natuloy pa rin ang rally kagabi sa Gerson Park, naniniwala ang dating Pangulo na Malacanang ang nasa likod nito. Ayon pa sa dating Pangulo, isa umano itong paglabag sa kanilang karapatan sa Freedom Park. At paglabag sa Right to Peaceful Assembly and Expression. Wala naman nila silang inendorsong kandidato kundi kinakampanya lang ang karapatan ng taong bayan batay sa konstitusyon. Hindi mo akong pigilan because that could be censorship. Hindi mo akong pigilan ngayon. Kung ano man sabihin ko dito na may nasaktan o may masalitan. Ito na ako labag sa batas, sedisyon or inciting people to commit sedisyon. Ito na ako. Ito na ang pangalawang beses na kinansila ang permit ng Maisog Rally. Noong April 28, kinansila rin ang nakatakdasa ng Maisog Rally sa Bulacan. Lelaine Moreno, UNTV News and Rescue. Diyos ang aming sandigan, servisyo publiko ang aming pinahahalagahan. Thank you for watching!\n"
     ]
    }
   ],
   "source": [
    "result = model.transcribe(\"audio.mp3\")\n",
    "print(result[\"text\"]) "
   ]
  },
  {
   "cell_type": "code",
   "execution_count": 6,
   "id": "e4c3810a-b206-401d-9e33-61c2e5577c27",
   "metadata": {},
   "outputs": [
    {
     "name": "stdout",
     "output_type": "stream",
     "text": [
      "{'text': ' What is ironic, what is incongruous nito, nakakatawa, nakakagalit, nadaanan ko yung Freedom Park. Yun sana ang gusto namin pagpunta kami rito, nagingi kami ng permit, binigyan kami. Nung araw na dating kami, ginawi yung permit at sinirahan yung Freedom Park. Wala yung di-administration, galing ito ng Malacanang. Binatikos ni dating Pangulo. Nungulong Rodrigo Duterte ang Malacanang matapos kansilahin ang kanilang permit para makapagsagawa ng rally sa Freedom Park sa Dumaguete City kagabi. Sa isang sulat na galing sa opisina ng Dumaguete City Administrator, kinansila nito ang permit ng mga supporters ni Duterte. Sumulat umano ang Dumaguete Police sa City Government na hindi nila kayang magbigay ng siguridad sa dating Pangulo at iba pang mga personalidad na dadalo sa rally. Hindi rin makapagbigay ng metamorfosis. Sa inilabas na pahayag ng provincial government ng Negros Oriental, isasara muna ang Freedom Park para sa maintenance at rehabilitation. May mga heavy equipment din na nakaparada dito tulad ng tractor at dump truck. Bagamat natuloy pa rin ang rally kagabi sa Gerson Park, naniniwala ang dating Pangulo na Malacanang ang nasa likod nito. Ayon pa sa dating Pangulo, isa umano itong paglabag sa kanilang karapatan sa Freedom Park. At paglabag sa Right to Peaceful Assembly and Expression. Wala naman nila silang inendorsong kandidato kundi kinakampanya lang ang karapatan ng taong bayan batay sa konstitusyon. Hindi mo akong pigilan because that could be censorship. Hindi mo akong pigilan ngayon. Kung ano man sabihin ko dito na may nasaktan o may masalitan. Ito na ako labag sa batas, sedisyon or inciting people to commit sedisyon. Ito na ako. Ito na ang pangalawang beses na kinansila ang permit ng Maisog Rally. Noong April 28, kinansila rin ang nakatakdasa ng Maisog Rally sa Bulacan. Lelaine Moreno, UNTV News and Rescue. Diyos ang aming sandigan, servisyo publiko ang aming pinahahalagahan. Thank you for watching!', 'segments': [{'id': 0, 'seek': 0, 'start': 0.0, 'end': 21.5, 'text': ' What is ironic, what is incongruous nito, nakakatawa, nakakagalit, nadaanan ko yung Freedom Park.', 'tokens': [50365, 708, 307, 33719, 11, 437, 307, 834, 556, 894, 563, 297, 3528, 11, 20332, 39051, 10449, 11, 20332, 514, 559, 304, 270, 11, 8096, 29915, 8384, 288, 1063, 22208, 4964, 13, 51440], 'temperature': 0.0, 'avg_logprob': -0.1713925906590053, 'compression_ratio': 1.1686746987951808, 'no_speech_prob': 0.005416358821094036}, {'id': 1, 'seek': 2150, 'start': 21.5, 'end': 32.620000000000005, 'text': ' Yun sana ang gusto namin pagpunta kami rito, nagingi kami ng permit, binigyan kami.', 'tokens': [50365, 18007, 15490, 2562, 38723, 297, 7428, 11812, 79, 46380, 34502, 367, 3528, 11, 297, 3568, 72, 34502, 6415, 13423, 11, 5171, 328, 6277, 34502, 13, 50921], 'temperature': 0.0, 'avg_logprob': -0.2429049292276072, 'compression_ratio': 1.4878048780487805, 'no_speech_prob': 0.005004690960049629}, {'id': 2, 'seek': 2150, 'start': 34.519999999999996, 'end': 43.28, 'text': ' Nung araw na dating kami, ginawi yung permit at sinirahan yung Freedom Park.', 'tokens': [51016, 426, 1063, 257, 5131, 1667, 10689, 34502, 11, 290, 1426, 6253, 288, 1063, 13423, 412, 3343, 347, 21436, 288, 1063, 22208, 4964, 13, 51454], 'temperature': 0.0, 'avg_logprob': -0.2429049292276072, 'compression_ratio': 1.4878048780487805, 'no_speech_prob': 0.005004690960049629}, {'id': 3, 'seek': 2150, 'start': 43.900000000000006, 'end': 48.44, 'text': ' Wala yung di-administration, galing ito ng Malacanang.', 'tokens': [51485, 343, 5159, 288, 1063, 1026, 12, 345, 4192, 2405, 11, 290, 4270, 309, 78, 6415, 5746, 326, 282, 656, 13, 51712], 'temperature': 0.0, 'avg_logprob': -0.2429049292276072, 'compression_ratio': 1.4878048780487805, 'no_speech_prob': 0.005004690960049629}, {'id': 4, 'seek': 2150, 'start': 49.92, 'end': 51.44, 'text': ' Binatikos ni dating Pangulo.', 'tokens': [51786, 18983, 267, 1035, 329, 3867, 10689, 49499, 13455, 13, 51862], 'temperature': 0.0, 'avg_logprob': -0.2429049292276072, 'compression_ratio': 1.4878048780487805, 'no_speech_prob': 0.005004690960049629}, {'id': 5, 'seek': 5150, 'start': 51.5, 'end': 60.78, 'text': ' Nungulong Rodrigo Duterte ang Malacanang matapos kansilahin ang kanilang permit para makapagsagawa ng rally sa Freedom Park sa Dumaguete City kagabi.', 'tokens': [50365, 426, 1063, 425, 556, 25904, 78, 413, 325, 10634, 2562, 5746, 326, 282, 656, 3803, 569, 329, 16030, 45014, 259, 2562, 4608, 388, 656, 13423, 1690, 963, 569, 12109, 559, 10449, 6415, 17584, 601, 22208, 4964, 601, 29572, 31686, 3498, 4392, 350, 559, 18884, 13, 50829], 'temperature': 0.0, 'avg_logprob': -0.09878360902940905, 'compression_ratio': 1.7445255474452555, 'no_speech_prob': 0.012757036834955215}, {'id': 6, 'seek': 5150, 'start': 61.28, 'end': 68.84, 'text': ' Sa isang sulat na galing sa opisina ng Dumaguete City Administrator, kinansila nito ang permit ng mga supporters ni Duterte.', 'tokens': [50854, 6299, 307, 656, 17603, 267, 1667, 290, 4270, 601, 45477, 1426, 6415, 29572, 31686, 3498, 4392, 13322, 19802, 11, 15784, 599, 7371, 297, 3528, 2562, 13423, 6415, 275, 3680, 17683, 3867, 413, 325, 10634, 13, 51232], 'temperature': 0.0, 'avg_logprob': -0.09878360902940905, 'compression_ratio': 1.7445255474452555, 'no_speech_prob': 0.012757036834955215}, {'id': 7, 'seek': 5150, 'start': 69.48, 'end': 79.22, 'text': ' Sumulat umano ang Dumaguete Police sa City Government na hindi nila kayang magbigay ng siguridad sa dating Pangulo at iba pang mga personalidad na dadalo sa rally.', 'tokens': [51264, 8626, 425, 267, 1105, 3730, 2562, 29572, 31686, 3498, 11882, 601, 4392, 7321, 1667, 276, 10255, 297, 7371, 12446, 656, 2258, 37660, 320, 6415, 4556, 374, 4580, 601, 10689, 49499, 13455, 412, 33423, 280, 656, 275, 3680, 2973, 4580, 1667, 3546, 10334, 601, 17584, 13, 51751], 'temperature': 0.0, 'avg_logprob': -0.09878360902940905, 'compression_ratio': 1.7445255474452555, 'no_speech_prob': 0.012757036834955215}, {'id': 8, 'seek': 5150, 'start': 79.22, 'end': 81.22, 'text': ' Hindi rin makapagbigay ng metamorfosis.', 'tokens': [51751, 36225, 367, 259, 963, 569, 559, 37660, 320, 6415, 1131, 335, 28030, 8211, 13, 51851], 'temperature': 0.0, 'avg_logprob': -0.09878360902940905, 'compression_ratio': 1.7445255474452555, 'no_speech_prob': 0.012757036834955215}, {'id': 9, 'seek': 8150, 'start': 81.5, 'end': 91.62, 'text': ' Sa inilabas na pahayag ng provincial government ng Negros Oriental, isasara muna ang Freedom Park para sa maintenance at rehabilitation.', 'tokens': [50365, 6299, 294, 388, 455, 296, 1667, 280, 545, 320, 559, 6415, 33293, 2463, 6415, 1734, 861, 329, 23621, 14533, 11, 307, 296, 2419, 275, 5051, 2562, 22208, 4964, 1690, 601, 11258, 412, 33700, 13, 50871], 'temperature': 0.0, 'avg_logprob': -0.12852095101625866, 'compression_ratio': 1.623574144486692, 'no_speech_prob': 0.22692888975143433}, {'id': 10, 'seek': 8150, 'start': 92.5, 'end': 97.02, 'text': ' May mga heavy equipment din na nakaparada dito tulad ng tractor at dump truck.', 'tokens': [50915, 1891, 275, 3680, 4676, 5927, 3791, 1667, 20332, 569, 289, 1538, 274, 3528, 30210, 345, 6415, 31857, 412, 11430, 5898, 13, 51141], 'temperature': 0.0, 'avg_logprob': -0.12852095101625866, 'compression_ratio': 1.623574144486692, 'no_speech_prob': 0.22692888975143433}, {'id': 11, 'seek': 8150, 'start': 97.96000000000001, 'end': 105.78, 'text': ' Bagamat natuloy pa rin ang rally kagabi sa Gerson Park, naniniwala ang dating Pangulo na Malacanang ang nasa likod nito.', 'tokens': [51188, 24377, 39143, 2249, 425, 939, 2502, 367, 259, 2562, 17584, 350, 559, 18884, 601, 460, 3953, 4964, 11, 14067, 3812, 86, 5159, 2562, 10689, 49499, 13455, 1667, 5746, 326, 282, 656, 2562, 5382, 64, 2913, 378, 297, 3528, 13, 51579], 'temperature': 0.0, 'avg_logprob': -0.12852095101625866, 'compression_ratio': 1.623574144486692, 'no_speech_prob': 0.22692888975143433}, {'id': 12, 'seek': 8150, 'start': 106.38, 'end': 111.48, 'text': ' Ayon pa sa dating Pangulo, isa umano itong paglabag sa kanilang karapatan sa Freedom Park.', 'tokens': [51609, 9081, 266, 2502, 601, 10689, 49499, 13455, 11, 307, 64, 1105, 3730, 309, 556, 11812, 44990, 559, 601, 4608, 388, 656, 7917, 22602, 282, 601, 22208, 4964, 13, 51864], 'temperature': 0.0, 'avg_logprob': -0.12852095101625866, 'compression_ratio': 1.623574144486692, 'no_speech_prob': 0.22692888975143433}, {'id': 13, 'seek': 11150, 'start': 111.5, 'end': 115.62, 'text': ' At paglabag sa Right to Peaceful Assembly and Expression.', 'tokens': [50365, 1711, 11812, 44990, 559, 601, 1779, 281, 13204, 906, 20399, 293, 21391, 2775, 13, 50571], 'temperature': 0.0, 'avg_logprob': -0.18709039233979724, 'compression_ratio': 1.6157635467980296, 'no_speech_prob': 0.2525816559791565}, {'id': 14, 'seek': 11150, 'start': 115.98, 'end': 123.8, 'text': ' Wala naman nila silang inendorsong kandidato kundi kinakampanya lang ang karapatan ng taong bayan batay sa konstitusyon.', 'tokens': [50589, 343, 5159, 297, 6147, 297, 7371, 3425, 656, 294, 521, 830, 556, 350, 48810, 2513, 350, 997, 72, 15784, 514, 1215, 8791, 2265, 2562, 7917, 22602, 282, 6415, 1846, 556, 13642, 282, 7362, 320, 601, 34208, 30973, 20808, 13, 50980], 'temperature': 0.0, 'avg_logprob': -0.18709039233979724, 'compression_ratio': 1.6157635467980296, 'no_speech_prob': 0.2525816559791565}, {'id': 15, 'seek': 11150, 'start': 124.12, 'end': 128.66, 'text': ' Hindi mo akong pigilan because that could be censorship.', 'tokens': [50996, 36225, 705, 9308, 556, 8120, 21752, 570, 300, 727, 312, 40985, 13, 51223], 'temperature': 0.0, 'avg_logprob': -0.18709039233979724, 'compression_ratio': 1.6157635467980296, 'no_speech_prob': 0.2525816559791565}, {'id': 16, 'seek': 11150, 'start': 130.44, 'end': 132.24, 'text': ' Hindi mo akong pigilan ngayon.', 'tokens': [51312, 36225, 705, 9308, 556, 8120, 21752, 6415, 320, 266, 13, 51402], 'temperature': 0.0, 'avg_logprob': -0.18709039233979724, 'compression_ratio': 1.6157635467980296, 'no_speech_prob': 0.2525816559791565}, {'id': 17, 'seek': 11150, 'start': 132.24, 'end': 141.24, 'text': ' Kung ano man sabihin ko dito na may nasaktan o may masalitan.', 'tokens': [51402, 44317, 19816, 587, 5560, 36902, 8384, 274, 3528, 1667, 815, 5382, 5886, 282, 277, 815, 2300, 304, 9670, 13, 51852], 'temperature': 0.0, 'avg_logprob': -0.18709039233979724, 'compression_ratio': 1.6157635467980296, 'no_speech_prob': 0.2525816559791565}, {'id': 18, 'seek': 14150, 'start': 141.5, 'end': 149.0, 'text': ' Ito na ako labag sa batas, sedisyon or inciting people to commit sedisyon.', 'tokens': [50365, 467, 78, 1667, 43567, 2715, 559, 601, 7362, 296, 11, 9643, 14169, 266, 420, 834, 1748, 561, 281, 5599, 9643, 14169, 266, 13, 50740], 'temperature': 0.0, 'avg_logprob': -0.18668487548828125, 'compression_ratio': 1.5943396226415094, 'no_speech_prob': 0.0052107865922153}, {'id': 19, 'seek': 14150, 'start': 149.78, 'end': 151.92, 'text': ' Ito na ako.', 'tokens': [50779, 467, 78, 1667, 43567, 13, 50886], 'temperature': 0.0, 'avg_logprob': -0.18668487548828125, 'compression_ratio': 1.5943396226415094, 'no_speech_prob': 0.0052107865922153}, {'id': 20, 'seek': 14150, 'start': 152.68, 'end': 157.34, 'text': ' Ito na ang pangalawang beses na kinansila ang permit ng Maisog Rally.', 'tokens': [50924, 467, 78, 1667, 2562, 280, 656, 304, 1607, 656, 4097, 279, 1667, 15784, 599, 7371, 2562, 13423, 6415, 6313, 664, 497, 379, 13, 51157], 'temperature': 0.0, 'avg_logprob': -0.18668487548828125, 'compression_ratio': 1.5943396226415094, 'no_speech_prob': 0.0052107865922153}, {'id': 21, 'seek': 14150, 'start': 157.86, 'end': 162.5, 'text': ' Noong April 28, kinansila rin ang nakatakdasa ng Maisog Rally sa Bulacan.', 'tokens': [51183, 883, 556, 6929, 7562, 11, 15784, 599, 7371, 367, 259, 2562, 20332, 267, 514, 67, 9994, 6415, 6313, 664, 497, 379, 601, 19825, 326, 282, 13, 51415], 'temperature': 0.0, 'avg_logprob': -0.18668487548828125, 'compression_ratio': 1.5943396226415094, 'no_speech_prob': 0.0052107865922153}, {'id': 22, 'seek': 14150, 'start': 163.36, 'end': 166.24, 'text': ' Lelaine Moreno, UNTV News and Rescue.', 'tokens': [51458, 441, 338, 7119, 5048, 1771, 11, 8229, 12586, 7987, 293, 39379, 13, 51602], 'temperature': 0.0, 'avg_logprob': -0.18668487548828125, 'compression_ratio': 1.5943396226415094, 'no_speech_prob': 0.0052107865922153}, {'id': 23, 'seek': 14150, 'start': 166.7, 'end': 170.88, 'text': ' Diyos ang aming sandigan, servisyo publiko ang aming pinahahalagahan.', 'tokens': [51625, 413, 4727, 329, 2562, 669, 278, 4932, 9552, 11, 1658, 271, 8308, 11227, 10770, 2562, 669, 278, 5447, 11562, 304, 559, 21436, 13, 51834], 'temperature': 0.0, 'avg_logprob': -0.18668487548828125, 'compression_ratio': 1.5943396226415094, 'no_speech_prob': 0.0052107865922153}, {'id': 24, 'seek': 17150, 'start': 171.5, 'end': 184.48, 'text': ' Thank you for watching!', 'tokens': [50365, 1044, 291, 337, 1976, 0, 51014], 'temperature': 0.0, 'avg_logprob': -0.527302622795105, 'compression_ratio': 0.7419354838709677, 'no_speech_prob': 0.18222346901893616}], 'language': 'tl'}\n"
     ]
    }
   ],
   "source": []
  }
 ],
 "metadata": {
  "kernelspec": {
   "display_name": "Python 3 (ipykernel)",
   "language": "python",
   "name": "python3"
  },
  "language_info": {
   "codemirror_mode": {
    "name": "ipython",
    "version": 3
   },
   "file_extension": ".py",
   "mimetype": "text/x-python",
   "name": "python",
   "nbconvert_exporter": "python",
   "pygments_lexer": "ipython3",
   "version": "3.9.12"
  }
 },
 "nbformat": 4,
 "nbformat_minor": 5
}
