{
 "cells": [
  {
   "cell_type": "markdown",
   "id": "bf322fa3",
   "metadata": {},
   "source": [
    "References:\n",
    "- https://platform.openai.com/docs/guides/speech-to-text/quickstart\n",
    "- https://medium.com/nlplanet/transcribing-youtube-videos-with-whisper-in-a-few-lines-of-code-f57f27596a55"
   ]
  },
  {
   "cell_type": "code",
   "execution_count": null,
   "id": "6c9c67cb-1ef1-4b69-949c-f8662d0a1a7d",
   "metadata": {},
   "outputs": [],
   "source": [
    "#pip install openai-whisper\n",
    "#pip install pytube\n",
    "import pytube as pt\n",
    "from pytube.exceptions import RegexMatchError\n",
    "import whisper"
   ]
  },
  {
   "cell_type": "code",
   "execution_count": null,
   "id": "5a919f8d",
   "metadata": {},
   "outputs": [],
   "source": [
    "from tqdm.auto import tqdm"
   ]
  },
  {
   "cell_type": "code",
   "execution_count": null,
   "id": "1cef6bc7",
   "metadata": {},
   "outputs": [],
   "source": [
    "import torch  # install steps: pytorch.org\n",
    "device = \"cuda\" if torch.cuda.is_available() else \"cpu\"\n"
   ]
  },
  {
   "cell_type": "code",
   "execution_count": null,
   "id": "64ec2a43-1926-4a5b-ab8b-1b220635f33e",
   "metadata": {},
   "outputs": [],
   "source": [
    "yt = pt.YouTube(\"https://www.youtube.com/watch?v=aJjCjWdvmfo\") #video length is 3:04 \n",
    "stream = yt.streams.filter(only_audio=True)[0]\n",
    "stream.download(filename=\"audio.mp3\")"
   ]
  },
  {
   "cell_type": "code",
   "execution_count": null,
   "id": "0c2bf761-098a-4cfc-ae35-1d943944d978",
   "metadata": {},
   "outputs": [],
   "source": [
    "model = whisper.load_model(\"medium\").to(device)"
   ]
  },
  {
   "cell_type": "code",
   "execution_count": null,
   "id": "20d29f24-91ec-430c-8436-ac1381cd5fbd",
   "metadata": {},
   "outputs": [],
   "source": [
    "result = model.transcribe(\"audio.mp3\")\n",
    "print(result) "
   ]
  },
  {
   "cell_type": "code",
   "execution_count": null,
   "id": "4790b058",
   "metadata": {},
   "outputs": [],
   "source": [
    "result['text']"
   ]
  },
  {
   "cell_type": "code",
   "execution_count": null,
   "id": "41539bb4",
   "metadata": {},
   "outputs": [],
   "source": [
    "import translators as ts\n"
   ]
  },
  {
   "cell_type": "code",
   "execution_count": null,
   "id": "55ae5ee7",
   "metadata": {},
   "outputs": [],
   "source": [
    "ts.translate_text(result['text'], 'google', to_language = 'en')"
   ]
  },
  {
   "cell_type": "code",
   "execution_count": null,
   "id": "47186eb3",
   "metadata": {},
   "outputs": [],
   "source": [
    "result['segments']"
   ]
  },
  {
   "cell_type": "code",
   "execution_count": null,
   "id": "c0dd7f6e",
   "metadata": {},
   "outputs": [],
   "source": [
    "result['language']"
   ]
  },
  {
   "cell_type": "code",
   "execution_count": null,
   "id": "be1783e3",
   "metadata": {},
   "outputs": [],
   "source": [
    "import os\n",
    "os.remove(\"audio.mp3\")"
   ]
  },
  {
   "cell_type": "markdown",
   "id": "221de1f0",
   "metadata": {},
   "source": [
    "-------------------------------------------------------"
   ]
  },
  {
   "cell_type": "code",
   "execution_count": null,
   "id": "7ee6a855",
   "metadata": {},
   "outputs": [],
   "source": [
    "len(result['text'].split())"
   ]
  },
  {
   "cell_type": "code",
   "execution_count": null,
   "id": "d9bfac1f",
   "metadata": {},
   "outputs": [],
   "source": [
    "result"
   ]
  },
  {
   "cell_type": "markdown",
   "id": "162e4727",
   "metadata": {},
   "source": [
    "----------------------------"
   ]
  },
  {
   "cell_type": "code",
   "execution_count": 1,
   "id": "1f9ba6a0",
   "metadata": {},
   "outputs": [],
   "source": [
    "import pandas as pd\n",
    "import numpy as np\n",
    "import csv\n",
    "import os\n"
   ]
  },
  {
   "cell_type": "code",
   "execution_count": 2,
   "id": "748b8aa8",
   "metadata": {},
   "outputs": [],
   "source": [
    "import pytube as pt\n",
    "import whisper\n",
    "import translators as ts"
   ]
  },
  {
   "cell_type": "code",
   "execution_count": null,
   "id": "a6703292",
   "metadata": {},
   "outputs": [],
   "source": [
    "covid_vax_df = pd.read_csv(\"../datasets/covid_vaccine/videos.csv\").drop(\"Unnamed: 0\", axis=1)\n",
    "covid_vax_df = covid_vax_df[['video_id','video_title','video_transcript']]\n",
    "covid_vax_df.head()"
   ]
  },
  {
   "cell_type": "code",
   "execution_count": null,
   "id": "902be0ce",
   "metadata": {},
   "outputs": [],
   "source": [
    "covid_ph_df = pd.read_csv(\"../datasets/covid_philippines/videos.csv\").drop(\"Unnamed: 0\", axis=1)\n",
    "covid_ph_df = covid_ph_df[['video_id','video_title','video_transcript']]\n",
    "covid_ph_df.head()"
   ]
  },
  {
   "cell_type": "code",
   "execution_count": 3,
   "id": "629b3b61",
   "metadata": {},
   "outputs": [
    {
     "data": {
      "text/html": [
       "<div>\n",
       "<style scoped>\n",
       "    .dataframe tbody tr th:only-of-type {\n",
       "        vertical-align: middle;\n",
       "    }\n",
       "\n",
       "    .dataframe tbody tr th {\n",
       "        vertical-align: top;\n",
       "    }\n",
       "\n",
       "    .dataframe thead th {\n",
       "        text-align: right;\n",
       "    }\n",
       "</style>\n",
       "<table border=\"1\" class=\"dataframe\">\n",
       "  <thead>\n",
       "    <tr style=\"text-align: right;\">\n",
       "      <th></th>\n",
       "      <th>video_id</th>\n",
       "      <th>video_title</th>\n",
       "      <th>video_transcript</th>\n",
       "    </tr>\n",
       "  </thead>\n",
       "  <tbody>\n",
       "    <tr>\n",
       "      <th>0</th>\n",
       "      <td>R0ftmf_Uv9A</td>\n",
       "      <td>Brief history of Israel-Palestine conflict</td>\n",
       "      <td>NaN</td>\n",
       "    </tr>\n",
       "    <tr>\n",
       "      <th>1</th>\n",
       "      <td>Bno1m1zhIWs</td>\n",
       "      <td>How the Israeli-Palestinian Conflict Began | H...</td>\n",
       "      <td>NARRATOR: Israel. It's the only Jewish\\r\\nnat...</td>\n",
       "    </tr>\n",
       "    <tr>\n",
       "      <th>2</th>\n",
       "      <td>0anQIEeLonA</td>\n",
       "      <td>Israel-Palestine war: A simple history of how ...</td>\n",
       "      <td>at the break of dawn on the 7th of October 20...</td>\n",
       "    </tr>\n",
       "    <tr>\n",
       "      <th>3</th>\n",
       "      <td>iRYZjOuUnlU</td>\n",
       "      <td>The Israel-Palestine conflict: a brief, simple...</td>\n",
       "      <td>One of the biggest myths about the Israel-Pal...</td>\n",
       "    </tr>\n",
       "    <tr>\n",
       "      <th>4</th>\n",
       "      <td>1wo2TLlMhiw</td>\n",
       "      <td>Conflict in Israel and Palestine through 2015:...</td>\n",
       "      <td>Hi, I'm John Green, this is Crash Course Worl...</td>\n",
       "    </tr>\n",
       "  </tbody>\n",
       "</table>\n",
       "</div>"
      ],
      "text/plain": [
       "      video_id                                        video_title  \\\n",
       "0  R0ftmf_Uv9A         Brief history of Israel-Palestine conflict   \n",
       "1  Bno1m1zhIWs  How the Israeli-Palestinian Conflict Began | H...   \n",
       "2  0anQIEeLonA  Israel-Palestine war: A simple history of how ...   \n",
       "3  iRYZjOuUnlU  The Israel-Palestine conflict: a brief, simple...   \n",
       "4  1wo2TLlMhiw  Conflict in Israel and Palestine through 2015:...   \n",
       "\n",
       "                                    video_transcript  \n",
       "0                                                NaN  \n",
       "1   NARRATOR: Israel. It's the only Jewish\\r\\nnat...  \n",
       "2   at the break of dawn on the 7th of October 20...  \n",
       "3   One of the biggest myths about the Israel-Pal...  \n",
       "4   Hi, I'm John Green, this is Crash Course Worl...  "
      ]
     },
     "execution_count": 3,
     "metadata": {},
     "output_type": "execute_result"
    }
   ],
   "source": [
    "pal_is_df = pd.read_csv(\"../datasets/israel-palestine_conflict_history/videos.csv\").drop(\"Unnamed: 0\", axis=1)\n",
    "pal_is_df = pal_is_df[['video_id','video_title','video_transcript']]\n",
    "pal_is_df.head()"
   ]
  },
  {
   "cell_type": "code",
   "execution_count": 4,
   "id": "353c2929",
   "metadata": {},
   "outputs": [],
   "source": [
    "import torch  # install steps: pytorch.org\n",
    "device = \"cuda\" if torch.cuda.is_available() else \"cpu\"\n",
    "model = whisper.load_model(\"medium\").to(device)\n"
   ]
  },
  {
   "cell_type": "code",
   "execution_count": 5,
   "id": "0da8a55c",
   "metadata": {},
   "outputs": [],
   "source": [
    "#so we can access age restricted videos\n",
    "from pytube.innertube import _default_clients\n",
    "\n",
    "_default_clients[\"ANDROID_MUSIC\"] = _default_clients[\"ANDROID_CREATOR\"]"
   ]
  },
  {
   "cell_type": "code",
   "execution_count": 144,
   "id": "36a41c13",
   "metadata": {},
   "outputs": [],
   "source": [
    "def whisper_transcribe(input_df):\n",
    "    \n",
    "    df = input_df[['video_id','video_transcript']].copy()\n",
    "    whis = np.array([])\n",
    "    try:\n",
    "        for row in range(len(input_df)):\n",
    "            try:\n",
    "                if pd.isna(input_df.at[row, 'video_transcript']):\n",
    "\n",
    "                    video = 'https://www.youtube.com/watch?v=' + input_df['video_id'][row]\n",
    "                    print(\"transcribing \"+video)\n",
    "                    yt = pt.YouTube(video,use_oauth=True) #use_oauth to access age restricted\n",
    "                    stream = yt.streams.filter(only_audio=True)[0]\n",
    "                    stream.download(filename=\"audio_\" + input_df['video_id'][row]+\".mp3\")\n",
    "                    audio_file = (\"audio_\"+ input_df['video_id'][row] +\".mp3\")\n",
    "                    result = model.transcribe(audio_file)\n",
    "                    os.remove(\"audio_\" + input_df['video_id'][row]+\".mp3\")\n",
    "                    if len(result['text'].split())>=10:\n",
    "                        try:\n",
    "                            en_res = ts.translate_text(result['text'], 'google', to_language = 'en')\n",
    "                            whis =np.append(en_res,result['text'])\n",
    "                        except:\n",
    "                            whis =np.append(whis,result['text'])\n",
    "                    else:\n",
    "                        whis =np.append(whis,float(np.nan))\n",
    "                else:\n",
    "                    whis = np.append(whis,input_df['video_transcript'][row])\n",
    "\n",
    "            except Exception as e:\n",
    "                print(\"Something happened:\", e)\n",
    "                whis = np.append(whis,input_df['video_transcript'][row])\n",
    "    except KeyboardInterrupt:\n",
    "        print(\"interrupted\")    \n",
    "        #df['final_transcript'] = whis\n",
    "        return whis\n",
    "\n",
    "    df['final_transcript'] = whis\n",
    "    return df"
   ]
  },
  {
   "cell_type": "code",
   "execution_count": 93,
   "id": "e246a0fe",
   "metadata": {},
   "outputs": [
    {
     "data": {
      "text/html": [
       "<div>\n",
       "<style scoped>\n",
       "    .dataframe tbody tr th:only-of-type {\n",
       "        vertical-align: middle;\n",
       "    }\n",
       "\n",
       "    .dataframe tbody tr th {\n",
       "        vertical-align: top;\n",
       "    }\n",
       "\n",
       "    .dataframe thead th {\n",
       "        text-align: right;\n",
       "    }\n",
       "</style>\n",
       "<table border=\"1\" class=\"dataframe\">\n",
       "  <thead>\n",
       "    <tr style=\"text-align: right;\">\n",
       "      <th></th>\n",
       "      <th>video_id</th>\n",
       "      <th>video_title</th>\n",
       "      <th>video_transcript</th>\n",
       "    </tr>\n",
       "  </thead>\n",
       "  <tbody>\n",
       "    <tr>\n",
       "      <th>0</th>\n",
       "      <td>R0ftmf_Uv9A</td>\n",
       "      <td>Brief history of Israel-Palestine conflict</td>\n",
       "      <td>NaN</td>\n",
       "    </tr>\n",
       "    <tr>\n",
       "      <th>1</th>\n",
       "      <td>Bno1m1zhIWs</td>\n",
       "      <td>How the Israeli-Palestinian Conflict Began | H...</td>\n",
       "      <td>NARRATOR: Israel. It's the only Jewish\\r\\nnat...</td>\n",
       "    </tr>\n",
       "    <tr>\n",
       "      <th>2</th>\n",
       "      <td>0anQIEeLonA</td>\n",
       "      <td>Israel-Palestine war: A simple history of how ...</td>\n",
       "      <td>at the break of dawn on the 7th of October 20...</td>\n",
       "    </tr>\n",
       "    <tr>\n",
       "      <th>3</th>\n",
       "      <td>iRYZjOuUnlU</td>\n",
       "      <td>The Israel-Palestine conflict: a brief, simple...</td>\n",
       "      <td>One of the biggest myths about the Israel-Pal...</td>\n",
       "    </tr>\n",
       "    <tr>\n",
       "      <th>4</th>\n",
       "      <td>1wo2TLlMhiw</td>\n",
       "      <td>Conflict in Israel and Palestine through 2015:...</td>\n",
       "      <td>Hi, I'm John Green, this is Crash Course Worl...</td>\n",
       "    </tr>\n",
       "    <tr>\n",
       "      <th>...</th>\n",
       "      <td>...</td>\n",
       "      <td>...</td>\n",
       "      <td>...</td>\n",
       "    </tr>\n",
       "    <tr>\n",
       "      <th>195</th>\n",
       "      <td>XYn5t0tuuAk</td>\n",
       "      <td>Arnold Schwarzenegger&amp;#39;s &amp;#39;Anti-Hate&amp;#39...</td>\n",
       "      <td>hello everybody I want to talk to you today a...</td>\n",
       "    </tr>\n",
       "    <tr>\n",
       "      <th>196</th>\n",
       "      <td>Fo77sTGpngQ</td>\n",
       "      <td>Why Evangelical Christians Love Israel | VICE ...</td>\n",
       "      <td>the israeli-palestinian conflict has been the...</td>\n",
       "    </tr>\n",
       "    <tr>\n",
       "      <th>197</th>\n",
       "      <td>rzoI6RUG1iQ</td>\n",
       "      <td>Palestinians Protesting Jewish Settlements Cla...</td>\n",
       "      <td>NaN</td>\n",
       "    </tr>\n",
       "    <tr>\n",
       "      <th>198</th>\n",
       "      <td>JN4mnVLP0rU</td>\n",
       "      <td>Why the Middle East’s Borders Guarantee Foreve...</td>\n",
       "      <td>this video is made possible by nebula use the...</td>\n",
       "    </tr>\n",
       "    <tr>\n",
       "      <th>199</th>\n",
       "      <td>nDtZGbNNbjo</td>\n",
       "      <td>Israel-Palestine conflict: Fighting ongoing as...</td>\n",
       "      <td>thank you for joining us we begin this NewsHo...</td>\n",
       "    </tr>\n",
       "  </tbody>\n",
       "</table>\n",
       "<p>200 rows × 3 columns</p>\n",
       "</div>"
      ],
      "text/plain": [
       "        video_id                                        video_title  \\\n",
       "0    R0ftmf_Uv9A         Brief history of Israel-Palestine conflict   \n",
       "1    Bno1m1zhIWs  How the Israeli-Palestinian Conflict Began | H...   \n",
       "2    0anQIEeLonA  Israel-Palestine war: A simple history of how ...   \n",
       "3    iRYZjOuUnlU  The Israel-Palestine conflict: a brief, simple...   \n",
       "4    1wo2TLlMhiw  Conflict in Israel and Palestine through 2015:...   \n",
       "..           ...                                                ...   \n",
       "195  XYn5t0tuuAk  Arnold Schwarzenegger&#39;s &#39;Anti-Hate&#39...   \n",
       "196  Fo77sTGpngQ  Why Evangelical Christians Love Israel | VICE ...   \n",
       "197  rzoI6RUG1iQ  Palestinians Protesting Jewish Settlements Cla...   \n",
       "198  JN4mnVLP0rU  Why the Middle East’s Borders Guarantee Foreve...   \n",
       "199  nDtZGbNNbjo  Israel-Palestine conflict: Fighting ongoing as...   \n",
       "\n",
       "                                      video_transcript  \n",
       "0                                                  NaN  \n",
       "1     NARRATOR: Israel. It's the only Jewish\\r\\nnat...  \n",
       "2     at the break of dawn on the 7th of October 20...  \n",
       "3     One of the biggest myths about the Israel-Pal...  \n",
       "4     Hi, I'm John Green, this is Crash Course Worl...  \n",
       "..                                                 ...  \n",
       "195   hello everybody I want to talk to you today a...  \n",
       "196   the israeli-palestinian conflict has been the...  \n",
       "197                                                NaN  \n",
       "198   this video is made possible by nebula use the...  \n",
       "199   thank you for joining us we begin this NewsHo...  \n",
       "\n",
       "[200 rows x 3 columns]"
      ]
     },
     "execution_count": 93,
     "metadata": {},
     "output_type": "execute_result"
    }
   ],
   "source": [
    "pal_is_df"
   ]
  },
  {
   "cell_type": "code",
   "execution_count": null,
   "id": "325eb116",
   "metadata": {},
   "outputs": [],
   "source": [
    "whisper_trans_pal_is = whisper_transcribe(pal_is_df[:5])"
   ]
  },
  {
   "cell_type": "code",
   "execution_count": null,
   "id": "b746f03a",
   "metadata": {},
   "outputs": [],
   "source": [
    "whisper_trans_pal_is"
   ]
  },
  {
   "cell_type": "code",
   "execution_count": null,
   "id": "db891911",
   "metadata": {},
   "outputs": [],
   "source": [
    "final_pal_is =whisper_trans_pal_is.copy()"
   ]
  },
  {
   "cell_type": "code",
   "execution_count": null,
   "id": "9ea18ab9",
   "metadata": {},
   "outputs": [],
   "source": [
    "whisper_trans_pal_is = whisper_transcribe(pal_is_df[15:].reset_index())"
   ]
  },
  {
   "cell_type": "code",
   "execution_count": 77,
   "id": "f8f7219c",
   "metadata": {},
   "outputs": [],
   "source": [
    "final_pal_is = pd.read_csv('../datasets/israel-palestine_conflict_history/partial_whisper_transcript.csv')"
   ]
  },
  {
   "cell_type": "code",
   "execution_count": 78,
   "id": "d980e437",
   "metadata": {},
   "outputs": [
    {
     "data": {
      "text/html": [
       "<div>\n",
       "<style scoped>\n",
       "    .dataframe tbody tr th:only-of-type {\n",
       "        vertical-align: middle;\n",
       "    }\n",
       "\n",
       "    .dataframe tbody tr th {\n",
       "        vertical-align: top;\n",
       "    }\n",
       "\n",
       "    .dataframe thead th {\n",
       "        text-align: right;\n",
       "    }\n",
       "</style>\n",
       "<table border=\"1\" class=\"dataframe\">\n",
       "  <thead>\n",
       "    <tr style=\"text-align: right;\">\n",
       "      <th></th>\n",
       "      <th>Unnamed: 0</th>\n",
       "      <th>video_id</th>\n",
       "      <th>video_transcript</th>\n",
       "      <th>final_transcript</th>\n",
       "    </tr>\n",
       "  </thead>\n",
       "  <tbody>\n",
       "    <tr>\n",
       "      <th>0</th>\n",
       "      <td>0</td>\n",
       "      <td>R0ftmf_Uv9A</td>\n",
       "      <td>NaN</td>\n",
       "      <td>NaN</td>\n",
       "    </tr>\n",
       "    <tr>\n",
       "      <th>1</th>\n",
       "      <td>1</td>\n",
       "      <td>Bno1m1zhIWs</td>\n",
       "      <td>NARRATOR: Israel. It's the only Jewish\\r\\nnat...</td>\n",
       "      <td>NARRATOR: Israel. It's the only Jewish\\r\\nnat...</td>\n",
       "    </tr>\n",
       "    <tr>\n",
       "      <th>2</th>\n",
       "      <td>2</td>\n",
       "      <td>0anQIEeLonA</td>\n",
       "      <td>at the break of dawn on the 7th of October 20...</td>\n",
       "      <td>at the break of dawn on the 7th of October 20...</td>\n",
       "    </tr>\n",
       "    <tr>\n",
       "      <th>3</th>\n",
       "      <td>3</td>\n",
       "      <td>iRYZjOuUnlU</td>\n",
       "      <td>One of the biggest myths about the Israel-Pal...</td>\n",
       "      <td>One of the biggest myths about the Israel-Pal...</td>\n",
       "    </tr>\n",
       "    <tr>\n",
       "      <th>4</th>\n",
       "      <td>4</td>\n",
       "      <td>1wo2TLlMhiw</td>\n",
       "      <td>Hi, I'm John Green, this is Crash Course Worl...</td>\n",
       "      <td>Hi, I'm John Green, this is Crash Course Worl...</td>\n",
       "    </tr>\n",
       "    <tr>\n",
       "      <th>...</th>\n",
       "      <td>...</td>\n",
       "      <td>...</td>\n",
       "      <td>...</td>\n",
       "      <td>...</td>\n",
       "    </tr>\n",
       "    <tr>\n",
       "      <th>146</th>\n",
       "      <td>146</td>\n",
       "      <td>Y58njT2oXfE</td>\n",
       "      <td>what would happen if you build a refuge for A...</td>\n",
       "      <td>what would happen if you build a refuge for A...</td>\n",
       "    </tr>\n",
       "    <tr>\n",
       "      <th>147</th>\n",
       "      <td>147</td>\n",
       "      <td>WTjGtfVmIbA</td>\n",
       "      <td>Israel is at War it has come under terrorist ...</td>\n",
       "      <td>Israel is at War it has come under terrorist ...</td>\n",
       "    </tr>\n",
       "    <tr>\n",
       "      <th>148</th>\n",
       "      <td>148</td>\n",
       "      <td>q2209nFlQLo</td>\n",
       "      <td>look at this point you cannot turn on your ph...</td>\n",
       "      <td>look at this point you cannot turn on your ph...</td>\n",
       "    </tr>\n",
       "    <tr>\n",
       "      <th>149</th>\n",
       "      <td>149</td>\n",
       "      <td>qcKIjwiQgok</td>\n",
       "      <td>NaN</td>\n",
       "      <td>When you think Palestine, you may think viole...</td>\n",
       "    </tr>\n",
       "    <tr>\n",
       "      <th>150</th>\n",
       "      <td>150</td>\n",
       "      <td>sfju7EAukEs</td>\n",
       "      <td>Hello, friends! After the ongoing violence fo...</td>\n",
       "      <td>Hello, friends! After the ongoing violence fo...</td>\n",
       "    </tr>\n",
       "  </tbody>\n",
       "</table>\n",
       "<p>151 rows × 4 columns</p>\n",
       "</div>"
      ],
      "text/plain": [
       "     Unnamed: 0     video_id  \\\n",
       "0             0  R0ftmf_Uv9A   \n",
       "1             1  Bno1m1zhIWs   \n",
       "2             2  0anQIEeLonA   \n",
       "3             3  iRYZjOuUnlU   \n",
       "4             4  1wo2TLlMhiw   \n",
       "..          ...          ...   \n",
       "146         146  Y58njT2oXfE   \n",
       "147         147  WTjGtfVmIbA   \n",
       "148         148  q2209nFlQLo   \n",
       "149         149  qcKIjwiQgok   \n",
       "150         150  sfju7EAukEs   \n",
       "\n",
       "                                      video_transcript  \\\n",
       "0                                                  NaN   \n",
       "1     NARRATOR: Israel. It's the only Jewish\\r\\nnat...   \n",
       "2     at the break of dawn on the 7th of October 20...   \n",
       "3     One of the biggest myths about the Israel-Pal...   \n",
       "4     Hi, I'm John Green, this is Crash Course Worl...   \n",
       "..                                                 ...   \n",
       "146   what would happen if you build a refuge for A...   \n",
       "147   Israel is at War it has come under terrorist ...   \n",
       "148   look at this point you cannot turn on your ph...   \n",
       "149                                                NaN   \n",
       "150   Hello, friends! After the ongoing violence fo...   \n",
       "\n",
       "                                      final_transcript  \n",
       "0                                                  NaN  \n",
       "1     NARRATOR: Israel. It's the only Jewish\\r\\nnat...  \n",
       "2     at the break of dawn on the 7th of October 20...  \n",
       "3     One of the biggest myths about the Israel-Pal...  \n",
       "4     Hi, I'm John Green, this is Crash Course Worl...  \n",
       "..                                                 ...  \n",
       "146   what would happen if you build a refuge for A...  \n",
       "147   Israel is at War it has come under terrorist ...  \n",
       "148   look at this point you cannot turn on your ph...  \n",
       "149   When you think Palestine, you may think viole...  \n",
       "150   Hello, friends! After the ongoing violence fo...  \n",
       "\n",
       "[151 rows x 4 columns]"
      ]
     },
     "execution_count": 78,
     "metadata": {},
     "output_type": "execute_result"
    }
   ],
   "source": [
    "final_pal_is"
   ]
  },
  {
   "cell_type": "code",
   "execution_count": 52,
   "id": "c837a58d",
   "metadata": {},
   "outputs": [],
   "source": [
    "final_pal_is = final_pal_is.drop(\"Unnamed: 0\",axis =1)"
   ]
  },
  {
   "cell_type": "code",
   "execution_count": 145,
   "id": "ed4ae8ea",
   "metadata": {},
   "outputs": [
    {
     "name": "stdout",
     "output_type": "stream",
     "text": [
      "transcribing https://www.youtube.com/watch?v=1kYWII25cxM\n"
     ]
    },
    {
     "name": "stderr",
     "output_type": "stream",
     "text": [
      "d:\\Program Files\\miniconda3\\lib\\site-packages\\whisper\\transcribe.py:126: UserWarning: FP16 is not supported on CPU; using FP32 instead\n",
      "  warnings.warn(\"FP16 is not supported on CPU; using FP32 instead\")\n"
     ]
    },
    {
     "name": "stdout",
     "output_type": "stream",
     "text": [
      "transcribing https://www.youtube.com/watch?v=bU2wYxJSZBI\n",
      "transcribing https://www.youtube.com/watch?v=rzoI6RUG1iQ\n"
     ]
    }
   ],
   "source": [
    "whisper_trans_pal_is = whisper_transcribe(pal_is_df[183:].reset_index())"
   ]
  },
  {
   "cell_type": "code",
   "execution_count": 123,
   "id": "dc9b0da1",
   "metadata": {},
   "outputs": [
    {
     "ename": "AttributeError",
     "evalue": "'float' object has no attribute 'copy'",
     "output_type": "error",
     "traceback": [
      "\u001b[1;31m---------------------------------------------------------------------------\u001b[0m",
      "\u001b[1;31mAttributeError\u001b[0m                            Traceback (most recent call last)",
      "Cell \u001b[1;32mIn[123], line 1\u001b[0m\n\u001b[1;32m----> 1\u001b[0m whis\u001b[38;5;241m=\u001b[39m \u001b[43mwhisper_trans_pal_is\u001b[49m\u001b[38;5;241;43m.\u001b[39;49m\u001b[43mcopy\u001b[49m() \n\u001b[0;32m      2\u001b[0m \u001b[38;5;28mlen\u001b[39m(whis)\n",
      "\u001b[1;31mAttributeError\u001b[0m: 'float' object has no attribute 'copy'"
     ]
    }
   ],
   "source": [
    "whis= whisper_trans_pal_is.copy() \n",
    "len(whis)"
   ]
  },
  {
   "cell_type": "code",
   "execution_count": 75,
   "id": "a4a1dfc4",
   "metadata": {},
   "outputs": [
    {
     "data": {
      "text/plain": [
       "31"
      ]
     },
     "execution_count": 75,
     "metadata": {},
     "output_type": "execute_result"
    }
   ],
   "source": [
    "len(pal_is_df[151:182])"
   ]
  },
  {
   "cell_type": "code",
   "execution_count": 74,
   "id": "723b4496",
   "metadata": {},
   "outputs": [
    {
     "data": {
      "text/plain": [
       "nan"
      ]
     },
     "execution_count": 74,
     "metadata": {},
     "output_type": "execute_result"
    }
   ],
   "source": [
    "pal_is_df['video_transcript'][151]"
   ]
  },
  {
   "cell_type": "code",
   "execution_count": 98,
   "id": "356d82f6",
   "metadata": {},
   "outputs": [
    {
     "data": {
      "text/plain": [
       "'wVYZFNCmrBI'"
      ]
     },
     "execution_count": 98,
     "metadata": {},
     "output_type": "execute_result"
    }
   ],
   "source": [
    "pal_is_df['video_id'][182]"
   ]
  },
  {
   "cell_type": "code",
   "execution_count": 129,
   "id": "0854db6e",
   "metadata": {},
   "outputs": [],
   "source": [
    "whisp = pal_is_df[182:].drop('video_title',axis=1)\n",
    "whisp['final_transcript'] =whis\n",
    "whisp"
   ]
  },
  {
   "cell_type": "code",
   "execution_count": 130,
   "id": "1c0d9501",
   "metadata": {},
   "outputs": [
    {
     "data": {
      "text/html": [
       "<div>\n",
       "<style scoped>\n",
       "    .dataframe tbody tr th:only-of-type {\n",
       "        vertical-align: middle;\n",
       "    }\n",
       "\n",
       "    .dataframe tbody tr th {\n",
       "        vertical-align: top;\n",
       "    }\n",
       "\n",
       "    .dataframe thead th {\n",
       "        text-align: right;\n",
       "    }\n",
       "</style>\n",
       "<table border=\"1\" class=\"dataframe\">\n",
       "  <thead>\n",
       "    <tr style=\"text-align: right;\">\n",
       "      <th></th>\n",
       "      <th>video_id</th>\n",
       "      <th>video_title</th>\n",
       "      <th>video_transcript</th>\n",
       "      <th>final_transcript</th>\n",
       "    </tr>\n",
       "  </thead>\n",
       "  <tbody>\n",
       "    <tr>\n",
       "      <th>182</th>\n",
       "      <td>wVYZFNCmrBI</td>\n",
       "      <td>Complete story of Israel &amp;amp; Palestine confl...</td>\n",
       "      <td>NaN</td>\n",
       "      <td>NaN</td>\n",
       "    </tr>\n",
       "  </tbody>\n",
       "</table>\n",
       "</div>"
      ],
      "text/plain": [
       "        video_id                                        video_title  \\\n",
       "182  wVYZFNCmrBI  Complete story of Israel &amp; Palestine confl...   \n",
       "\n",
       "    video_transcript final_transcript  \n",
       "182              NaN              NaN  "
      ]
     },
     "execution_count": 130,
     "metadata": {},
     "output_type": "execute_result"
    }
   ],
   "source": [
    "whisp"
   ]
  },
  {
   "cell_type": "code",
   "execution_count": 146,
   "id": "536c73cd",
   "metadata": {},
   "outputs": [],
   "source": [
    "final_pal_is = pd.concat([final_pal_is,whisper_trans_pal_is],ignore_index=True)"
   ]
  },
  {
   "cell_type": "code",
   "execution_count": 147,
   "id": "2f199e91",
   "metadata": {},
   "outputs": [
    {
     "data": {
      "text/html": [
       "<div>\n",
       "<style scoped>\n",
       "    .dataframe tbody tr th:only-of-type {\n",
       "        vertical-align: middle;\n",
       "    }\n",
       "\n",
       "    .dataframe tbody tr th {\n",
       "        vertical-align: top;\n",
       "    }\n",
       "\n",
       "    .dataframe thead th {\n",
       "        text-align: right;\n",
       "    }\n",
       "</style>\n",
       "<table border=\"1\" class=\"dataframe\">\n",
       "  <thead>\n",
       "    <tr style=\"text-align: right;\">\n",
       "      <th></th>\n",
       "      <th>video_id</th>\n",
       "      <th>video_transcript</th>\n",
       "      <th>final_transcript</th>\n",
       "    </tr>\n",
       "  </thead>\n",
       "  <tbody>\n",
       "    <tr>\n",
       "      <th>0</th>\n",
       "      <td>R0ftmf_Uv9A</td>\n",
       "      <td>NaN</td>\n",
       "      <td>NaN</td>\n",
       "    </tr>\n",
       "    <tr>\n",
       "      <th>1</th>\n",
       "      <td>Bno1m1zhIWs</td>\n",
       "      <td>NARRATOR: Israel. It's the only Jewish\\r\\nnat...</td>\n",
       "      <td>NARRATOR: Israel. It's the only Jewish\\r\\nnat...</td>\n",
       "    </tr>\n",
       "    <tr>\n",
       "      <th>2</th>\n",
       "      <td>0anQIEeLonA</td>\n",
       "      <td>at the break of dawn on the 7th of October 20...</td>\n",
       "      <td>at the break of dawn on the 7th of October 20...</td>\n",
       "    </tr>\n",
       "    <tr>\n",
       "      <th>3</th>\n",
       "      <td>iRYZjOuUnlU</td>\n",
       "      <td>One of the biggest myths about the Israel-Pal...</td>\n",
       "      <td>One of the biggest myths about the Israel-Pal...</td>\n",
       "    </tr>\n",
       "    <tr>\n",
       "      <th>4</th>\n",
       "      <td>1wo2TLlMhiw</td>\n",
       "      <td>Hi, I'm John Green, this is Crash Course Worl...</td>\n",
       "      <td>Hi, I'm John Green, this is Crash Course Worl...</td>\n",
       "    </tr>\n",
       "    <tr>\n",
       "      <th>...</th>\n",
       "      <td>...</td>\n",
       "      <td>...</td>\n",
       "      <td>...</td>\n",
       "    </tr>\n",
       "    <tr>\n",
       "      <th>195</th>\n",
       "      <td>XYn5t0tuuAk</td>\n",
       "      <td>hello everybody I want to talk to you today a...</td>\n",
       "      <td>hello everybody I want to talk to you today a...</td>\n",
       "    </tr>\n",
       "    <tr>\n",
       "      <th>196</th>\n",
       "      <td>Fo77sTGpngQ</td>\n",
       "      <td>the israeli-palestinian conflict has been the...</td>\n",
       "      <td>the israeli-palestinian conflict has been the...</td>\n",
       "    </tr>\n",
       "    <tr>\n",
       "      <th>197</th>\n",
       "      <td>rzoI6RUG1iQ</td>\n",
       "      <td>NaN</td>\n",
       "      <td>nan</td>\n",
       "    </tr>\n",
       "    <tr>\n",
       "      <th>198</th>\n",
       "      <td>JN4mnVLP0rU</td>\n",
       "      <td>this video is made possible by nebula use the...</td>\n",
       "      <td>this video is made possible by nebula use the...</td>\n",
       "    </tr>\n",
       "    <tr>\n",
       "      <th>199</th>\n",
       "      <td>nDtZGbNNbjo</td>\n",
       "      <td>thank you for joining us we begin this NewsHo...</td>\n",
       "      <td>thank you for joining us we begin this NewsHo...</td>\n",
       "    </tr>\n",
       "  </tbody>\n",
       "</table>\n",
       "<p>200 rows × 3 columns</p>\n",
       "</div>"
      ],
      "text/plain": [
       "        video_id                                   video_transcript  \\\n",
       "0    R0ftmf_Uv9A                                                NaN   \n",
       "1    Bno1m1zhIWs   NARRATOR: Israel. It's the only Jewish\\r\\nnat...   \n",
       "2    0anQIEeLonA   at the break of dawn on the 7th of October 20...   \n",
       "3    iRYZjOuUnlU   One of the biggest myths about the Israel-Pal...   \n",
       "4    1wo2TLlMhiw   Hi, I'm John Green, this is Crash Course Worl...   \n",
       "..           ...                                                ...   \n",
       "195  XYn5t0tuuAk   hello everybody I want to talk to you today a...   \n",
       "196  Fo77sTGpngQ   the israeli-palestinian conflict has been the...   \n",
       "197  rzoI6RUG1iQ                                                NaN   \n",
       "198  JN4mnVLP0rU   this video is made possible by nebula use the...   \n",
       "199  nDtZGbNNbjo   thank you for joining us we begin this NewsHo...   \n",
       "\n",
       "                                      final_transcript  \n",
       "0                                                  NaN  \n",
       "1     NARRATOR: Israel. It's the only Jewish\\r\\nnat...  \n",
       "2     at the break of dawn on the 7th of October 20...  \n",
       "3     One of the biggest myths about the Israel-Pal...  \n",
       "4     Hi, I'm John Green, this is Crash Course Worl...  \n",
       "..                                                 ...  \n",
       "195   hello everybody I want to talk to you today a...  \n",
       "196   the israeli-palestinian conflict has been the...  \n",
       "197                                                nan  \n",
       "198   this video is made possible by nebula use the...  \n",
       "199   thank you for joining us we begin this NewsHo...  \n",
       "\n",
       "[200 rows x 3 columns]"
      ]
     },
     "execution_count": 147,
     "metadata": {},
     "output_type": "execute_result"
    }
   ],
   "source": [
    "final_pal_is"
   ]
  },
  {
   "cell_type": "code",
   "execution_count": 43,
   "id": "8e757e10",
   "metadata": {},
   "outputs": [
    {
     "data": {
      "text/plain": [
       "20"
      ]
     },
     "execution_count": 43,
     "metadata": {},
     "output_type": "execute_result"
    }
   ],
   "source": [
    "len(whisper_trans_pal_is)"
   ]
  },
  {
   "cell_type": "code",
   "execution_count": 44,
   "id": "9c077d98",
   "metadata": {},
   "outputs": [
    {
     "data": {
      "text/plain": [
       "20"
      ]
     },
     "execution_count": 44,
     "metadata": {},
     "output_type": "execute_result"
    }
   ],
   "source": [
    "len(pal_is_df[113:133])"
   ]
  },
  {
   "cell_type": "code",
   "execution_count": 132,
   "id": "d2f09132",
   "metadata": {},
   "outputs": [
    {
     "ename": "KeyError",
     "evalue": "\"['Unnamed: 0'] not found in axis\"",
     "output_type": "error",
     "traceback": [
      "\u001b[1;31m---------------------------------------------------------------------------\u001b[0m",
      "\u001b[1;31mKeyError\u001b[0m                                  Traceback (most recent call last)",
      "Cell \u001b[1;32mIn[132], line 1\u001b[0m\n\u001b[1;32m----> 1\u001b[0m final_pal_is\u001b[38;5;241m=\u001b[39m  \u001b[43mfinal_pal_is\u001b[49m\u001b[38;5;241;43m.\u001b[39;49m\u001b[43mdrop\u001b[49m\u001b[43m(\u001b[49m\u001b[38;5;124;43m'\u001b[39;49m\u001b[38;5;124;43mUnnamed: 0\u001b[39;49m\u001b[38;5;124;43m'\u001b[39;49m\u001b[43m,\u001b[49m\u001b[43maxis\u001b[49m\u001b[38;5;241;43m=\u001b[39;49m\u001b[38;5;241;43m1\u001b[39;49m\u001b[43m)\u001b[49m\n",
      "File \u001b[1;32md:\\Program Files\\miniconda3\\lib\\site-packages\\pandas\\core\\frame.py:5344\u001b[0m, in \u001b[0;36mDataFrame.drop\u001b[1;34m(self, labels, axis, index, columns, level, inplace, errors)\u001b[0m\n\u001b[0;32m   5196\u001b[0m \u001b[38;5;28;01mdef\u001b[39;00m \u001b[38;5;21mdrop\u001b[39m(\n\u001b[0;32m   5197\u001b[0m     \u001b[38;5;28mself\u001b[39m,\n\u001b[0;32m   5198\u001b[0m     labels: IndexLabel \u001b[38;5;241m|\u001b[39m \u001b[38;5;28;01mNone\u001b[39;00m \u001b[38;5;241m=\u001b[39m \u001b[38;5;28;01mNone\u001b[39;00m,\n\u001b[1;32m   (...)\u001b[0m\n\u001b[0;32m   5205\u001b[0m     errors: IgnoreRaise \u001b[38;5;241m=\u001b[39m \u001b[38;5;124m\"\u001b[39m\u001b[38;5;124mraise\u001b[39m\u001b[38;5;124m\"\u001b[39m,\n\u001b[0;32m   5206\u001b[0m ) \u001b[38;5;241m-\u001b[39m\u001b[38;5;241m>\u001b[39m DataFrame \u001b[38;5;241m|\u001b[39m \u001b[38;5;28;01mNone\u001b[39;00m:\n\u001b[0;32m   5207\u001b[0m \u001b[38;5;250m    \u001b[39m\u001b[38;5;124;03m\"\"\"\u001b[39;00m\n\u001b[0;32m   5208\u001b[0m \u001b[38;5;124;03m    Drop specified labels from rows or columns.\u001b[39;00m\n\u001b[0;32m   5209\u001b[0m \n\u001b[1;32m   (...)\u001b[0m\n\u001b[0;32m   5342\u001b[0m \u001b[38;5;124;03m            weight  1.0     0.8\u001b[39;00m\n\u001b[0;32m   5343\u001b[0m \u001b[38;5;124;03m    \"\"\"\u001b[39;00m\n\u001b[1;32m-> 5344\u001b[0m     \u001b[38;5;28;01mreturn\u001b[39;00m \u001b[38;5;28;43msuper\u001b[39;49m\u001b[43m(\u001b[49m\u001b[43m)\u001b[49m\u001b[38;5;241;43m.\u001b[39;49m\u001b[43mdrop\u001b[49m\u001b[43m(\u001b[49m\n\u001b[0;32m   5345\u001b[0m \u001b[43m        \u001b[49m\u001b[43mlabels\u001b[49m\u001b[38;5;241;43m=\u001b[39;49m\u001b[43mlabels\u001b[49m\u001b[43m,\u001b[49m\n\u001b[0;32m   5346\u001b[0m \u001b[43m        \u001b[49m\u001b[43maxis\u001b[49m\u001b[38;5;241;43m=\u001b[39;49m\u001b[43maxis\u001b[49m\u001b[43m,\u001b[49m\n\u001b[0;32m   5347\u001b[0m \u001b[43m        \u001b[49m\u001b[43mindex\u001b[49m\u001b[38;5;241;43m=\u001b[39;49m\u001b[43mindex\u001b[49m\u001b[43m,\u001b[49m\n\u001b[0;32m   5348\u001b[0m \u001b[43m        \u001b[49m\u001b[43mcolumns\u001b[49m\u001b[38;5;241;43m=\u001b[39;49m\u001b[43mcolumns\u001b[49m\u001b[43m,\u001b[49m\n\u001b[0;32m   5349\u001b[0m \u001b[43m        \u001b[49m\u001b[43mlevel\u001b[49m\u001b[38;5;241;43m=\u001b[39;49m\u001b[43mlevel\u001b[49m\u001b[43m,\u001b[49m\n\u001b[0;32m   5350\u001b[0m \u001b[43m        \u001b[49m\u001b[43minplace\u001b[49m\u001b[38;5;241;43m=\u001b[39;49m\u001b[43minplace\u001b[49m\u001b[43m,\u001b[49m\n\u001b[0;32m   5351\u001b[0m \u001b[43m        \u001b[49m\u001b[43merrors\u001b[49m\u001b[38;5;241;43m=\u001b[39;49m\u001b[43merrors\u001b[49m\u001b[43m,\u001b[49m\n\u001b[0;32m   5352\u001b[0m \u001b[43m    \u001b[49m\u001b[43m)\u001b[49m\n",
      "File \u001b[1;32md:\\Program Files\\miniconda3\\lib\\site-packages\\pandas\\core\\generic.py:4711\u001b[0m, in \u001b[0;36mNDFrame.drop\u001b[1;34m(self, labels, axis, index, columns, level, inplace, errors)\u001b[0m\n\u001b[0;32m   4709\u001b[0m \u001b[38;5;28;01mfor\u001b[39;00m axis, labels \u001b[38;5;129;01min\u001b[39;00m axes\u001b[38;5;241m.\u001b[39mitems():\n\u001b[0;32m   4710\u001b[0m     \u001b[38;5;28;01mif\u001b[39;00m labels \u001b[38;5;129;01mis\u001b[39;00m \u001b[38;5;129;01mnot\u001b[39;00m \u001b[38;5;28;01mNone\u001b[39;00m:\n\u001b[1;32m-> 4711\u001b[0m         obj \u001b[38;5;241m=\u001b[39m \u001b[43mobj\u001b[49m\u001b[38;5;241;43m.\u001b[39;49m\u001b[43m_drop_axis\u001b[49m\u001b[43m(\u001b[49m\u001b[43mlabels\u001b[49m\u001b[43m,\u001b[49m\u001b[43m \u001b[49m\u001b[43maxis\u001b[49m\u001b[43m,\u001b[49m\u001b[43m \u001b[49m\u001b[43mlevel\u001b[49m\u001b[38;5;241;43m=\u001b[39;49m\u001b[43mlevel\u001b[49m\u001b[43m,\u001b[49m\u001b[43m \u001b[49m\u001b[43merrors\u001b[49m\u001b[38;5;241;43m=\u001b[39;49m\u001b[43merrors\u001b[49m\u001b[43m)\u001b[49m\n\u001b[0;32m   4713\u001b[0m \u001b[38;5;28;01mif\u001b[39;00m inplace:\n\u001b[0;32m   4714\u001b[0m     \u001b[38;5;28mself\u001b[39m\u001b[38;5;241m.\u001b[39m_update_inplace(obj)\n",
      "File \u001b[1;32md:\\Program Files\\miniconda3\\lib\\site-packages\\pandas\\core\\generic.py:4753\u001b[0m, in \u001b[0;36mNDFrame._drop_axis\u001b[1;34m(self, labels, axis, level, errors, only_slice)\u001b[0m\n\u001b[0;32m   4751\u001b[0m         new_axis \u001b[38;5;241m=\u001b[39m axis\u001b[38;5;241m.\u001b[39mdrop(labels, level\u001b[38;5;241m=\u001b[39mlevel, errors\u001b[38;5;241m=\u001b[39merrors)\n\u001b[0;32m   4752\u001b[0m     \u001b[38;5;28;01melse\u001b[39;00m:\n\u001b[1;32m-> 4753\u001b[0m         new_axis \u001b[38;5;241m=\u001b[39m \u001b[43maxis\u001b[49m\u001b[38;5;241;43m.\u001b[39;49m\u001b[43mdrop\u001b[49m\u001b[43m(\u001b[49m\u001b[43mlabels\u001b[49m\u001b[43m,\u001b[49m\u001b[43m \u001b[49m\u001b[43merrors\u001b[49m\u001b[38;5;241;43m=\u001b[39;49m\u001b[43merrors\u001b[49m\u001b[43m)\u001b[49m\n\u001b[0;32m   4754\u001b[0m     indexer \u001b[38;5;241m=\u001b[39m axis\u001b[38;5;241m.\u001b[39mget_indexer(new_axis)\n\u001b[0;32m   4756\u001b[0m \u001b[38;5;66;03m# Case for non-unique axis\u001b[39;00m\n\u001b[0;32m   4757\u001b[0m \u001b[38;5;28;01melse\u001b[39;00m:\n",
      "File \u001b[1;32md:\\Program Files\\miniconda3\\lib\\site-packages\\pandas\\core\\indexes\\base.py:6992\u001b[0m, in \u001b[0;36mIndex.drop\u001b[1;34m(self, labels, errors)\u001b[0m\n\u001b[0;32m   6990\u001b[0m \u001b[38;5;28;01mif\u001b[39;00m mask\u001b[38;5;241m.\u001b[39many():\n\u001b[0;32m   6991\u001b[0m     \u001b[38;5;28;01mif\u001b[39;00m errors \u001b[38;5;241m!=\u001b[39m \u001b[38;5;124m\"\u001b[39m\u001b[38;5;124mignore\u001b[39m\u001b[38;5;124m\"\u001b[39m:\n\u001b[1;32m-> 6992\u001b[0m         \u001b[38;5;28;01mraise\u001b[39;00m \u001b[38;5;167;01mKeyError\u001b[39;00m(\u001b[38;5;124mf\u001b[39m\u001b[38;5;124m\"\u001b[39m\u001b[38;5;132;01m{\u001b[39;00mlabels[mask]\u001b[38;5;241m.\u001b[39mtolist()\u001b[38;5;132;01m}\u001b[39;00m\u001b[38;5;124m not found in axis\u001b[39m\u001b[38;5;124m\"\u001b[39m)\n\u001b[0;32m   6993\u001b[0m     indexer \u001b[38;5;241m=\u001b[39m indexer[\u001b[38;5;241m~\u001b[39mmask]\n\u001b[0;32m   6994\u001b[0m \u001b[38;5;28;01mreturn\u001b[39;00m \u001b[38;5;28mself\u001b[39m\u001b[38;5;241m.\u001b[39mdelete(indexer)\n",
      "\u001b[1;31mKeyError\u001b[0m: \"['Unnamed: 0'] not found in axis\""
     ]
    }
   ],
   "source": [
    "final_pal_is=  final_pal_is.drop('Unnamed: 0',axis=1)"
   ]
  },
  {
   "cell_type": "code",
   "execution_count": 148,
   "id": "fa532ccd",
   "metadata": {},
   "outputs": [],
   "source": [
    "final_pal_is.to_csv('../datasets/israel-palestine_conflict_history/final_whisper_transcript.csv')"
   ]
  },
  {
   "cell_type": "code",
   "execution_count": 141,
   "id": "968c2201",
   "metadata": {},
   "outputs": [
    {
     "data": {
      "text/html": [
       "<div>\n",
       "<style scoped>\n",
       "    .dataframe tbody tr th:only-of-type {\n",
       "        vertical-align: middle;\n",
       "    }\n",
       "\n",
       "    .dataframe tbody tr th {\n",
       "        vertical-align: top;\n",
       "    }\n",
       "\n",
       "    .dataframe thead th {\n",
       "        text-align: right;\n",
       "    }\n",
       "</style>\n",
       "<table border=\"1\" class=\"dataframe\">\n",
       "  <thead>\n",
       "    <tr style=\"text-align: right;\">\n",
       "      <th></th>\n",
       "      <th>video_id</th>\n",
       "      <th>video_transcript</th>\n",
       "      <th>final_transcript</th>\n",
       "    </tr>\n",
       "  </thead>\n",
       "  <tbody>\n",
       "    <tr>\n",
       "      <th>0</th>\n",
       "      <td>R0ftmf_Uv9A</td>\n",
       "      <td>NaN</td>\n",
       "      <td>NaN</td>\n",
       "    </tr>\n",
       "    <tr>\n",
       "      <th>1</th>\n",
       "      <td>Bno1m1zhIWs</td>\n",
       "      <td>NARRATOR: Israel. It's the only Jewish\\r\\nnat...</td>\n",
       "      <td>NARRATOR: Israel. It's the only Jewish\\r\\nnat...</td>\n",
       "    </tr>\n",
       "    <tr>\n",
       "      <th>2</th>\n",
       "      <td>0anQIEeLonA</td>\n",
       "      <td>at the break of dawn on the 7th of October 20...</td>\n",
       "      <td>at the break of dawn on the 7th of October 20...</td>\n",
       "    </tr>\n",
       "    <tr>\n",
       "      <th>3</th>\n",
       "      <td>iRYZjOuUnlU</td>\n",
       "      <td>One of the biggest myths about the Israel-Pal...</td>\n",
       "      <td>One of the biggest myths about the Israel-Pal...</td>\n",
       "    </tr>\n",
       "    <tr>\n",
       "      <th>4</th>\n",
       "      <td>1wo2TLlMhiw</td>\n",
       "      <td>Hi, I'm John Green, this is Crash Course Worl...</td>\n",
       "      <td>Hi, I'm John Green, this is Crash Course Worl...</td>\n",
       "    </tr>\n",
       "    <tr>\n",
       "      <th>...</th>\n",
       "      <td>...</td>\n",
       "      <td>...</td>\n",
       "      <td>...</td>\n",
       "    </tr>\n",
       "    <tr>\n",
       "      <th>178</th>\n",
       "      <td>7QNNClAYHFk</td>\n",
       "      <td>often the settlers and their flock try to cre...</td>\n",
       "      <td>often the settlers and their flock try to cre...</td>\n",
       "    </tr>\n",
       "    <tr>\n",
       "      <th>179</th>\n",
       "      <td>WM9rdc0fsgo</td>\n",
       "      <td>NaN</td>\n",
       "      <td>فلسطین اور اسرائیل کے کونفرکت کو تقریباً سو س...</td>\n",
       "    </tr>\n",
       "    <tr>\n",
       "      <th>180</th>\n",
       "      <td>gCNeDWCI0vo</td>\n",
       "      <td>NaN</td>\n",
       "      <td>nan</td>\n",
       "    </tr>\n",
       "    <tr>\n",
       "      <th>181</th>\n",
       "      <td>wznD7uCEcLk</td>\n",
       "      <td>Please welcome senior\\r\\nwriter at The Interc...</td>\n",
       "      <td>Please welcome senior\\r\\nwriter at The Interc...</td>\n",
       "    </tr>\n",
       "    <tr>\n",
       "      <th>182</th>\n",
       "      <td>wVYZFNCmrBI</td>\n",
       "      <td>NaN</td>\n",
       "      <td>NaN</td>\n",
       "    </tr>\n",
       "  </tbody>\n",
       "</table>\n",
       "<p>183 rows × 3 columns</p>\n",
       "</div>"
      ],
      "text/plain": [
       "        video_id                                   video_transcript  \\\n",
       "0    R0ftmf_Uv9A                                                NaN   \n",
       "1    Bno1m1zhIWs   NARRATOR: Israel. It's the only Jewish\\r\\nnat...   \n",
       "2    0anQIEeLonA   at the break of dawn on the 7th of October 20...   \n",
       "3    iRYZjOuUnlU   One of the biggest myths about the Israel-Pal...   \n",
       "4    1wo2TLlMhiw   Hi, I'm John Green, this is Crash Course Worl...   \n",
       "..           ...                                                ...   \n",
       "178  7QNNClAYHFk   often the settlers and their flock try to cre...   \n",
       "179  WM9rdc0fsgo                                                NaN   \n",
       "180  gCNeDWCI0vo                                                NaN   \n",
       "181  wznD7uCEcLk   Please welcome senior\\r\\nwriter at The Interc...   \n",
       "182  wVYZFNCmrBI                                                NaN   \n",
       "\n",
       "                                      final_transcript  \n",
       "0                                                  NaN  \n",
       "1     NARRATOR: Israel. It's the only Jewish\\r\\nnat...  \n",
       "2     at the break of dawn on the 7th of October 20...  \n",
       "3     One of the biggest myths about the Israel-Pal...  \n",
       "4     Hi, I'm John Green, this is Crash Course Worl...  \n",
       "..                                                 ...  \n",
       "178   often the settlers and their flock try to cre...  \n",
       "179   فلسطین اور اسرائیل کے کونفرکت کو تقریباً سو س...  \n",
       "180                                                nan  \n",
       "181   Please welcome senior\\r\\nwriter at The Interc...  \n",
       "182                                                NaN  \n",
       "\n",
       "[183 rows x 3 columns]"
      ]
     },
     "execution_count": 141,
     "metadata": {},
     "output_type": "execute_result"
    }
   ],
   "source": [
    "final_pal_is"
   ]
  },
  {
   "cell_type": "code",
   "execution_count": 50,
   "id": "2d3d2c9f",
   "metadata": {},
   "outputs": [
    {
     "ename": "FileNotFoundError",
     "evalue": "[Errno 2] No such file or directory: '../datasets/israel-palestine_conflict_history/final_whisper_transcript.csv'",
     "output_type": "error",
     "traceback": [
      "\u001b[1;31m---------------------------------------------------------------------------\u001b[0m",
      "\u001b[1;31mFileNotFoundError\u001b[0m                         Traceback (most recent call last)",
      "Cell \u001b[1;32mIn[50], line 1\u001b[0m\n\u001b[1;32m----> 1\u001b[0m final_cov_vax \u001b[38;5;241m=\u001b[39m \u001b[43mpd\u001b[49m\u001b[38;5;241;43m.\u001b[39;49m\u001b[43mread_csv\u001b[49m\u001b[43m(\u001b[49m\u001b[38;5;124;43m'\u001b[39;49m\u001b[38;5;124;43m../datasets/israel-palestine_conflict_history/final_whisper_transcript.csv\u001b[39;49m\u001b[38;5;124;43m'\u001b[39;49m\u001b[43m)\u001b[49m\n",
      "File \u001b[1;32md:\\Program Files\\miniconda3\\lib\\site-packages\\pandas\\io\\parsers\\readers.py:948\u001b[0m, in \u001b[0;36mread_csv\u001b[1;34m(filepath_or_buffer, sep, delimiter, header, names, index_col, usecols, dtype, engine, converters, true_values, false_values, skipinitialspace, skiprows, skipfooter, nrows, na_values, keep_default_na, na_filter, verbose, skip_blank_lines, parse_dates, infer_datetime_format, keep_date_col, date_parser, date_format, dayfirst, cache_dates, iterator, chunksize, compression, thousands, decimal, lineterminator, quotechar, quoting, doublequote, escapechar, comment, encoding, encoding_errors, dialect, on_bad_lines, delim_whitespace, low_memory, memory_map, float_precision, storage_options, dtype_backend)\u001b[0m\n\u001b[0;32m    935\u001b[0m kwds_defaults \u001b[38;5;241m=\u001b[39m _refine_defaults_read(\n\u001b[0;32m    936\u001b[0m     dialect,\n\u001b[0;32m    937\u001b[0m     delimiter,\n\u001b[1;32m   (...)\u001b[0m\n\u001b[0;32m    944\u001b[0m     dtype_backend\u001b[38;5;241m=\u001b[39mdtype_backend,\n\u001b[0;32m    945\u001b[0m )\n\u001b[0;32m    946\u001b[0m kwds\u001b[38;5;241m.\u001b[39mupdate(kwds_defaults)\n\u001b[1;32m--> 948\u001b[0m \u001b[38;5;28;01mreturn\u001b[39;00m \u001b[43m_read\u001b[49m\u001b[43m(\u001b[49m\u001b[43mfilepath_or_buffer\u001b[49m\u001b[43m,\u001b[49m\u001b[43m \u001b[49m\u001b[43mkwds\u001b[49m\u001b[43m)\u001b[49m\n",
      "File \u001b[1;32md:\\Program Files\\miniconda3\\lib\\site-packages\\pandas\\io\\parsers\\readers.py:611\u001b[0m, in \u001b[0;36m_read\u001b[1;34m(filepath_or_buffer, kwds)\u001b[0m\n\u001b[0;32m    608\u001b[0m _validate_names(kwds\u001b[38;5;241m.\u001b[39mget(\u001b[38;5;124m\"\u001b[39m\u001b[38;5;124mnames\u001b[39m\u001b[38;5;124m\"\u001b[39m, \u001b[38;5;28;01mNone\u001b[39;00m))\n\u001b[0;32m    610\u001b[0m \u001b[38;5;66;03m# Create the parser.\u001b[39;00m\n\u001b[1;32m--> 611\u001b[0m parser \u001b[38;5;241m=\u001b[39m TextFileReader(filepath_or_buffer, \u001b[38;5;241m*\u001b[39m\u001b[38;5;241m*\u001b[39mkwds)\n\u001b[0;32m    613\u001b[0m \u001b[38;5;28;01mif\u001b[39;00m chunksize \u001b[38;5;129;01mor\u001b[39;00m iterator:\n\u001b[0;32m    614\u001b[0m     \u001b[38;5;28;01mreturn\u001b[39;00m parser\n",
      "File \u001b[1;32md:\\Program Files\\miniconda3\\lib\\site-packages\\pandas\\io\\parsers\\readers.py:1448\u001b[0m, in \u001b[0;36mTextFileReader.__init__\u001b[1;34m(self, f, engine, **kwds)\u001b[0m\n\u001b[0;32m   1445\u001b[0m     \u001b[38;5;28mself\u001b[39m\u001b[38;5;241m.\u001b[39moptions[\u001b[38;5;124m\"\u001b[39m\u001b[38;5;124mhas_index_names\u001b[39m\u001b[38;5;124m\"\u001b[39m] \u001b[38;5;241m=\u001b[39m kwds[\u001b[38;5;124m\"\u001b[39m\u001b[38;5;124mhas_index_names\u001b[39m\u001b[38;5;124m\"\u001b[39m]\n\u001b[0;32m   1447\u001b[0m \u001b[38;5;28mself\u001b[39m\u001b[38;5;241m.\u001b[39mhandles: IOHandles \u001b[38;5;241m|\u001b[39m \u001b[38;5;28;01mNone\u001b[39;00m \u001b[38;5;241m=\u001b[39m \u001b[38;5;28;01mNone\u001b[39;00m\n\u001b[1;32m-> 1448\u001b[0m \u001b[38;5;28mself\u001b[39m\u001b[38;5;241m.\u001b[39m_engine \u001b[38;5;241m=\u001b[39m \u001b[38;5;28;43mself\u001b[39;49m\u001b[38;5;241;43m.\u001b[39;49m\u001b[43m_make_engine\u001b[49m\u001b[43m(\u001b[49m\u001b[43mf\u001b[49m\u001b[43m,\u001b[49m\u001b[43m \u001b[49m\u001b[38;5;28;43mself\u001b[39;49m\u001b[38;5;241;43m.\u001b[39;49m\u001b[43mengine\u001b[49m\u001b[43m)\u001b[49m\n",
      "File \u001b[1;32md:\\Program Files\\miniconda3\\lib\\site-packages\\pandas\\io\\parsers\\readers.py:1705\u001b[0m, in \u001b[0;36mTextFileReader._make_engine\u001b[1;34m(self, f, engine)\u001b[0m\n\u001b[0;32m   1703\u001b[0m     \u001b[38;5;28;01mif\u001b[39;00m \u001b[38;5;124m\"\u001b[39m\u001b[38;5;124mb\u001b[39m\u001b[38;5;124m\"\u001b[39m \u001b[38;5;129;01mnot\u001b[39;00m \u001b[38;5;129;01min\u001b[39;00m mode:\n\u001b[0;32m   1704\u001b[0m         mode \u001b[38;5;241m+\u001b[39m\u001b[38;5;241m=\u001b[39m \u001b[38;5;124m\"\u001b[39m\u001b[38;5;124mb\u001b[39m\u001b[38;5;124m\"\u001b[39m\n\u001b[1;32m-> 1705\u001b[0m \u001b[38;5;28mself\u001b[39m\u001b[38;5;241m.\u001b[39mhandles \u001b[38;5;241m=\u001b[39m \u001b[43mget_handle\u001b[49m\u001b[43m(\u001b[49m\n\u001b[0;32m   1706\u001b[0m \u001b[43m    \u001b[49m\u001b[43mf\u001b[49m\u001b[43m,\u001b[49m\n\u001b[0;32m   1707\u001b[0m \u001b[43m    \u001b[49m\u001b[43mmode\u001b[49m\u001b[43m,\u001b[49m\n\u001b[0;32m   1708\u001b[0m \u001b[43m    \u001b[49m\u001b[43mencoding\u001b[49m\u001b[38;5;241;43m=\u001b[39;49m\u001b[38;5;28;43mself\u001b[39;49m\u001b[38;5;241;43m.\u001b[39;49m\u001b[43moptions\u001b[49m\u001b[38;5;241;43m.\u001b[39;49m\u001b[43mget\u001b[49m\u001b[43m(\u001b[49m\u001b[38;5;124;43m\"\u001b[39;49m\u001b[38;5;124;43mencoding\u001b[39;49m\u001b[38;5;124;43m\"\u001b[39;49m\u001b[43m,\u001b[49m\u001b[43m \u001b[49m\u001b[38;5;28;43;01mNone\u001b[39;49;00m\u001b[43m)\u001b[49m\u001b[43m,\u001b[49m\n\u001b[0;32m   1709\u001b[0m \u001b[43m    \u001b[49m\u001b[43mcompression\u001b[49m\u001b[38;5;241;43m=\u001b[39;49m\u001b[38;5;28;43mself\u001b[39;49m\u001b[38;5;241;43m.\u001b[39;49m\u001b[43moptions\u001b[49m\u001b[38;5;241;43m.\u001b[39;49m\u001b[43mget\u001b[49m\u001b[43m(\u001b[49m\u001b[38;5;124;43m\"\u001b[39;49m\u001b[38;5;124;43mcompression\u001b[39;49m\u001b[38;5;124;43m\"\u001b[39;49m\u001b[43m,\u001b[49m\u001b[43m \u001b[49m\u001b[38;5;28;43;01mNone\u001b[39;49;00m\u001b[43m)\u001b[49m\u001b[43m,\u001b[49m\n\u001b[0;32m   1710\u001b[0m \u001b[43m    \u001b[49m\u001b[43mmemory_map\u001b[49m\u001b[38;5;241;43m=\u001b[39;49m\u001b[38;5;28;43mself\u001b[39;49m\u001b[38;5;241;43m.\u001b[39;49m\u001b[43moptions\u001b[49m\u001b[38;5;241;43m.\u001b[39;49m\u001b[43mget\u001b[49m\u001b[43m(\u001b[49m\u001b[38;5;124;43m\"\u001b[39;49m\u001b[38;5;124;43mmemory_map\u001b[39;49m\u001b[38;5;124;43m\"\u001b[39;49m\u001b[43m,\u001b[49m\u001b[43m \u001b[49m\u001b[38;5;28;43;01mFalse\u001b[39;49;00m\u001b[43m)\u001b[49m\u001b[43m,\u001b[49m\n\u001b[0;32m   1711\u001b[0m \u001b[43m    \u001b[49m\u001b[43mis_text\u001b[49m\u001b[38;5;241;43m=\u001b[39;49m\u001b[43mis_text\u001b[49m\u001b[43m,\u001b[49m\n\u001b[0;32m   1712\u001b[0m \u001b[43m    \u001b[49m\u001b[43merrors\u001b[49m\u001b[38;5;241;43m=\u001b[39;49m\u001b[38;5;28;43mself\u001b[39;49m\u001b[38;5;241;43m.\u001b[39;49m\u001b[43moptions\u001b[49m\u001b[38;5;241;43m.\u001b[39;49m\u001b[43mget\u001b[49m\u001b[43m(\u001b[49m\u001b[38;5;124;43m\"\u001b[39;49m\u001b[38;5;124;43mencoding_errors\u001b[39;49m\u001b[38;5;124;43m\"\u001b[39;49m\u001b[43m,\u001b[49m\u001b[43m \u001b[49m\u001b[38;5;124;43m\"\u001b[39;49m\u001b[38;5;124;43mstrict\u001b[39;49m\u001b[38;5;124;43m\"\u001b[39;49m\u001b[43m)\u001b[49m\u001b[43m,\u001b[49m\n\u001b[0;32m   1713\u001b[0m \u001b[43m    \u001b[49m\u001b[43mstorage_options\u001b[49m\u001b[38;5;241;43m=\u001b[39;49m\u001b[38;5;28;43mself\u001b[39;49m\u001b[38;5;241;43m.\u001b[39;49m\u001b[43moptions\u001b[49m\u001b[38;5;241;43m.\u001b[39;49m\u001b[43mget\u001b[49m\u001b[43m(\u001b[49m\u001b[38;5;124;43m\"\u001b[39;49m\u001b[38;5;124;43mstorage_options\u001b[39;49m\u001b[38;5;124;43m\"\u001b[39;49m\u001b[43m,\u001b[49m\u001b[43m \u001b[49m\u001b[38;5;28;43;01mNone\u001b[39;49;00m\u001b[43m)\u001b[49m\u001b[43m,\u001b[49m\n\u001b[0;32m   1714\u001b[0m \u001b[43m\u001b[49m\u001b[43m)\u001b[49m\n\u001b[0;32m   1715\u001b[0m \u001b[38;5;28;01massert\u001b[39;00m \u001b[38;5;28mself\u001b[39m\u001b[38;5;241m.\u001b[39mhandles \u001b[38;5;129;01mis\u001b[39;00m \u001b[38;5;129;01mnot\u001b[39;00m \u001b[38;5;28;01mNone\u001b[39;00m\n\u001b[0;32m   1716\u001b[0m f \u001b[38;5;241m=\u001b[39m \u001b[38;5;28mself\u001b[39m\u001b[38;5;241m.\u001b[39mhandles\u001b[38;5;241m.\u001b[39mhandle\n",
      "File \u001b[1;32md:\\Program Files\\miniconda3\\lib\\site-packages\\pandas\\io\\common.py:863\u001b[0m, in \u001b[0;36mget_handle\u001b[1;34m(path_or_buf, mode, encoding, compression, memory_map, is_text, errors, storage_options)\u001b[0m\n\u001b[0;32m    858\u001b[0m \u001b[38;5;28;01melif\u001b[39;00m \u001b[38;5;28misinstance\u001b[39m(handle, \u001b[38;5;28mstr\u001b[39m):\n\u001b[0;32m    859\u001b[0m     \u001b[38;5;66;03m# Check whether the filename is to be opened in binary mode.\u001b[39;00m\n\u001b[0;32m    860\u001b[0m     \u001b[38;5;66;03m# Binary mode does not support 'encoding' and 'newline'.\u001b[39;00m\n\u001b[0;32m    861\u001b[0m     \u001b[38;5;28;01mif\u001b[39;00m ioargs\u001b[38;5;241m.\u001b[39mencoding \u001b[38;5;129;01mand\u001b[39;00m \u001b[38;5;124m\"\u001b[39m\u001b[38;5;124mb\u001b[39m\u001b[38;5;124m\"\u001b[39m \u001b[38;5;129;01mnot\u001b[39;00m \u001b[38;5;129;01min\u001b[39;00m ioargs\u001b[38;5;241m.\u001b[39mmode:\n\u001b[0;32m    862\u001b[0m         \u001b[38;5;66;03m# Encoding\u001b[39;00m\n\u001b[1;32m--> 863\u001b[0m         handle \u001b[38;5;241m=\u001b[39m \u001b[38;5;28;43mopen\u001b[39;49m\u001b[43m(\u001b[49m\n\u001b[0;32m    864\u001b[0m \u001b[43m            \u001b[49m\u001b[43mhandle\u001b[49m\u001b[43m,\u001b[49m\n\u001b[0;32m    865\u001b[0m \u001b[43m            \u001b[49m\u001b[43mioargs\u001b[49m\u001b[38;5;241;43m.\u001b[39;49m\u001b[43mmode\u001b[49m\u001b[43m,\u001b[49m\n\u001b[0;32m    866\u001b[0m \u001b[43m            \u001b[49m\u001b[43mencoding\u001b[49m\u001b[38;5;241;43m=\u001b[39;49m\u001b[43mioargs\u001b[49m\u001b[38;5;241;43m.\u001b[39;49m\u001b[43mencoding\u001b[49m\u001b[43m,\u001b[49m\n\u001b[0;32m    867\u001b[0m \u001b[43m            \u001b[49m\u001b[43merrors\u001b[49m\u001b[38;5;241;43m=\u001b[39;49m\u001b[43merrors\u001b[49m\u001b[43m,\u001b[49m\n\u001b[0;32m    868\u001b[0m \u001b[43m            \u001b[49m\u001b[43mnewline\u001b[49m\u001b[38;5;241;43m=\u001b[39;49m\u001b[38;5;124;43m\"\u001b[39;49m\u001b[38;5;124;43m\"\u001b[39;49m\u001b[43m,\u001b[49m\n\u001b[0;32m    869\u001b[0m \u001b[43m        \u001b[49m\u001b[43m)\u001b[49m\n\u001b[0;32m    870\u001b[0m     \u001b[38;5;28;01melse\u001b[39;00m:\n\u001b[0;32m    871\u001b[0m         \u001b[38;5;66;03m# Binary mode\u001b[39;00m\n\u001b[0;32m    872\u001b[0m         handle \u001b[38;5;241m=\u001b[39m \u001b[38;5;28mopen\u001b[39m(handle, ioargs\u001b[38;5;241m.\u001b[39mmode)\n",
      "\u001b[1;31mFileNotFoundError\u001b[0m: [Errno 2] No such file or directory: '../datasets/israel-palestine_conflict_history/final_whisper_transcript.csv'"
     ]
    }
   ],
   "source": [
    "final_cov_vax = pd.read_csv('../datasets/covid_vaccine/final_whisper_transcript.csv')"
   ]
  },
  {
   "cell_type": "code",
   "execution_count": null,
   "id": "a0f405ef",
   "metadata": {},
   "outputs": [],
   "source": [
    "whisper_trans_covidvax = whisper_transcribe(covid_vax_df[100:].reset_index())"
   ]
  },
  {
   "cell_type": "code",
   "execution_count": null,
   "id": "c74cf5bb",
   "metadata": {},
   "outputs": [],
   "source": [
    "whisper_trans_covidvax"
   ]
  },
  {
   "cell_type": "code",
   "execution_count": null,
   "id": "a0879fd8",
   "metadata": {},
   "outputs": [],
   "source": [
    "final_cov_vax = pd.concat([final_cov_vax,whisper_trans_covidvax],ignore_index=True)"
   ]
  },
  {
   "cell_type": "code",
   "execution_count": null,
   "id": "2a530f5d",
   "metadata": {},
   "outputs": [],
   "source": [
    "final_cov_vax.to_csv('../datasets/covid_vaccine/final_whisper_transcript.csv')"
   ]
  },
  {
   "cell_type": "code",
   "execution_count": null,
   "id": "fcbb5bf9",
   "metadata": {},
   "outputs": [],
   "source": [
    "whisper_trans_covidPH =whisper_transcribe(covid_ph_df[:5])"
   ]
  },
  {
   "cell_type": "code",
   "execution_count": null,
   "id": "c1bd26c0",
   "metadata": {},
   "outputs": [],
   "source": [
    "whisper_trans_covidPH"
   ]
  },
  {
   "cell_type": "code",
   "execution_count": null,
   "id": "91e2458e",
   "metadata": {},
   "outputs": [],
   "source": [
    "final_transcript = whisper_trans_covidPH.copy()"
   ]
  },
  {
   "cell_type": "code",
   "execution_count": null,
   "id": "3a3eaf3e",
   "metadata": {},
   "outputs": [],
   "source": [
    "covid_ph_df[5:50]"
   ]
  },
  {
   "cell_type": "code",
   "execution_count": null,
   "id": "a1144727",
   "metadata": {},
   "outputs": [],
   "source": [
    "whisper_trans_covidPH =whisper_transcribe(covid_ph_df[5:50].reset_index())"
   ]
  },
  {
   "cell_type": "code",
   "execution_count": null,
   "id": "0f0f4b5c",
   "metadata": {},
   "outputs": [],
   "source": [
    "whisper_trans_covidPH"
   ]
  },
  {
   "cell_type": "code",
   "execution_count": null,
   "id": "24ae03d7",
   "metadata": {},
   "outputs": [],
   "source": [
    "whisper_trans_covidPH['video_transcript'].isna().sum()"
   ]
  },
  {
   "cell_type": "code",
   "execution_count": null,
   "id": "4229a2e1",
   "metadata": {},
   "outputs": [],
   "source": [
    "whisper_trans_covidPH['final_transcript'].isna().sum()"
   ]
  },
  {
   "cell_type": "code",
   "execution_count": null,
   "id": "f5e89548",
   "metadata": {},
   "outputs": [],
   "source": [
    "final_transcript = pd.concat([final_transcript,whisper_trans_covidPH],ignore_index=True)\n"
   ]
  },
  {
   "cell_type": "code",
   "execution_count": null,
   "id": "54d637f7",
   "metadata": {},
   "outputs": [],
   "source": [
    "whisper_trans_covidPH =whisper_transcribe(covid_ph_df[50:100].reset_index())"
   ]
  },
  {
   "cell_type": "code",
   "execution_count": null,
   "id": "9a1cb235",
   "metadata": {},
   "outputs": [],
   "source": [
    "len(whisper_trans_covidPH)"
   ]
  },
  {
   "cell_type": "code",
   "execution_count": null,
   "id": "850ceca9",
   "metadata": {},
   "outputs": [],
   "source": [
    "final_transcript = pd.concat([final_transcript,whisper_trans_covidPH],ignore_index=True)\n"
   ]
  },
  {
   "cell_type": "code",
   "execution_count": null,
   "id": "e1eb4ede",
   "metadata": {},
   "outputs": [],
   "source": [
    "#final_transcript = final_transcript.reset_index(drop=True)\n",
    "final_transcript.reset_index(drop=True,inplace=True)\n",
    "final_transcript"
   ]
  },
  {
   "cell_type": "code",
   "execution_count": null,
   "id": "d6afb5a7",
   "metadata": {},
   "outputs": [],
   "source": [
    "\n",
    "final_transcript.to_csv('../datasets/covid_philippines/whisper_transcript.csv') #saved it so no need to repeaat the whole thing if kernel crash"
   ]
  },
  {
   "cell_type": "code",
   "execution_count": null,
   "id": "b1fded01",
   "metadata": {},
   "outputs": [],
   "source": [
    "whisper_trans_covidPH =whisper_transcribe(covid_ph_df[100:].reset_index())"
   ]
  },
  {
   "cell_type": "code",
   "execution_count": null,
   "id": "f3c172c5",
   "metadata": {},
   "outputs": [],
   "source": [
    "whisper_trans_covidPH"
   ]
  },
  {
   "cell_type": "code",
   "execution_count": null,
   "id": "a4648e13",
   "metadata": {},
   "outputs": [],
   "source": [
    "final_transcript = pd.concat([final_transcript,whisper_trans_covidPH],ignore_index=True)\n"
   ]
  },
  {
   "cell_type": "code",
   "execution_count": null,
   "id": "14278ef7",
   "metadata": {},
   "outputs": [],
   "source": [
    "final_transcript"
   ]
  },
  {
   "cell_type": "code",
   "execution_count": null,
   "id": "020f8fb0",
   "metadata": {},
   "outputs": [],
   "source": [
    "final_transcript.loc[final_transcript['final_transcript'] =='nan'] = float(np.nan)"
   ]
  },
  {
   "cell_type": "code",
   "execution_count": null,
   "id": "81d24c88",
   "metadata": {},
   "outputs": [],
   "source": [
    "final_transcript['final_transcript'].isna().sum()"
   ]
  },
  {
   "cell_type": "code",
   "execution_count": null,
   "id": "6a935fca",
   "metadata": {},
   "outputs": [],
   "source": [
    "covid_ph_df['video_transcript'].isna().sum()"
   ]
  },
  {
   "cell_type": "code",
   "execution_count": null,
   "id": "0418da08",
   "metadata": {},
   "outputs": [],
   "source": [
    "covid_ph_df"
   ]
  },
  {
   "cell_type": "code",
   "execution_count": null,
   "id": "8301bfce",
   "metadata": {},
   "outputs": [],
   "source": [
    "final_transcript.to_csv('../datasets/covid_philippines/final_whisper_transcript.csv') #saved it so no need to repeaat the whole thing if kernel crash\n"
   ]
  },
  {
   "cell_type": "code",
   "execution_count": null,
   "id": "9d0af940",
   "metadata": {},
   "outputs": [],
   "source": [
    "for i in range(len(covid_ph_df)):\n",
    "    if covid_ph_df['video_id'][i]!=final_transcript['video_id'][i]:\n",
    "        print(f\"{i} covid ph {covid_ph_df['video_id'][i]} final transcript {final_transcript['video_id'][i]}\")\n",
    "        #break;"
   ]
  },
  {
   "cell_type": "code",
   "execution_count": null,
   "id": "3efa7c3b",
   "metadata": {},
   "outputs": [],
   "source": [
    "\n",
    "print(final_transcript['video_id'][45:55])\n"
   ]
  },
  {
   "cell_type": "code",
   "execution_count": null,
   "id": "95e342b6",
   "metadata": {},
   "outputs": [],
   "source": [
    "print(covid_ph_df['video_id'][45:55])"
   ]
  },
  {
   "cell_type": "code",
   "execution_count": null,
   "id": "ba51bed0",
   "metadata": {},
   "outputs": [],
   "source": [
    "covid_ph_df=covid_ph_df.drop(index=50,axis=0)\n",
    "covid_ph_df.reset_index(drop=True,inplace=True)\n",
    "covid_ph_df"
   ]
  },
  {
   "cell_type": "code",
   "execution_count": null,
   "id": "33382275",
   "metadata": {},
   "outputs": [],
   "source": [
    "final_transcript = pd.read_csv(\"../datasets/covid_philippines/final_whisper_transcript.csv\").drop(\"Unnamed: 0\", axis=1)"
   ]
  },
  {
   "cell_type": "code",
   "execution_count": null,
   "id": "0d9991b0",
   "metadata": {},
   "outputs": [],
   "source": [
    "covid_ph_df"
   ]
  },
  {
   "cell_type": "code",
   "execution_count": null,
   "id": "55b47d6a",
   "metadata": {},
   "outputs": [],
   "source": [
    "len(final_transcript)"
   ]
  },
  {
   "cell_type": "code",
   "execution_count": null,
   "id": "d4afdfcb",
   "metadata": {},
   "outputs": [],
   "source": [
    "len(covid_ph_df)"
   ]
  },
  {
   "cell_type": "code",
   "execution_count": null,
   "id": "aecf457c",
   "metadata": {},
   "outputs": [],
   "source": [
    "covid_ph_df.loc[final_transcript['video_id'].isna()]"
   ]
  },
  {
   "cell_type": "code",
   "execution_count": null,
   "id": "edf32916",
   "metadata": {},
   "outputs": [],
   "source": [
    "#whisper_trans_covidPH =whisper_transcribe(covid_ph_df.loc[final_transcript['video_id'].isna()].reset_index())"
   ]
  },
  {
   "cell_type": "code",
   "execution_count": null,
   "id": "ed3e5982",
   "metadata": {},
   "outputs": [],
   "source": [
    "#final_transcript['video_id'].isna().sum()"
   ]
  },
  {
   "cell_type": "code",
   "execution_count": null,
   "id": "8075b957",
   "metadata": {},
   "outputs": [],
   "source": [
    "final_transcript[final_transcript['video_id'].isna()]"
   ]
  },
  {
   "cell_type": "code",
   "execution_count": null,
   "id": "a4fd3e10",
   "metadata": {},
   "outputs": [],
   "source": [
    "whisper_trans_covidPH"
   ]
  },
  {
   "cell_type": "code",
   "execution_count": null,
   "id": "bd7f9bb7",
   "metadata": {},
   "outputs": [],
   "source": [
    "#somee video_id was nan at some point disregard this\n",
    "'''import math\n",
    "w= whisper_trans_covidPH.copy()\n",
    "final =final_transcript.copy()\n",
    "\n",
    "j=0\n",
    "for i in range(len(final)):\n",
    "    if final['video_id'][i]==None or final['video_id'][i]==np.nan:\n",
    "        final.loc[i,'video_id'] = whisper_trans_covidPH['video_id'][j]\n",
    "        final.loc[i,'video_transcript'] = whisper_trans_covidPH['video_transcript'][j]\n",
    "        final.loc[i,'final_transcript'] = whisper_trans_covidPH['final_transcript'][j]\n",
    "        j+=1\n",
    "    elif type(final['video_id'][i]) ==float and math.isnan(final['video_id'][i]):\n",
    "        final.loc[i,'video_id'] = whisper_trans_covidPH['video_id'][j]\n",
    "        final.loc[i,'video_transcript'] = whisper_trans_covidPH['video_transcript'][j]\n",
    "        final.loc[i,'final_transcript'] = whisper_trans_covidPH['final_transcript'][j]\n",
    "        j+=1\n",
    "    #j+=1'''"
   ]
  },
  {
   "cell_type": "code",
   "execution_count": null,
   "id": "9c21da36",
   "metadata": {},
   "outputs": [],
   "source": [
    "final_transcript.to_csv('../datasets/covid_philippines/final_whisper_transcript.csv') #saved it so no need to repeaat the whole thing if kernel crash\n"
   ]
  },
  {
   "cell_type": "code",
   "execution_count": null,
   "id": "8172b96e",
   "metadata": {},
   "outputs": [],
   "source": []
  }
 ],
 "metadata": {
  "kernelspec": {
   "display_name": "Python 3 (ipykernel)",
   "language": "python",
   "name": "python3"
  },
  "language_info": {
   "codemirror_mode": {
    "name": "ipython",
    "version": 3
   },
   "file_extension": ".py",
   "mimetype": "text/x-python",
   "name": "python",
   "nbconvert_exporter": "python",
   "pygments_lexer": "ipython3",
   "version": "3.9.12"
  }
 },
 "nbformat": 4,
 "nbformat_minor": 5
}
