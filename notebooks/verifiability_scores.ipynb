{
 "cells": [
  {
   "cell_type": "code",
   "execution_count": 1,
   "id": "34f2d785-a10a-4734-b709-10a1860e67d7",
   "metadata": {
    "tags": []
   },
   "outputs": [],
   "source": [
    "import pandas as pd\n",
    "import numpy as np\n",
    "from topsis import topsis\n",
    "from tqdm import tqdm\n",
    "from math import ceil\n",
    "from math import sqrt"
   ]
  },
  {
   "cell_type": "code",
   "execution_count": 2,
   "id": "56e38477-ba56-45ab-8821-13ec9871de8e",
   "metadata": {
    "tags": []
   },
   "outputs": [],
   "source": [
    "main_folder = \"covid_vaccine\""
   ]
  },
  {
   "cell_type": "code",
   "execution_count": 3,
   "id": "70ed2b2f-c084-4434-908f-378c11f07e38",
   "metadata": {
    "tags": []
   },
   "outputs": [],
   "source": [
    "sb_path = \"../datasets/\" + main_folder + \"/source_backlinks.csv\"\n",
    "sc_path = \"../datasets/\" + main_folder + \"/source_check.csv\""
   ]
  },
  {
   "cell_type": "code",
   "execution_count": 4,
   "id": "15da7ca9-0ef6-4c06-9301-9c46d9621494",
   "metadata": {
    "tags": []
   },
   "outputs": [],
   "source": [
    "sb_df = pd.read_csv(sb_path).drop(\"Unnamed: 0\", axis=1)\n",
    "sc_df = pd.read_csv(sc_path).drop(\"Unnamed: 0\", axis=1)"
   ]
  },
  {
   "cell_type": "code",
   "execution_count": 5,
   "id": "f438ffee-1257-4cae-9cce-d2bda935be6b",
   "metadata": {
    "tags": []
   },
   "outputs": [
    {
     "data": {
      "text/html": [
       "<div>\n",
       "<style scoped>\n",
       "    .dataframe tbody tr th:only-of-type {\n",
       "        vertical-align: middle;\n",
       "    }\n",
       "\n",
       "    .dataframe tbody tr th {\n",
       "        vertical-align: top;\n",
       "    }\n",
       "\n",
       "    .dataframe thead th {\n",
       "        text-align: right;\n",
       "    }\n",
       "</style>\n",
       "<table border=\"1\" class=\"dataframe\">\n",
       "  <thead>\n",
       "    <tr style=\"text-align: right;\">\n",
       "      <th></th>\n",
       "      <th>channel_id</th>\n",
       "      <th>channel_name</th>\n",
       "      <th>LinkedIn</th>\n",
       "      <th>Wiki</th>\n",
       "      <th>Website</th>\n",
       "      <th>Twitter</th>\n",
       "      <th>Facebook</th>\n",
       "    </tr>\n",
       "  </thead>\n",
       "  <tbody>\n",
       "    <tr>\n",
       "      <th>0</th>\n",
       "      <td>UCIALMKvObZNtJ6AmdCLP7Lg</td>\n",
       "      <td>Bloomberg Television</td>\n",
       "      <td>751</td>\n",
       "      <td>1237</td>\n",
       "      <td>0</td>\n",
       "      <td>0</td>\n",
       "      <td>30052</td>\n",
       "    </tr>\n",
       "    <tr>\n",
       "      <th>1</th>\n",
       "      <td>UC0vn8ISa4LKMunLbzaXLnOQ</td>\n",
       "      <td>GBNews</td>\n",
       "      <td>0</td>\n",
       "      <td>1076</td>\n",
       "      <td>995</td>\n",
       "      <td>12753</td>\n",
       "      <td>9645</td>\n",
       "    </tr>\n",
       "    <tr>\n",
       "      <th>2</th>\n",
       "      <td>UCLbidg2ZT49dWrxDkwNKr0g</td>\n",
       "      <td>Doc Schmidt</td>\n",
       "      <td>0</td>\n",
       "      <td>27185</td>\n",
       "      <td>1</td>\n",
       "      <td>0</td>\n",
       "      <td>0</td>\n",
       "    </tr>\n",
       "    <tr>\n",
       "      <th>3</th>\n",
       "      <td>UCaZ2jG4qd1vY-Tkwiq9FBlw</td>\n",
       "      <td>Rich Black Guy</td>\n",
       "      <td>1</td>\n",
       "      <td>0</td>\n",
       "      <td>1</td>\n",
       "      <td>10</td>\n",
       "      <td>0</td>\n",
       "    </tr>\n",
       "    <tr>\n",
       "      <th>4</th>\n",
       "      <td>UC_gUM8rL-Lrg6O3adPW9K1g</td>\n",
       "      <td>WION</td>\n",
       "      <td>0</td>\n",
       "      <td>820</td>\n",
       "      <td>9070</td>\n",
       "      <td>73</td>\n",
       "      <td>0</td>\n",
       "    </tr>\n",
       "  </tbody>\n",
       "</table>\n",
       "</div>"
      ],
      "text/plain": [
       "                 channel_id          channel_name  LinkedIn   Wiki  Website  \\\n",
       "0  UCIALMKvObZNtJ6AmdCLP7Lg  Bloomberg Television       751   1237        0   \n",
       "1  UC0vn8ISa4LKMunLbzaXLnOQ                GBNews         0   1076      995   \n",
       "2  UCLbidg2ZT49dWrxDkwNKr0g           Doc Schmidt         0  27185        1   \n",
       "3  UCaZ2jG4qd1vY-Tkwiq9FBlw        Rich Black Guy         1      0        1   \n",
       "4  UC_gUM8rL-Lrg6O3adPW9K1g                  WION         0    820     9070   \n",
       "\n",
       "   Twitter  Facebook  \n",
       "0        0     30052  \n",
       "1    12753      9645  \n",
       "2        0         0  \n",
       "3       10         0  \n",
       "4       73         0  "
      ]
     },
     "execution_count": 5,
     "metadata": {},
     "output_type": "execute_result"
    }
   ],
   "source": [
    "sb_df.head()"
   ]
  },
  {
   "cell_type": "code",
   "execution_count": 6,
   "id": "7c3052ce-cb1f-4c16-a5a1-6f4589bdfe43",
   "metadata": {
    "tags": []
   },
   "outputs": [
    {
     "data": {
      "text/html": [
       "<div>\n",
       "<style scoped>\n",
       "    .dataframe tbody tr th:only-of-type {\n",
       "        vertical-align: middle;\n",
       "    }\n",
       "\n",
       "    .dataframe tbody tr th {\n",
       "        vertical-align: top;\n",
       "    }\n",
       "\n",
       "    .dataframe thead th {\n",
       "        text-align: right;\n",
       "    }\n",
       "</style>\n",
       "<table border=\"1\" class=\"dataframe\">\n",
       "  <thead>\n",
       "    <tr style=\"text-align: right;\">\n",
       "      <th></th>\n",
       "      <th>channel_id</th>\n",
       "      <th>channel_name</th>\n",
       "      <th>LinkedIn</th>\n",
       "      <th>Wiki</th>\n",
       "      <th>Website</th>\n",
       "      <th>Twitter</th>\n",
       "      <th>Facebook</th>\n",
       "    </tr>\n",
       "  </thead>\n",
       "  <tbody>\n",
       "    <tr>\n",
       "      <th>0</th>\n",
       "      <td>UCIALMKvObZNtJ6AmdCLP7Lg</td>\n",
       "      <td>Bloomberg Television</td>\n",
       "      <td>True</td>\n",
       "      <td>True</td>\n",
       "      <td>False</td>\n",
       "      <td>False</td>\n",
       "      <td>True</td>\n",
       "    </tr>\n",
       "    <tr>\n",
       "      <th>1</th>\n",
       "      <td>UC0vn8ISa4LKMunLbzaXLnOQ</td>\n",
       "      <td>GBNews</td>\n",
       "      <td>False</td>\n",
       "      <td>True</td>\n",
       "      <td>True</td>\n",
       "      <td>True</td>\n",
       "      <td>True</td>\n",
       "    </tr>\n",
       "    <tr>\n",
       "      <th>2</th>\n",
       "      <td>UCLbidg2ZT49dWrxDkwNKr0g</td>\n",
       "      <td>Doc Schmidt</td>\n",
       "      <td>True</td>\n",
       "      <td>True</td>\n",
       "      <td>True</td>\n",
       "      <td>True</td>\n",
       "      <td>True</td>\n",
       "    </tr>\n",
       "    <tr>\n",
       "      <th>3</th>\n",
       "      <td>UCaZ2jG4qd1vY-Tkwiq9FBlw</td>\n",
       "      <td>Rich Black Guy</td>\n",
       "      <td>True</td>\n",
       "      <td>False</td>\n",
       "      <td>True</td>\n",
       "      <td>True</td>\n",
       "      <td>True</td>\n",
       "    </tr>\n",
       "    <tr>\n",
       "      <th>4</th>\n",
       "      <td>UC_gUM8rL-Lrg6O3adPW9K1g</td>\n",
       "      <td>WION</td>\n",
       "      <td>False</td>\n",
       "      <td>True</td>\n",
       "      <td>True</td>\n",
       "      <td>True</td>\n",
       "      <td>True</td>\n",
       "    </tr>\n",
       "  </tbody>\n",
       "</table>\n",
       "</div>"
      ],
      "text/plain": [
       "                 channel_id          channel_name  LinkedIn   Wiki  Website  \\\n",
       "0  UCIALMKvObZNtJ6AmdCLP7Lg  Bloomberg Television      True   True    False   \n",
       "1  UC0vn8ISa4LKMunLbzaXLnOQ                GBNews     False   True     True   \n",
       "2  UCLbidg2ZT49dWrxDkwNKr0g           Doc Schmidt      True   True     True   \n",
       "3  UCaZ2jG4qd1vY-Tkwiq9FBlw        Rich Black Guy      True  False     True   \n",
       "4  UC_gUM8rL-Lrg6O3adPW9K1g                  WION     False   True     True   \n",
       "\n",
       "   Twitter  Facebook  \n",
       "0    False      True  \n",
       "1     True      True  \n",
       "2     True      True  \n",
       "3     True      True  \n",
       "4     True      True  "
      ]
     },
     "execution_count": 6,
     "metadata": {},
     "output_type": "execute_result"
    }
   ],
   "source": [
    "sc_df.head()"
   ]
  },
  {
   "cell_type": "markdown",
   "id": "d9fb0e49-9ee5-4f65-af38-e998bcf7689c",
   "metadata": {},
   "source": [
    "---"
   ]
  },
  {
   "cell_type": "code",
   "execution_count": 7,
   "id": "86e2054b-abf7-4cbd-8489-a52fce666386",
   "metadata": {
    "tags": []
   },
   "outputs": [],
   "source": [
    "comp_dict = {}\n",
    "comp_dict[\"channel_id\"] = {}\n",
    "comp_dict[\"profiles\"] = {}\n",
    "comp_dict[\"external_sites\"] = {}\n",
    "\n",
    "for i in range(sc_df.shape[0]):\n",
    "    comp_dict[\"channel_id\"][i] = sc_df.iloc[i][\"channel_id\"]\n",
    "    \n",
    "    linkedIn = sc_df.iloc[i][\"LinkedIn\"]\n",
    "    wiki = sc_df.iloc[i][\"Wiki\"]\n",
    "    website = sc_df.iloc[i][\"Website\"]\n",
    "    twitter = sc_df.iloc[i][\"Twitter\"]\n",
    "    facebook = sc_df.iloc[i][\"Facebook\"]\n",
    "    \n",
    "    # print(f\"[{i}] {linkedIn}, {facebook}, {twitter}\")\n",
    "    \n",
    "    # Profiles\n",
    "    if linkedIn and (facebook or twitter):\n",
    "        comp_dict[\"profiles\"][i] = 20\n",
    "    elif (not linkedIn) and facebook and twitter:\n",
    "        comp_dict[\"profiles\"][i] = 10\n",
    "    elif (not linkedIn) and (facebook or twitter):\n",
    "        comp_dict[\"profiles\"][i] = 5\n",
    "    elif (not linkedIn) and (not facebook) and (not twitter):\n",
    "        comp_dict[\"profiles\"][i] = 0\n",
    "    \n",
    "    # External Sites\n",
    "    if wiki and website:\n",
    "        comp_dict[\"external_sites\"][i] = 20\n",
    "    elif wiki and not website:\n",
    "        comp_dict[\"external_sites\"][i] = 10\n",
    "    elif not wiki and website:\n",
    "        comp_dict[\"external_sites\"][i] = 5\n",
    "    elif not wiki and not website:\n",
    "        comp_dict[\"external_sites\"][i] = 0"
   ]
  },
  {
   "cell_type": "code",
   "execution_count": 8,
   "id": "a8acd99d-c5f8-4333-a3d2-5f03b0646fd5",
   "metadata": {
    "tags": []
   },
   "outputs": [],
   "source": [
    "comp_df = pd.DataFrame.from_dict(comp_dict)\n",
    "comp_df = pd.concat([comp_df, sb_df[[\"LinkedIn\", \"Wiki\", \"Website\", \"Twitter\", \"Facebook\"]]], axis=1)"
   ]
  },
  {
   "cell_type": "code",
   "execution_count": 9,
   "id": "aae42442-2a70-4cf5-84ca-ec6966210e96",
   "metadata": {
    "tags": []
   },
   "outputs": [
    {
     "data": {
      "text/html": [
       "<div>\n",
       "<style scoped>\n",
       "    .dataframe tbody tr th:only-of-type {\n",
       "        vertical-align: middle;\n",
       "    }\n",
       "\n",
       "    .dataframe tbody tr th {\n",
       "        vertical-align: top;\n",
       "    }\n",
       "\n",
       "    .dataframe thead th {\n",
       "        text-align: right;\n",
       "    }\n",
       "</style>\n",
       "<table border=\"1\" class=\"dataframe\">\n",
       "  <thead>\n",
       "    <tr style=\"text-align: right;\">\n",
       "      <th></th>\n",
       "      <th>channel_id</th>\n",
       "      <th>profiles</th>\n",
       "      <th>external_sites</th>\n",
       "      <th>LinkedIn</th>\n",
       "      <th>Wiki</th>\n",
       "      <th>Website</th>\n",
       "      <th>Twitter</th>\n",
       "      <th>Facebook</th>\n",
       "    </tr>\n",
       "  </thead>\n",
       "  <tbody>\n",
       "    <tr>\n",
       "      <th>0</th>\n",
       "      <td>UCIALMKvObZNtJ6AmdCLP7Lg</td>\n",
       "      <td>20</td>\n",
       "      <td>10</td>\n",
       "      <td>751</td>\n",
       "      <td>1237</td>\n",
       "      <td>0</td>\n",
       "      <td>0</td>\n",
       "      <td>30052</td>\n",
       "    </tr>\n",
       "    <tr>\n",
       "      <th>1</th>\n",
       "      <td>UC0vn8ISa4LKMunLbzaXLnOQ</td>\n",
       "      <td>10</td>\n",
       "      <td>20</td>\n",
       "      <td>0</td>\n",
       "      <td>1076</td>\n",
       "      <td>995</td>\n",
       "      <td>12753</td>\n",
       "      <td>9645</td>\n",
       "    </tr>\n",
       "    <tr>\n",
       "      <th>2</th>\n",
       "      <td>UCLbidg2ZT49dWrxDkwNKr0g</td>\n",
       "      <td>20</td>\n",
       "      <td>20</td>\n",
       "      <td>0</td>\n",
       "      <td>27185</td>\n",
       "      <td>1</td>\n",
       "      <td>0</td>\n",
       "      <td>0</td>\n",
       "    </tr>\n",
       "    <tr>\n",
       "      <th>3</th>\n",
       "      <td>UCaZ2jG4qd1vY-Tkwiq9FBlw</td>\n",
       "      <td>20</td>\n",
       "      <td>5</td>\n",
       "      <td>1</td>\n",
       "      <td>0</td>\n",
       "      <td>1</td>\n",
       "      <td>10</td>\n",
       "      <td>0</td>\n",
       "    </tr>\n",
       "    <tr>\n",
       "      <th>4</th>\n",
       "      <td>UC_gUM8rL-Lrg6O3adPW9K1g</td>\n",
       "      <td>10</td>\n",
       "      <td>20</td>\n",
       "      <td>0</td>\n",
       "      <td>820</td>\n",
       "      <td>9070</td>\n",
       "      <td>73</td>\n",
       "      <td>0</td>\n",
       "    </tr>\n",
       "  </tbody>\n",
       "</table>\n",
       "</div>"
      ],
      "text/plain": [
       "                 channel_id  profiles  external_sites  LinkedIn   Wiki  \\\n",
       "0  UCIALMKvObZNtJ6AmdCLP7Lg        20              10       751   1237   \n",
       "1  UC0vn8ISa4LKMunLbzaXLnOQ        10              20         0   1076   \n",
       "2  UCLbidg2ZT49dWrxDkwNKr0g        20              20         0  27185   \n",
       "3  UCaZ2jG4qd1vY-Tkwiq9FBlw        20               5         1      0   \n",
       "4  UC_gUM8rL-Lrg6O3adPW9K1g        10              20         0    820   \n",
       "\n",
       "   Website  Twitter  Facebook  \n",
       "0        0        0     30052  \n",
       "1      995    12753      9645  \n",
       "2        1        0         0  \n",
       "3        1       10         0  \n",
       "4     9070       73         0  "
      ]
     },
     "execution_count": 9,
     "metadata": {},
     "output_type": "execute_result"
    }
   ],
   "source": [
    "comp_df.head()"
   ]
  },
  {
   "cell_type": "code",
   "execution_count": 10,
   "id": "4ba1584e-5d50-45ca-9954-a1c94aba3e50",
   "metadata": {
    "tags": []
   },
   "outputs": [],
   "source": [
    "weights = {\n",
    "    \"profiles\": 0.10,\n",
    "    \"external_sites\": 0.10,\n",
    "    \"LinkedIn\": 0.25,\n",
    "    \"Wiki\": 0.25,\n",
    "    \"Website\": 0.10,\n",
    "    \"Twitter\": 0.10,\n",
    "    \"Facebook\": 0.10\n",
    "}"
   ]
  },
  {
   "cell_type": "code",
   "execution_count": 11,
   "id": "0090cb14-a424-4ee2-8b65-379b17d42f51",
   "metadata": {
    "tags": []
   },
   "outputs": [],
   "source": [
    "comp_df[\"vs\"] = topsis(comp_df, weights)"
   ]
  },
  {
   "cell_type": "code",
   "execution_count": 12,
   "id": "0c1800cf-c16b-4389-afd0-4204451c9a6b",
   "metadata": {
    "tags": []
   },
   "outputs": [
    {
     "data": {
      "text/html": [
       "<div>\n",
       "<style scoped>\n",
       "    .dataframe tbody tr th:only-of-type {\n",
       "        vertical-align: middle;\n",
       "    }\n",
       "\n",
       "    .dataframe tbody tr th {\n",
       "        vertical-align: top;\n",
       "    }\n",
       "\n",
       "    .dataframe thead th {\n",
       "        text-align: right;\n",
       "    }\n",
       "</style>\n",
       "<table border=\"1\" class=\"dataframe\">\n",
       "  <thead>\n",
       "    <tr style=\"text-align: right;\">\n",
       "      <th></th>\n",
       "      <th>channel_id</th>\n",
       "      <th>vs</th>\n",
       "    </tr>\n",
       "  </thead>\n",
       "  <tbody>\n",
       "    <tr>\n",
       "      <th>0</th>\n",
       "      <td>UCupvZG-5ko_eiXAupbDfxWw</td>\n",
       "      <td>0.781417</td>\n",
       "    </tr>\n",
       "    <tr>\n",
       "      <th>1</th>\n",
       "      <td>UCPWXiRWZ29zrxPFIQT7eHSA</td>\n",
       "      <td>0.398260</td>\n",
       "    </tr>\n",
       "    <tr>\n",
       "      <th>2</th>\n",
       "      <td>UC16niRr50-MSBwiO3YDb3RA</td>\n",
       "      <td>0.262098</td>\n",
       "    </tr>\n",
       "    <tr>\n",
       "      <th>3</th>\n",
       "      <td>UC52X5wxOL_s5yw0dQk7NtgA</td>\n",
       "      <td>0.242914</td>\n",
       "    </tr>\n",
       "    <tr>\n",
       "      <th>4</th>\n",
       "      <td>UCi8URBP1KDF0KuG_ntPFS2w</td>\n",
       "      <td>0.242914</td>\n",
       "    </tr>\n",
       "    <tr>\n",
       "      <th>...</th>\n",
       "      <td>...</td>\n",
       "      <td>...</td>\n",
       "    </tr>\n",
       "    <tr>\n",
       "      <th>101</th>\n",
       "      <td>UC3prwMn9aU2z5Y158ZdGyyA</td>\n",
       "      <td>0.000000</td>\n",
       "    </tr>\n",
       "    <tr>\n",
       "      <th>102</th>\n",
       "      <td>UCG5TBPANNSiKf1Dp-R5Dibg</td>\n",
       "      <td>0.000000</td>\n",
       "    </tr>\n",
       "    <tr>\n",
       "      <th>103</th>\n",
       "      <td>UCf3BkFTwI4G1vMc6W-NpQNw</td>\n",
       "      <td>0.000000</td>\n",
       "    </tr>\n",
       "    <tr>\n",
       "      <th>104</th>\n",
       "      <td>UCrmxzSIf7J66qvlOAT9AlZQ</td>\n",
       "      <td>0.000000</td>\n",
       "    </tr>\n",
       "    <tr>\n",
       "      <th>105</th>\n",
       "      <td>UCmtPDgiOcMStJt-f12yGTpg</td>\n",
       "      <td>0.000000</td>\n",
       "    </tr>\n",
       "  </tbody>\n",
       "</table>\n",
       "<p>106 rows × 2 columns</p>\n",
       "</div>"
      ],
      "text/plain": [
       "                   channel_id        vs\n",
       "0    UCupvZG-5ko_eiXAupbDfxWw  0.781417\n",
       "1    UCPWXiRWZ29zrxPFIQT7eHSA  0.398260\n",
       "2    UC16niRr50-MSBwiO3YDb3RA  0.262098\n",
       "3    UC52X5wxOL_s5yw0dQk7NtgA  0.242914\n",
       "4    UCi8URBP1KDF0KuG_ntPFS2w  0.242914\n",
       "..                        ...       ...\n",
       "101  UC3prwMn9aU2z5Y158ZdGyyA  0.000000\n",
       "102  UCG5TBPANNSiKf1Dp-R5Dibg  0.000000\n",
       "103  UCf3BkFTwI4G1vMc6W-NpQNw  0.000000\n",
       "104  UCrmxzSIf7J66qvlOAT9AlZQ  0.000000\n",
       "105  UCmtPDgiOcMStJt-f12yGTpg  0.000000\n",
       "\n",
       "[106 rows x 2 columns]"
      ]
     },
     "execution_count": 12,
     "metadata": {},
     "output_type": "execute_result"
    }
   ],
   "source": [
    "vs_df = comp_df[[\"channel_id\", \"vs\"]].sort_values(\"vs\", ascending=False).reset_index().drop(\"index\", axis=1)\n",
    "vs_df"
   ]
  },
  {
   "cell_type": "code",
   "execution_count": 13,
   "id": "babee691-9695-4184-9650-ee089fd054ce",
   "metadata": {
    "tags": []
   },
   "outputs": [],
   "source": [
    "path = \"../datasets/\" + main_folder + \"/verifiability_scores.csv\"\n",
    "vs_df.to_csv(path)"
   ]
  },
  {
   "cell_type": "markdown",
   "id": "8440950a-35a8-4adf-ab09-2dc2e64817ee",
   "metadata": {},
   "source": [
    "---"
   ]
  },
  {
   "cell_type": "code",
   "execution_count": 14,
   "id": "c0eb2642-54a0-4fcd-8f2a-9f746e3ef12b",
   "metadata": {
    "tags": []
   },
   "outputs": [
    {
     "data": {
      "text/html": [
       "<div>\n",
       "<style scoped>\n",
       "    .dataframe tbody tr th:only-of-type {\n",
       "        vertical-align: middle;\n",
       "    }\n",
       "\n",
       "    .dataframe tbody tr th {\n",
       "        vertical-align: top;\n",
       "    }\n",
       "\n",
       "    .dataframe thead th {\n",
       "        text-align: right;\n",
       "    }\n",
       "</style>\n",
       "<table border=\"1\" class=\"dataframe\">\n",
       "  <thead>\n",
       "    <tr style=\"text-align: right;\">\n",
       "      <th></th>\n",
       "      <th>channel_id</th>\n",
       "      <th>vs</th>\n",
       "    </tr>\n",
       "  </thead>\n",
       "  <tbody>\n",
       "    <tr>\n",
       "      <th>0</th>\n",
       "      <td>UCupvZG-5ko_eiXAupbDfxWw</td>\n",
       "      <td>0.781417</td>\n",
       "    </tr>\n",
       "    <tr>\n",
       "      <th>1</th>\n",
       "      <td>UCPWXiRWZ29zrxPFIQT7eHSA</td>\n",
       "      <td>0.398260</td>\n",
       "    </tr>\n",
       "    <tr>\n",
       "      <th>2</th>\n",
       "      <td>UC16niRr50-MSBwiO3YDb3RA</td>\n",
       "      <td>0.262098</td>\n",
       "    </tr>\n",
       "    <tr>\n",
       "      <th>3</th>\n",
       "      <td>UC52X5wxOL_s5yw0dQk7NtgA</td>\n",
       "      <td>0.242914</td>\n",
       "    </tr>\n",
       "    <tr>\n",
       "      <th>4</th>\n",
       "      <td>UCi8URBP1KDF0KuG_ntPFS2w</td>\n",
       "      <td>0.242914</td>\n",
       "    </tr>\n",
       "  </tbody>\n",
       "</table>\n",
       "</div>"
      ],
      "text/plain": [
       "                 channel_id        vs\n",
       "0  UCupvZG-5ko_eiXAupbDfxWw  0.781417\n",
       "1  UCPWXiRWZ29zrxPFIQT7eHSA  0.398260\n",
       "2  UC16niRr50-MSBwiO3YDb3RA  0.262098\n",
       "3  UC52X5wxOL_s5yw0dQk7NtgA  0.242914\n",
       "4  UCi8URBP1KDF0KuG_ntPFS2w  0.242914"
      ]
     },
     "execution_count": 14,
     "metadata": {},
     "output_type": "execute_result"
    }
   ],
   "source": [
    "top_5 = vs_df.head()\n",
    "top_5"
   ]
  },
  {
   "cell_type": "code",
   "execution_count": 15,
   "id": "b945ce69-0e30-4bed-84ec-879da4e24861",
   "metadata": {
    "tags": []
   },
   "outputs": [
    {
     "data": {
      "text/html": [
       "<div>\n",
       "<style scoped>\n",
       "    .dataframe tbody tr th:only-of-type {\n",
       "        vertical-align: middle;\n",
       "    }\n",
       "\n",
       "    .dataframe tbody tr th {\n",
       "        vertical-align: top;\n",
       "    }\n",
       "\n",
       "    .dataframe thead th {\n",
       "        text-align: right;\n",
       "    }\n",
       "</style>\n",
       "<table border=\"1\" class=\"dataframe\">\n",
       "  <thead>\n",
       "    <tr style=\"text-align: right;\">\n",
       "      <th></th>\n",
       "      <th>channel_id</th>\n",
       "      <th>vs</th>\n",
       "    </tr>\n",
       "  </thead>\n",
       "  <tbody>\n",
       "    <tr>\n",
       "      <th>101</th>\n",
       "      <td>UC3prwMn9aU2z5Y158ZdGyyA</td>\n",
       "      <td>0.0</td>\n",
       "    </tr>\n",
       "    <tr>\n",
       "      <th>102</th>\n",
       "      <td>UCG5TBPANNSiKf1Dp-R5Dibg</td>\n",
       "      <td>0.0</td>\n",
       "    </tr>\n",
       "    <tr>\n",
       "      <th>103</th>\n",
       "      <td>UCf3BkFTwI4G1vMc6W-NpQNw</td>\n",
       "      <td>0.0</td>\n",
       "    </tr>\n",
       "    <tr>\n",
       "      <th>104</th>\n",
       "      <td>UCrmxzSIf7J66qvlOAT9AlZQ</td>\n",
       "      <td>0.0</td>\n",
       "    </tr>\n",
       "    <tr>\n",
       "      <th>105</th>\n",
       "      <td>UCmtPDgiOcMStJt-f12yGTpg</td>\n",
       "      <td>0.0</td>\n",
       "    </tr>\n",
       "  </tbody>\n",
       "</table>\n",
       "</div>"
      ],
      "text/plain": [
       "                   channel_id   vs\n",
       "101  UC3prwMn9aU2z5Y158ZdGyyA  0.0\n",
       "102  UCG5TBPANNSiKf1Dp-R5Dibg  0.0\n",
       "103  UCf3BkFTwI4G1vMc6W-NpQNw  0.0\n",
       "104  UCrmxzSIf7J66qvlOAT9AlZQ  0.0\n",
       "105  UCmtPDgiOcMStJt-f12yGTpg  0.0"
      ]
     },
     "execution_count": 15,
     "metadata": {},
     "output_type": "execute_result"
    }
   ],
   "source": [
    "bottom_5 = vs_df.tail()\n",
    "bottom_5"
   ]
  },
  {
   "cell_type": "code",
   "execution_count": 16,
   "id": "31344ea4-255d-4119-a875-85d93b4a0ade",
   "metadata": {
    "tags": []
   },
   "outputs": [
    {
     "data": {
      "text/html": [
       "<div>\n",
       "<style scoped>\n",
       "    .dataframe tbody tr th:only-of-type {\n",
       "        vertical-align: middle;\n",
       "    }\n",
       "\n",
       "    .dataframe tbody tr th {\n",
       "        vertical-align: top;\n",
       "    }\n",
       "\n",
       "    .dataframe thead th {\n",
       "        text-align: right;\n",
       "    }\n",
       "</style>\n",
       "<table border=\"1\" class=\"dataframe\">\n",
       "  <thead>\n",
       "    <tr style=\"text-align: right;\">\n",
       "      <th></th>\n",
       "      <th>channel_id</th>\n",
       "      <th>profiles</th>\n",
       "      <th>external_sites</th>\n",
       "      <th>LinkedIn</th>\n",
       "      <th>Wiki</th>\n",
       "      <th>Website</th>\n",
       "      <th>Twitter</th>\n",
       "      <th>Facebook</th>\n",
       "      <th>vs</th>\n",
       "    </tr>\n",
       "  </thead>\n",
       "  <tbody>\n",
       "    <tr>\n",
       "      <th>37</th>\n",
       "      <td>UCupvZG-5ko_eiXAupbDfxWw</td>\n",
       "      <td>20</td>\n",
       "      <td>20</td>\n",
       "      <td>192974</td>\n",
       "      <td>353421</td>\n",
       "      <td>1278644</td>\n",
       "      <td>51138</td>\n",
       "      <td>188271</td>\n",
       "      <td>0.781417</td>\n",
       "    </tr>\n",
       "  </tbody>\n",
       "</table>\n",
       "</div>"
      ],
      "text/plain": [
       "                  channel_id  profiles  external_sites  LinkedIn    Wiki  \\\n",
       "37  UCupvZG-5ko_eiXAupbDfxWw        20              20    192974  353421   \n",
       "\n",
       "    Website  Twitter  Facebook        vs  \n",
       "37  1278644    51138    188271  0.781417  "
      ]
     },
     "execution_count": 16,
     "metadata": {},
     "output_type": "execute_result"
    }
   ],
   "source": [
    "comp_df.loc[comp_df[\"channel_id\"] == \"UCupvZG-5ko_eiXAupbDfxWw\"]"
   ]
  },
  {
   "cell_type": "code",
   "execution_count": 17,
   "id": "04ccfb42-c9ee-46a5-b5d6-e0a4c87b2805",
   "metadata": {
    "tags": []
   },
   "outputs": [
    {
     "data": {
      "text/html": [
       "<div>\n",
       "<style scoped>\n",
       "    .dataframe tbody tr th:only-of-type {\n",
       "        vertical-align: middle;\n",
       "    }\n",
       "\n",
       "    .dataframe tbody tr th {\n",
       "        vertical-align: top;\n",
       "    }\n",
       "\n",
       "    .dataframe thead th {\n",
       "        text-align: right;\n",
       "    }\n",
       "</style>\n",
       "<table border=\"1\" class=\"dataframe\">\n",
       "  <thead>\n",
       "    <tr style=\"text-align: right;\">\n",
       "      <th></th>\n",
       "      <th>channel_id</th>\n",
       "      <th>profiles</th>\n",
       "      <th>external_sites</th>\n",
       "      <th>LinkedIn</th>\n",
       "      <th>Wiki</th>\n",
       "      <th>Website</th>\n",
       "      <th>Twitter</th>\n",
       "      <th>Facebook</th>\n",
       "      <th>vs</th>\n",
       "    </tr>\n",
       "  </thead>\n",
       "  <tbody>\n",
       "    <tr>\n",
       "      <th>59</th>\n",
       "      <td>UCmtPDgiOcMStJt-f12yGTpg</td>\n",
       "      <td>0</td>\n",
       "      <td>0</td>\n",
       "      <td>0</td>\n",
       "      <td>0</td>\n",
       "      <td>0</td>\n",
       "      <td>0</td>\n",
       "      <td>0</td>\n",
       "      <td>0.0</td>\n",
       "    </tr>\n",
       "  </tbody>\n",
       "</table>\n",
       "</div>"
      ],
      "text/plain": [
       "                  channel_id  profiles  external_sites  LinkedIn  Wiki  \\\n",
       "59  UCmtPDgiOcMStJt-f12yGTpg         0               0         0     0   \n",
       "\n",
       "    Website  Twitter  Facebook   vs  \n",
       "59        0        0         0  0.0  "
      ]
     },
     "execution_count": 17,
     "metadata": {},
     "output_type": "execute_result"
    }
   ],
   "source": [
    "comp_df.loc[comp_df[\"channel_id\"] == \"UCmtPDgiOcMStJt-f12yGTpg\"]"
   ]
  },
  {
   "cell_type": "code",
   "execution_count": null,
   "id": "e16e1ac7-4aaf-49ee-984c-7609bf883b7a",
   "metadata": {},
   "outputs": [],
   "source": []
  },
  {
   "cell_type": "code",
   "execution_count": null,
   "id": "4bc12d4e-557c-4f3b-9052-fbbce1fda6f8",
   "metadata": {},
   "outputs": [],
   "source": []
  },
  {
   "cell_type": "code",
   "execution_count": null,
   "id": "1c26f926-cf92-40a6-bd21-10c687d8c716",
   "metadata": {},
   "outputs": [],
   "source": []
  },
  {
   "cell_type": "code",
   "execution_count": null,
   "id": "94577b10-9f05-4dc8-b844-830528571478",
   "metadata": {},
   "outputs": [],
   "source": []
  }
 ],
 "metadata": {
  "kernelspec": {
   "display_name": "Python 3 (ipykernel)",
   "language": "python",
   "name": "python3"
  },
  "language_info": {
   "codemirror_mode": {
    "name": "ipython",
    "version": 3
   },
   "file_extension": ".py",
   "mimetype": "text/x-python",
   "name": "python",
   "nbconvert_exporter": "python",
   "pygments_lexer": "ipython3",
   "version": "3.11.5"
  }
 },
 "nbformat": 4,
 "nbformat_minor": 5
}
